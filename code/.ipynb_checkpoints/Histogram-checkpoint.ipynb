{
 "cells": [
  {
   "cell_type": "code",
   "execution_count": 1,
   "metadata": {},
   "outputs": [],
   "source": [
    "import numpy as np\n",
    "import matplotlib\n",
    "import matplotlib.pyplot as plt\n",
    "import pandas as pd\n",
    "from sklearn import metrics\n",
    "\n",
    "import os\n",
    "from IPython.core.interactiveshell import InteractiveShell\n",
    "InteractiveShell.ast_node_interactivity = 'all'"
   ]
  },
  {
   "cell_type": "code",
   "execution_count": null,
   "metadata": {},
   "outputs": [],
   "source": [
    "import pandas as pd\n",
    "\n",
    "data = pd.read_excel(r'F:\\Program\\OneDrive\\TLNC\\ISI\\data\\data.xlsx')\n",
    "data.columns\n",
    "data"
   ]
  },
  {
   "cell_type": "code",
   "execution_count": null,
   "metadata": {},
   "outputs": [],
   "source": [
    "G = 9.81\n",
    "data['x'] = data['x'].div(G)\n",
    "data['y'] = data['y'].div(G)\n",
    "data['z'] = data['z'].div(G)\n",
    "data"
   ]
  },
  {
   "cell_type": "code",
   "execution_count": null,
   "metadata": {},
   "outputs": [],
   "source": [
    "data = data.drop(columns = 'Person')\n",
    "df = data.groupby(['State'])\n",
    "df.first()"
   ]
  },
  {
   "cell_type": "code",
   "execution_count": null,
   "metadata": {},
   "outputs": [],
   "source": [
    "Downstairs = df.get_group(('Downstairs'))\n",
    "Jogging = df.get_group(('Jogging'))\n",
    "Sitting = df.get_group(('Sitting'))\n",
    "Standing = df.get_group(('Standing'))\n",
    "Upstairs = df.get_group(('Upstairs'))\n",
    "Walking = df.get_group(('Walking'))\n",
    "\n",
    "len(Downstairs)\n",
    "len(Jogging)\n",
    "len(Sitting)\n",
    "len(Standing)\n",
    "len(Upstairs)\n",
    "len(Walking)"
   ]
  },
  {
   "cell_type": "code",
   "execution_count": null,
   "metadata": {},
   "outputs": [],
   "source": [
    "stand = Standing\n",
    "len(stand)\n",
    "sit = Sitting\n",
    "len(sit)\n",
    "jog = Jogging\n",
    "len(jog)\n",
    "walk = Downstairs.append(Upstairs).append(Walking)\n",
    "len(walk)"
   ]
  },
  {
   "cell_type": "code",
   "execution_count": 7,
   "metadata": {},
   "outputs": [
    {
     "data": {
      "text/plain": [
       "623178"
      ]
     },
     "execution_count": 7,
     "metadata": {},
     "output_type": "execute_result"
    },
    {
     "data": {
      "text/plain": [
       "623177"
      ]
     },
     "execution_count": 7,
     "metadata": {},
     "output_type": "execute_result"
    },
    {
     "data": {
      "text/plain": [
       "0"
      ]
     },
     "execution_count": 7,
     "metadata": {},
     "output_type": "execute_result"
    },
    {
     "data": {
      "text/plain": [
       "pandas.core.frame.DataFrame"
      ]
     },
     "execution_count": 7,
     "metadata": {},
     "output_type": "execute_result"
    }
   ],
   "source": [
    "#Check nan value & remove \n",
    "len(walk.index)\n",
    "\n",
    "walk = walk.dropna()\n",
    "walk.index = pd.RangeIndex(len(walk.index))\n",
    "len(walk.index)\n",
    "walk.isnull().sum().sum()\n",
    "\n",
    "type(walk)"
   ]
  },
  {
   "cell_type": "code",
   "execution_count": null,
   "metadata": {},
   "outputs": [],
   "source": []
  },
  {
   "cell_type": "markdown",
   "metadata": {},
   "source": [
    "# Prepare data\n",
    "\n",
    "Standing = dt[['STD', 'Unnamed: 1', 'Unnamed: 2']] \n",
    "# Delete columns contain missing value (NaN or not value)\n",
    "Standing = Standing.dropna()\n",
    "# Create index (start from 1) in first column\n",
    "Standing.index = pd.RangeIndex(len(Standing.index))\n",
    "# Drop the first row ((Xoá hàng x,y,z))\n",
    "Standing = Standing.drop(0) \n",
    "\n",
    "\n",
    "Walking_normal = dt[['WAL', 'Unnamed: 4', 'Unnamed: 5']] \n",
    "Walking_normal = Walking_normal.dropna()\n",
    "Walking_normal.index = pd.RangeIndex(len(Walking_normal.index)) \n",
    "Walking_normal = Walking_normal.drop(0)\n",
    "\n",
    "Jumping = dt[['JUM', 'Unnamed: 7', 'Unnamed: 8']] \n",
    "Jumping = Jumping.dropna()\n",
    "Jumping.index = pd.RangeIndex(len(Jumping.index)) \n",
    "Jumping = Jumping.drop(0)\n",
    "\n",
    "Jogging = dt[['JOG', 'Unnamed: 10', 'Unnamed: 11']] \n",
    "Jogging = Jogging.dropna()\n",
    "Jogging.index = pd.RangeIndex(len(Jogging.index)) \n",
    "Jogging = Jogging.drop(0)\n",
    "\n",
    "Stairs_up = dt[['STU', 'Unnamed: 13', 'Unnamed: 14']] \n",
    "Stairs_up = Stairs_up.dropna()\n",
    "Stairs_up.index = pd.RangeIndex(len(Stairs_up.index)) \n",
    "Stairs_up = Stairs_up.drop(0)\n",
    "\n",
    "Stairs_down = dt[['STN', 'Unnamed: 16', 'Unnamed: 17']] \n",
    "Stairs_down = Stairs_down.dropna()\n",
    "Stairs_down.index = pd.RangeIndex(len(Stairs_down.index)) \n",
    "Stairs_down = Stairs_down.drop(0)\n",
    "\n",
    "Fall_front_knees_lying = dt[['FKL', 'Unnamed: 19', 'Unnamed: 20']] \n",
    "Fall_front_knees_lying = Fall_front_knees_lying.dropna()\n",
    "Fall_front_knees_lying.index = pd.RangeIndex(len(Fall_front_knees_lying.index)) \n",
    "Fall_front_knees_lying = Fall_front_knees_lying.drop(0)\n",
    "\n",
    "Fall_forward_lying = dt[['FOL', 'Unnamed: 22', 'Unnamed: 23']] \n",
    "Fall_forward_lying = Fall_forward_lying.dropna()\n",
    "Fall_forward_lying.index = pd.RangeIndex(len(Fall_forward_lying.index)) \n",
    "Fall_forward_lying = Fall_forward_lying.drop(0)\n",
    "\n",
    "Sideward_lying = dt[['SDL', 'Unnamed: 25', 'Unnamed: 26']] \n",
    "Sideward_lying = Sideward_lying.dropna()\n",
    "Sideward_lying.index = pd.RangeIndex(len(Sideward_lying.index)) \n",
    "Sideward_lying = Sideward_lying.drop(0)\n"
   ]
  },
  {
   "cell_type": "code",
   "execution_count": 15,
   "metadata": {},
   "outputs": [
    {
     "data": {
      "text/plain": [
       "223432   -0.191641\n",
       "223433   -0.019368\n",
       "223434   -0.062181\n",
       "223435    0.077472\n",
       "223436    0.042813\n",
       "            ...   \n",
       "223627    0.096840\n",
       "223628    0.140673\n",
       "223629    0.198777\n",
       "223630    0.172273\n",
       "223631    0.066259\n",
       "Name: x, Length: 200, dtype: float64"
      ]
     },
     "execution_count": 15,
     "metadata": {},
     "output_type": "execute_result"
    }
   ],
   "source": [
    "stand_x = stand['x'][0:200]\n",
    "stand_y = stand['y'][0:200]\n",
    "stand_z = stand['z'][0:200]\n",
    "\n",
    "sit_x = sit['x'][0:200]\n",
    "sit_y = sit['y'][0:200]\n",
    "sit_z = sit['z'][0:200]\n",
    "\n",
    "jog_x = jog['x'][0:200]\n",
    "jog_y = jog['y'][0:200]\n",
    "jog_z = jog['z'][0:200]\n",
    "\n",
    "walk_x = walk['x'][0:200]\n",
    "walk_y = walk['y'][0:200]\n",
    "walk_z = walk['z'][0:200]\n",
    "\n",
    "stand_x"
   ]
  },
  {
   "cell_type": "code",
   "execution_count": 22,
   "metadata": {},
   "outputs": [
    {
     "data": {
      "text/plain": [
       "<matplotlib.axes._subplots.AxesSubplot at 0x1a805ce2a20>"
      ]
     },
     "execution_count": 22,
     "metadata": {},
     "output_type": "execute_result"
    },
    {
     "data": {
      "text/plain": [
       "Text(0.5, 1.0, 'Standing')"
      ]
     },
     "execution_count": 22,
     "metadata": {},
     "output_type": "execute_result"
    },
    {
     "data": {
      "text/plain": [
       "Text(0, 0.5, 'COUNTS')"
      ]
     },
     "execution_count": 22,
     "metadata": {},
     "output_type": "execute_result"
    },
    {
     "data": {
      "text/plain": [
       "Text(0.5, 0, 'ACC VALUE (g)')"
      ]
     },
     "execution_count": 22,
     "metadata": {},
     "output_type": "execute_result"
    },
    {
     "data": {
      "text/plain": [
       "(0, 210)"
      ]
     },
     "execution_count": 22,
     "metadata": {},
     "output_type": "execute_result"
    },
    {
     "data": {
      "text/plain": [
       "<Figure size 432x288 with 0 Axes>"
      ]
     },
     "execution_count": 22,
     "metadata": {},
     "output_type": "execute_result"
    },
    {
     "data": {
      "text/plain": [
       "<matplotlib.axes._subplots.AxesSubplot at 0x1a804fa9a90>"
      ]
     },
     "execution_count": 22,
     "metadata": {},
     "output_type": "execute_result"
    },
    {
     "data": {
      "text/plain": [
       "Text(0.5, 1.0, 'Sitting')"
      ]
     },
     "execution_count": 22,
     "metadata": {},
     "output_type": "execute_result"
    },
    {
     "data": {
      "text/plain": [
       "Text(0, 0.5, 'COUNTS')"
      ]
     },
     "execution_count": 22,
     "metadata": {},
     "output_type": "execute_result"
    },
    {
     "data": {
      "text/plain": [
       "Text(0.5, 0, 'ACC VALUE (g)')"
      ]
     },
     "execution_count": 22,
     "metadata": {},
     "output_type": "execute_result"
    },
    {
     "data": {
      "text/plain": [
       "(0, 210)"
      ]
     },
     "execution_count": 22,
     "metadata": {},
     "output_type": "execute_result"
    },
    {
     "data": {
      "text/plain": [
       "<Figure size 432x288 with 0 Axes>"
      ]
     },
     "execution_count": 22,
     "metadata": {},
     "output_type": "execute_result"
    },
    {
     "data": {
      "text/plain": [
       "<matplotlib.axes._subplots.AxesSubplot at 0x1a80508fa90>"
      ]
     },
     "execution_count": 22,
     "metadata": {},
     "output_type": "execute_result"
    },
    {
     "data": {
      "text/plain": [
       "Text(0.5, 1.0, 'Jogging')"
      ]
     },
     "execution_count": 22,
     "metadata": {},
     "output_type": "execute_result"
    },
    {
     "data": {
      "text/plain": [
       "Text(0, 0.5, 'COUNTS')"
      ]
     },
     "execution_count": 22,
     "metadata": {},
     "output_type": "execute_result"
    },
    {
     "data": {
      "text/plain": [
       "Text(0.5, 0, 'ACC VALUE (g)')"
      ]
     },
     "execution_count": 22,
     "metadata": {},
     "output_type": "execute_result"
    },
    {
     "data": {
      "text/plain": [
       "(0, 210)"
      ]
     },
     "execution_count": 22,
     "metadata": {},
     "output_type": "execute_result"
    },
    {
     "data": {
      "text/plain": [
       "<Figure size 432x288 with 0 Axes>"
      ]
     },
     "execution_count": 22,
     "metadata": {},
     "output_type": "execute_result"
    },
    {
     "data": {
      "text/plain": [
       "<matplotlib.axes._subplots.AxesSubplot at 0x1a804b13160>"
      ]
     },
     "execution_count": 22,
     "metadata": {},
     "output_type": "execute_result"
    },
    {
     "data": {
      "text/plain": [
       "Text(0.5, 1.0, 'Walking')"
      ]
     },
     "execution_count": 22,
     "metadata": {},
     "output_type": "execute_result"
    },
    {
     "data": {
      "text/plain": [
       "Text(0, 0.5, 'COUNTS')"
      ]
     },
     "execution_count": 22,
     "metadata": {},
     "output_type": "execute_result"
    },
    {
     "data": {
      "text/plain": [
       "Text(0.5, 0, 'ACC VALUE (g)')"
      ]
     },
     "execution_count": 22,
     "metadata": {},
     "output_type": "execute_result"
    },
    {
     "data": {
      "text/plain": [
       "(0, 210)"
      ]
     },
     "execution_count": 22,
     "metadata": {},
     "output_type": "execute_result"
    },
    {
     "data": {
      "image/png": "[encoded data removed]",
      "text/plain": [
       "<Figure size 432x288 with 1 Axes>"
      ]
     },
     "metadata": {
      "needs_background": "light"
     },
     "output_type": "display_data"
    },
    {
     "data": {
      "image/png": "[encoded data removed]",
      "text/plain": [
       "<Figure size 432x288 with 1 Axes>"
      ]
     },
     "metadata": {
      "needs_background": "light"
     },
     "output_type": "display_data"
    },
    {
     "data": {
      "image/png": "[encoded data removed]",
      "text/plain": [
       "<Figure size 432x288 with 1 Axes>"
      ]
     },
     "metadata": {
      "needs_background": "light"
     },
     "output_type": "display_data"
    },
    {
     "data": {
      "image/png": "[encoded data removed]",
      "text/plain": [
       "<Figure size 432x288 with 1 Axes>"
      ]
     },
     "metadata": {
      "needs_background": "light"
     },
     "output_type": "display_data"
    }
   ],
   "source": [
    "# histogram\n",
    "# X-asis\n",
    "\n",
    "stand_x.plot.hist(grid=True, bins=25, range=[-3,3], rwidth=0.9, color='#607c8e')   \n",
    "                    #grid=True: tạo thêm lưới dọc\n",
    "                    #bin: số khoảng giá trị được chia ra từ range, có bao nhiêu counts xuất hiện trong khoảng đó\n",
    "plt.title('Standing')\n",
    "plt.ylabel('COUNTS')\n",
    "plt.xlabel('ACC VALUE (g)')\n",
    "plt.ylim([0, 210])\n",
    "\n",
    "plt.figure(2) # show 2 hình trên 2 cửa sổ figure riêng biệt \n",
    "sit_x.plot.hist(grid=True, bins=25, range=[-3,3], rwidth=0.9,\n",
    "                   color='#607c8e')\n",
    "plt.title('Sitting')\n",
    "plt.ylabel('COUNTS')\n",
    "plt.xlabel('ACC VALUE (g)')\n",
    "plt.ylim([0, 210])\n",
    "\n",
    "plt.figure(3) \n",
    "jog_x.plot.hist(grid=True, bins=25, range=[-3,3], rwidth=0.9,\n",
    "                   color='#607c8e')\n",
    "plt.title('Jogging')\n",
    "plt.ylabel('COUNTS')\n",
    "plt.xlabel('ACC VALUE (g)')\n",
    "plt.ylim([0, 210])\n",
    "\n",
    "plt.figure(4) \n",
    "walk_x.plot.hist(grid=True, bins=25, range=[-3,3], rwidth=0.9,\n",
    "                   color='#607c8e')\n",
    "plt.title('Walking')\n",
    "plt.ylabel('COUNTS')\n",
    "plt.xlabel('ACC VALUE (g)')\n",
    "plt.ylim([0, 210])"
   ]
  },
  {
   "cell_type": "code",
   "execution_count": 23,
   "metadata": {},
   "outputs": [
    {
     "data": {
      "text/plain": [
       "<matplotlib.axes._subplots.AxesSubplot at 0x1a804c0e898>"
      ]
     },
     "execution_count": 23,
     "metadata": {},
     "output_type": "execute_result"
    },
    {
     "data": {
      "text/plain": [
       "Text(0.5, 1.0, 'Standing')"
      ]
     },
     "execution_count": 23,
     "metadata": {},
     "output_type": "execute_result"
    },
    {
     "data": {
      "text/plain": [
       "Text(0, 0.5, 'COUNTS')"
      ]
     },
     "execution_count": 23,
     "metadata": {},
     "output_type": "execute_result"
    },
    {
     "data": {
      "text/plain": [
       "Text(0.5, 0, 'ACC VALUE (g)')"
      ]
     },
     "execution_count": 23,
     "metadata": {},
     "output_type": "execute_result"
    },
    {
     "data": {
      "text/plain": [
       "(0, 210)"
      ]
     },
     "execution_count": 23,
     "metadata": {},
     "output_type": "execute_result"
    },
    {
     "data": {
      "text/plain": [
       "<Figure size 432x288 with 0 Axes>"
      ]
     },
     "execution_count": 23,
     "metadata": {},
     "output_type": "execute_result"
    },
    {
     "data": {
      "text/plain": [
       "<matplotlib.axes._subplots.AxesSubplot at 0x1a803654518>"
      ]
     },
     "execution_count": 23,
     "metadata": {},
     "output_type": "execute_result"
    },
    {
     "data": {
      "text/plain": [
       "Text(0.5, 1.0, 'Sitting')"
      ]
     },
     "execution_count": 23,
     "metadata": {},
     "output_type": "execute_result"
    },
    {
     "data": {
      "text/plain": [
       "Text(0, 0.5, 'COUNTS')"
      ]
     },
     "execution_count": 23,
     "metadata": {},
     "output_type": "execute_result"
    },
    {
     "data": {
      "text/plain": [
       "Text(0.5, 0, 'ACC VALUE (g)')"
      ]
     },
     "execution_count": 23,
     "metadata": {},
     "output_type": "execute_result"
    },
    {
     "data": {
      "text/plain": [
       "(0, 210)"
      ]
     },
     "execution_count": 23,
     "metadata": {},
     "output_type": "execute_result"
    },
    {
     "data": {
      "text/plain": [
       "<Figure size 432x288 with 0 Axes>"
      ]
     },
     "execution_count": 23,
     "metadata": {},
     "output_type": "execute_result"
    },
    {
     "data": {
      "text/plain": [
       "<matplotlib.axes._subplots.AxesSubplot at 0x1a802c3e630>"
      ]
     },
     "execution_count": 23,
     "metadata": {},
     "output_type": "execute_result"
    },
    {
     "data": {
      "text/plain": [
       "Text(0.5, 1.0, 'Jogging')"
      ]
     },
     "execution_count": 23,
     "metadata": {},
     "output_type": "execute_result"
    },
    {
     "data": {
      "text/plain": [
       "Text(0, 0.5, 'COUNTS')"
      ]
     },
     "execution_count": 23,
     "metadata": {},
     "output_type": "execute_result"
    },
    {
     "data": {
      "text/plain": [
       "Text(0.5, 0, 'ACC VALUE (g)')"
      ]
     },
     "execution_count": 23,
     "metadata": {},
     "output_type": "execute_result"
    },
    {
     "data": {
      "text/plain": [
       "(0, 210)"
      ]
     },
     "execution_count": 23,
     "metadata": {},
     "output_type": "execute_result"
    },
    {
     "data": {
      "text/plain": [
       "<Figure size 432x288 with 0 Axes>"
      ]
     },
     "execution_count": 23,
     "metadata": {},
     "output_type": "execute_result"
    },
    {
     "data": {
      "text/plain": [
       "<matplotlib.axes._subplots.AxesSubplot at 0x1a802631dd8>"
      ]
     },
     "execution_count": 23,
     "metadata": {},
     "output_type": "execute_result"
    },
    {
     "data": {
      "text/plain": [
       "Text(0.5, 1.0, 'Walking')"
      ]
     },
     "execution_count": 23,
     "metadata": {},
     "output_type": "execute_result"
    },
    {
     "data": {
      "text/plain": [
       "Text(0, 0.5, 'COUNTS')"
      ]
     },
     "execution_count": 23,
     "metadata": {},
     "output_type": "execute_result"
    },
    {
     "data": {
      "text/plain": [
       "Text(0.5, 0, 'ACC VALUE (g)')"
      ]
     },
     "execution_count": 23,
     "metadata": {},
     "output_type": "execute_result"
    },
    {
     "data": {
      "text/plain": [
       "(0, 210)"
      ]
     },
     "execution_count": 23,
     "metadata": {},
     "output_type": "execute_result"
    },
    {
     "data": {
      "image/png": "[encoded data removed]",
      "text/plain": [
       "<Figure size 432x288 with 1 Axes>"
      ]
     },
     "metadata": {
      "needs_background": "light"
     },
     "output_type": "display_data"
    },
    {
     "data": {
      "image/png": "[encoded data removed]",
      "text/plain": [
       "<Figure size 432x288 with 1 Axes>"
      ]
     },
     "metadata": {
      "needs_background": "light"
     },
     "output_type": "display_data"
    },
    {
     "data": {
      "image/png": "[encoded data removed]",
      "text/plain": [
       "<Figure size 432x288 with 1 Axes>"
      ]
     },
     "metadata": {
      "needs_background": "light"
     },
     "output_type": "display_data"
    },
    {
     "data": {
      "image/png": "[encoded data removed]",
      "text/plain": [
       "<Figure size 432x288 with 1 Axes>"
      ]
     },
     "metadata": {
      "needs_background": "light"
     },
     "output_type": "display_data"
    }
   ],
   "source": [
    "# Y-asis\n",
    "\n",
    "stand_y.plot.hist(grid=True, bins=25, range=[-3,3], rwidth=0.9, color='#607c8e')   \n",
    "plt.title('Standing')\n",
    "plt.ylabel('COUNTS')\n",
    "plt.xlabel('ACC VALUE (g)')\n",
    "plt.ylim([0, 210])\n",
    "\n",
    "plt.figure(2)\n",
    "sit_y.plot.hist(grid=True, bins=25, range=[-3,3], rwidth=0.9,\n",
    "                   color='#607c8e')\n",
    "plt.title('Sitting')\n",
    "plt.ylabel('COUNTS')\n",
    "plt.xlabel('ACC VALUE (g)')\n",
    "plt.ylim([0, 210])\n",
    "\n",
    "plt.figure(3) \n",
    "jog_y.plot.hist(grid=True, bins=25, range=[-3,3], rwidth=0.9,\n",
    "                   color='#607c8e')\n",
    "plt.title('Jogging')\n",
    "plt.ylabel('COUNTS')\n",
    "plt.xlabel('ACC VALUE (g)')\n",
    "plt.ylim([0, 210])\n",
    "\n",
    "plt.figure(4) \n",
    "walk_y.plot.hist(grid=True, bins=25, range=[-3,3], rwidth=0.9,\n",
    "                   color='#607c8e')\n",
    "plt.title('Walking')\n",
    "plt.ylabel('COUNTS')\n",
    "plt.xlabel('ACC VALUE (g)')\n",
    "plt.ylim([0, 210])"
   ]
  },
  {
   "cell_type": "code",
   "execution_count": 24,
   "metadata": {},
   "outputs": [
    {
     "data": {
      "text/plain": [
       "<matplotlib.axes._subplots.AxesSubplot at 0x1a801908ba8>"
      ]
     },
     "execution_count": 24,
     "metadata": {},
     "output_type": "execute_result"
    },
    {
     "data": {
      "text/plain": [
       "Text(0.5, 1.0, 'Standing')"
      ]
     },
     "execution_count": 24,
     "metadata": {},
     "output_type": "execute_result"
    },
    {
     "data": {
      "text/plain": [
       "Text(0, 0.5, 'COUNTS')"
      ]
     },
     "execution_count": 24,
     "metadata": {},
     "output_type": "execute_result"
    },
    {
     "data": {
      "text/plain": [
       "Text(0.5, 0, 'ACC VALUE (g)')"
      ]
     },
     "execution_count": 24,
     "metadata": {},
     "output_type": "execute_result"
    },
    {
     "data": {
      "text/plain": [
       "(0, 210)"
      ]
     },
     "execution_count": 24,
     "metadata": {},
     "output_type": "execute_result"
    },
    {
     "data": {
      "text/plain": [
       "<Figure size 432x288 with 0 Axes>"
      ]
     },
     "execution_count": 24,
     "metadata": {},
     "output_type": "execute_result"
    },
    {
     "data": {
      "text/plain": [
       "<matplotlib.axes._subplots.AxesSubplot at 0x1a8198d5f60>"
      ]
     },
     "execution_count": 24,
     "metadata": {},
     "output_type": "execute_result"
    },
    {
     "data": {
      "text/plain": [
       "Text(0.5, 1.0, 'Sitting')"
      ]
     },
     "execution_count": 24,
     "metadata": {},
     "output_type": "execute_result"
    },
    {
     "data": {
      "text/plain": [
       "Text(0, 0.5, 'COUNTS')"
      ]
     },
     "execution_count": 24,
     "metadata": {},
     "output_type": "execute_result"
    },
    {
     "data": {
      "text/plain": [
       "Text(0.5, 0, 'ACC VALUE (g)')"
      ]
     },
     "execution_count": 24,
     "metadata": {},
     "output_type": "execute_result"
    },
    {
     "data": {
      "text/plain": [
       "(0, 210)"
      ]
     },
     "execution_count": 24,
     "metadata": {},
     "output_type": "execute_result"
    },
    {
     "data": {
      "text/plain": [
       "<Figure size 432x288 with 0 Axes>"
      ]
     },
     "execution_count": 24,
     "metadata": {},
     "output_type": "execute_result"
    },
    {
     "data": {
      "text/plain": [
       "<matplotlib.axes._subplots.AxesSubplot at 0x1a819337198>"
      ]
     },
     "execution_count": 24,
     "metadata": {},
     "output_type": "execute_result"
    },
    {
     "data": {
      "text/plain": [
       "Text(0.5, 1.0, 'Jogging')"
      ]
     },
     "execution_count": 24,
     "metadata": {},
     "output_type": "execute_result"
    },
    {
     "data": {
      "text/plain": [
       "Text(0, 0.5, 'COUNTS')"
      ]
     },
     "execution_count": 24,
     "metadata": {},
     "output_type": "execute_result"
    },
    {
     "data": {
      "text/plain": [
       "Text(0.5, 0, 'ACC VALUE (g)')"
      ]
     },
     "execution_count": 24,
     "metadata": {},
     "output_type": "execute_result"
    },
    {
     "data": {
      "text/plain": [
       "(0, 210)"
      ]
     },
     "execution_count": 24,
     "metadata": {},
     "output_type": "execute_result"
    },
    {
     "data": {
      "text/plain": [
       "<Figure size 432x288 with 0 Axes>"
      ]
     },
     "execution_count": 24,
     "metadata": {},
     "output_type": "execute_result"
    },
    {
     "data": {
      "text/plain": [
       "<matplotlib.axes._subplots.AxesSubplot at 0x1a818f4deb8>"
      ]
     },
     "execution_count": 24,
     "metadata": {},
     "output_type": "execute_result"
    },
    {
     "data": {
      "text/plain": [
       "Text(0.5, 1.0, 'Walking')"
      ]
     },
     "execution_count": 24,
     "metadata": {},
     "output_type": "execute_result"
    },
    {
     "data": {
      "text/plain": [
       "Text(0, 0.5, 'COUNTS')"
      ]
     },
     "execution_count": 24,
     "metadata": {},
     "output_type": "execute_result"
    },
    {
     "data": {
      "text/plain": [
       "Text(0.5, 0, 'ACC VALUE (g)')"
      ]
     },
     "execution_count": 24,
     "metadata": {},
     "output_type": "execute_result"
    },
    {
     "data": {
      "text/plain": [
       "(0, 210)"
      ]
     },
     "execution_count": 24,
     "metadata": {},
     "output_type": "execute_result"
    },
    {
     "data": {
      "image/png": "[encoded data removed]",
      "text/plain": [
       "<Figure size 432x288 with 1 Axes>"
      ]
     },
     "metadata": {
      "needs_background": "light"
     },
     "output_type": "display_data"
    },
    {
     "data": {
      "image/png": "[encoded data removed]",
      "text/plain": [
       "<Figure size 432x288 with 1 Axes>"
      ]
     },
     "metadata": {
      "needs_background": "light"
     },
     "output_type": "display_data"
    },
    {
     "data": {
      "image/png": "[encoded data removed]",
      "text/plain": [
       "<Figure size 432x288 with 1 Axes>"
      ]
     },
     "metadata": {
      "needs_background": "light"
     },
     "output_type": "display_data"
    },
    {
     "data": {
      "image/png": "[encoded data removed]",
      "text/plain": [
       "<Figure size 432x288 with 1 Axes>"
      ]
     },
     "metadata": {
      "needs_background": "light"
     },
     "output_type": "display_data"
    }
   ],
   "source": [
    "# Z-asis\n",
    "\n",
    "stand_z.plot.hist(grid=True, bins=25, range=[-3,3], rwidth=0.9, color='#607c8e')   \n",
    "plt.title('Standing')\n",
    "plt.ylabel('COUNTS')\n",
    "plt.xlabel('ACC VALUE (g)')\n",
    "plt.ylim([0, 210])\n",
    "\n",
    "plt.figure(2)\n",
    "sit_z.plot.hist(grid=True, bins=25, range=[-3,3], rwidth=0.9,\n",
    "                   color='#607c8e')\n",
    "plt.title('Sitting')\n",
    "plt.ylabel('COUNTS')\n",
    "plt.xlabel('ACC VALUE (g)')\n",
    "plt.ylim([0, 210])\n",
    "\n",
    "plt.figure(3) \n",
    "jog_z.plot.hist(grid=True, bins=25, range=[-3,3], rwidth=0.9,\n",
    "                   color='#607c8e')\n",
    "plt.title('Jogging')\n",
    "plt.ylabel('COUNTS')\n",
    "plt.xlabel('ACC VALUE (g)')\n",
    "plt.ylim([0, 210])\n",
    "\n",
    "plt.figure(4) \n",
    "walk_z.plot.hist(grid=True, bins=25, range=[-3,3], rwidth=0.9,\n",
    "                   color='#607c8e')\n",
    "plt.title('Walking')\n",
    "plt.ylabel('COUNTS')\n",
    "plt.xlabel('ACC VALUE (g)')\n",
    "plt.ylim([0, 210])"
   ]
  },
  {
   "cell_type": "code",
   "execution_count": null,
   "metadata": {},
   "outputs": [],
   "source": []
  },
  {
   "cell_type": "code",
   "execution_count": null,
   "metadata": {},
   "outputs": [],
   "source": []
  },
  {
   "cell_type": "code",
   "execution_count": null,
   "metadata": {},
   "outputs": [],
   "source": []
  }
 ],
 "metadata": {
  "kernelspec": {
   "display_name": "Python 3.6.8 64-bit",
   "language": "python",
   "name": "python36864bita6c16f8bd0f8458dae0b3c3b36181794"
  },
  "language_info": {
   "codemirror_mode": {
    "name": "ipython",
    "version": 3
   },
   "file_extension": ".py",
   "mimetype": "text/x-python",
   "name": "python",
   "nbconvert_exporter": "python",
   "pygments_lexer": "ipython3",
   "version": "3.6.8"
  }
 },
 "nbformat": 4,
 "nbformat_minor": 2
}
