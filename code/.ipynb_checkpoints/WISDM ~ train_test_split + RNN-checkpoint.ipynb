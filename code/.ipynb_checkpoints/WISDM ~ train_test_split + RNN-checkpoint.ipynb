{
 "cells": [
  {
   "cell_type": "code",
   "execution_count": 1,
   "metadata": {},
   "outputs": [],
   "source": [
    "import numpy as np\n",
    "import matplotlib\n",
    "import matplotlib.pyplot as plt\n",
    "# %matplotlib inline # plot in cell\n",
    "from sklearn import metrics\n",
    "import pandas as pd\n",
    "from scipy import signal\n",
    "from scipy import stats\n",
    "import os\n",
    "from IPython.core.interactiveshell import InteractiveShell\n",
    "InteractiveShell.ast_node_interactivity = 'all'\n",
    "# for svm\n",
    "from sklearn.model_selection import train_test_split\n",
    "from sklearn.model_selection import GridSearchCV\n",
    "from sklearn.metrics import classification_report\n",
    "from sklearn.metrics import confusion_matrix\n",
    "from sklearn.svm import SVC\n",
    "from scipy.stats import entropy\n",
    "#%tensorflow_version 1.x\n",
    "#import tensorflow as tf  # Version 1.0.0 (some previous versions are used in past commits)"
   ]
  },
  {
   "cell_type": "code",
   "execution_count": 2,
   "metadata": {},
   "outputs": [
    {
     "data": {
      "text/plain": [
       "Index(['Person', 'State', 'x', 'y', 'z'], dtype='object')"
      ]
     },
     "execution_count": 2,
     "metadata": {},
     "output_type": "execute_result"
    },
    {
     "data": {
      "text/html": [
       "<div>\n",
       "<style scoped>\n",
       "    .dataframe tbody tr th:only-of-type {\n",
       "        vertical-align: middle;\n",
       "    }\n",
       "\n",
       "    .dataframe tbody tr th {\n",
       "        vertical-align: top;\n",
       "    }\n",
       "\n",
       "    .dataframe thead th {\n",
       "        text-align: right;\n",
       "    }\n",
       "</style>\n",
       "<table border=\"1\" class=\"dataframe\">\n",
       "  <thead>\n",
       "    <tr style=\"text-align: right;\">\n",
       "      <th></th>\n",
       "      <th>Person</th>\n",
       "      <th>State</th>\n",
       "      <th>x</th>\n",
       "      <th>y</th>\n",
       "      <th>z</th>\n",
       "    </tr>\n",
       "  </thead>\n",
       "  <tbody>\n",
       "    <tr>\n",
       "      <th>0</th>\n",
       "      <td>33.0</td>\n",
       "      <td>Jogging</td>\n",
       "      <td>-0.694638</td>\n",
       "      <td>12.680544</td>\n",
       "      <td>0.503953</td>\n",
       "    </tr>\n",
       "    <tr>\n",
       "      <th>1</th>\n",
       "      <td>33.0</td>\n",
       "      <td>Jogging</td>\n",
       "      <td>5.012288</td>\n",
       "      <td>11.264028</td>\n",
       "      <td>0.953424</td>\n",
       "    </tr>\n",
       "    <tr>\n",
       "      <th>2</th>\n",
       "      <td>33.0</td>\n",
       "      <td>Jogging</td>\n",
       "      <td>4.903325</td>\n",
       "      <td>10.882658</td>\n",
       "      <td>-0.081722</td>\n",
       "    </tr>\n",
       "    <tr>\n",
       "      <th>3</th>\n",
       "      <td>33.0</td>\n",
       "      <td>Jogging</td>\n",
       "      <td>-0.612916</td>\n",
       "      <td>18.496431</td>\n",
       "      <td>3.023717</td>\n",
       "    </tr>\n",
       "    <tr>\n",
       "      <th>4</th>\n",
       "      <td>33.0</td>\n",
       "      <td>Jogging</td>\n",
       "      <td>-1.184970</td>\n",
       "      <td>12.108489</td>\n",
       "      <td>7.205164</td>\n",
       "    </tr>\n",
       "    <tr>\n",
       "      <th>...</th>\n",
       "      <td>...</td>\n",
       "      <td>...</td>\n",
       "      <td>...</td>\n",
       "      <td>...</td>\n",
       "      <td>...</td>\n",
       "    </tr>\n",
       "    <tr>\n",
       "      <th>1048570</th>\n",
       "      <td>7.0</td>\n",
       "      <td>Standing</td>\n",
       "      <td>-8.080000</td>\n",
       "      <td>5.090000</td>\n",
       "      <td>-0.690000</td>\n",
       "    </tr>\n",
       "    <tr>\n",
       "      <th>1048571</th>\n",
       "      <td>7.0</td>\n",
       "      <td>Standing</td>\n",
       "      <td>-8.120000</td>\n",
       "      <td>5.520000</td>\n",
       "      <td>-0.800000</td>\n",
       "    </tr>\n",
       "    <tr>\n",
       "      <th>1048572</th>\n",
       "      <td>7.0</td>\n",
       "      <td>Standing</td>\n",
       "      <td>-7.890000</td>\n",
       "      <td>5.790000</td>\n",
       "      <td>-0.720000</td>\n",
       "    </tr>\n",
       "    <tr>\n",
       "      <th>1048573</th>\n",
       "      <td>7.0</td>\n",
       "      <td>Standing</td>\n",
       "      <td>-7.890000</td>\n",
       "      <td>5.980000</td>\n",
       "      <td>-0.270000</td>\n",
       "    </tr>\n",
       "    <tr>\n",
       "      <th>1048574</th>\n",
       "      <td>7.0</td>\n",
       "      <td>Standing</td>\n",
       "      <td>-8.120000</td>\n",
       "      <td>5.630000</td>\n",
       "      <td>-0.890000</td>\n",
       "    </tr>\n",
       "  </tbody>\n",
       "</table>\n",
       "<p>1048575 rows × 5 columns</p>\n",
       "</div>"
      ],
      "text/plain": [
       "         Person     State         x          y         z\n",
       "0          33.0   Jogging -0.694638  12.680544  0.503953\n",
       "1          33.0   Jogging  5.012288  11.264028  0.953424\n",
       "2          33.0   Jogging  4.903325  10.882658 -0.081722\n",
       "3          33.0   Jogging -0.612916  18.496431  3.023717\n",
       "4          33.0   Jogging -1.184970  12.108489  7.205164\n",
       "...         ...       ...       ...        ...       ...\n",
       "1048570     7.0  Standing -8.080000   5.090000 -0.690000\n",
       "1048571     7.0  Standing -8.120000   5.520000 -0.800000\n",
       "1048572     7.0  Standing -7.890000   5.790000 -0.720000\n",
       "1048573     7.0  Standing -7.890000   5.980000 -0.270000\n",
       "1048574     7.0  Standing -8.120000   5.630000 -0.890000\n",
       "\n",
       "[1048575 rows x 5 columns]"
      ]
     },
     "execution_count": 2,
     "metadata": {},
     "output_type": "execute_result"
    }
   ],
   "source": [
    "import time\n",
    "start_time1 = time.time()\n",
    "data = pd.read_excel(r'F:\\Program\\OneDrive\\Firefighter_AR\\Q2\\dataArticle\\data.xlsx')\n",
    "data.columns\n",
    "data"
   ]
  },
  {
   "cell_type": "code",
   "execution_count": 3,
   "metadata": {},
   "outputs": [
    {
     "data": {
      "text/html": [
       "<div>\n",
       "<style scoped>\n",
       "    .dataframe tbody tr th:only-of-type {\n",
       "        vertical-align: middle;\n",
       "    }\n",
       "\n",
       "    .dataframe tbody tr th {\n",
       "        vertical-align: top;\n",
       "    }\n",
       "\n",
       "    .dataframe thead th {\n",
       "        text-align: right;\n",
       "    }\n",
       "</style>\n",
       "<table border=\"1\" class=\"dataframe\">\n",
       "  <thead>\n",
       "    <tr style=\"text-align: right;\">\n",
       "      <th></th>\n",
       "      <th>Person</th>\n",
       "      <th>State</th>\n",
       "      <th>x</th>\n",
       "      <th>y</th>\n",
       "      <th>z</th>\n",
       "    </tr>\n",
       "  </thead>\n",
       "  <tbody>\n",
       "    <tr>\n",
       "      <th>0</th>\n",
       "      <td>33.0</td>\n",
       "      <td>Jogging</td>\n",
       "      <td>-0.070833</td>\n",
       "      <td>1.293056</td>\n",
       "      <td>0.051389</td>\n",
       "    </tr>\n",
       "    <tr>\n",
       "      <th>1</th>\n",
       "      <td>33.0</td>\n",
       "      <td>Jogging</td>\n",
       "      <td>0.511111</td>\n",
       "      <td>1.148611</td>\n",
       "      <td>0.097222</td>\n",
       "    </tr>\n",
       "    <tr>\n",
       "      <th>2</th>\n",
       "      <td>33.0</td>\n",
       "      <td>Jogging</td>\n",
       "      <td>0.500000</td>\n",
       "      <td>1.109722</td>\n",
       "      <td>-0.008333</td>\n",
       "    </tr>\n",
       "    <tr>\n",
       "      <th>3</th>\n",
       "      <td>33.0</td>\n",
       "      <td>Jogging</td>\n",
       "      <td>-0.062500</td>\n",
       "      <td>1.886111</td>\n",
       "      <td>0.308333</td>\n",
       "    </tr>\n",
       "    <tr>\n",
       "      <th>4</th>\n",
       "      <td>33.0</td>\n",
       "      <td>Jogging</td>\n",
       "      <td>-0.120833</td>\n",
       "      <td>1.234722</td>\n",
       "      <td>0.734722</td>\n",
       "    </tr>\n",
       "    <tr>\n",
       "      <th>...</th>\n",
       "      <td>...</td>\n",
       "      <td>...</td>\n",
       "      <td>...</td>\n",
       "      <td>...</td>\n",
       "      <td>...</td>\n",
       "    </tr>\n",
       "    <tr>\n",
       "      <th>1048570</th>\n",
       "      <td>7.0</td>\n",
       "      <td>Standing</td>\n",
       "      <td>-0.823931</td>\n",
       "      <td>0.519036</td>\n",
       "      <td>-0.070360</td>\n",
       "    </tr>\n",
       "    <tr>\n",
       "      <th>1048571</th>\n",
       "      <td>7.0</td>\n",
       "      <td>Standing</td>\n",
       "      <td>-0.828010</td>\n",
       "      <td>0.562883</td>\n",
       "      <td>-0.081577</td>\n",
       "    </tr>\n",
       "    <tr>\n",
       "      <th>1048572</th>\n",
       "      <td>7.0</td>\n",
       "      <td>Standing</td>\n",
       "      <td>-0.804556</td>\n",
       "      <td>0.590416</td>\n",
       "      <td>-0.073420</td>\n",
       "    </tr>\n",
       "    <tr>\n",
       "      <th>1048573</th>\n",
       "      <td>7.0</td>\n",
       "      <td>Standing</td>\n",
       "      <td>-0.804556</td>\n",
       "      <td>0.609790</td>\n",
       "      <td>-0.027532</td>\n",
       "    </tr>\n",
       "    <tr>\n",
       "      <th>1048574</th>\n",
       "      <td>7.0</td>\n",
       "      <td>Standing</td>\n",
       "      <td>-0.828010</td>\n",
       "      <td>0.574100</td>\n",
       "      <td>-0.090755</td>\n",
       "    </tr>\n",
       "  </tbody>\n",
       "</table>\n",
       "<p>1048575 rows × 5 columns</p>\n",
       "</div>"
      ],
      "text/plain": [
       "         Person     State         x         y         z\n",
       "0          33.0   Jogging -0.070833  1.293056  0.051389\n",
       "1          33.0   Jogging  0.511111  1.148611  0.097222\n",
       "2          33.0   Jogging  0.500000  1.109722 -0.008333\n",
       "3          33.0   Jogging -0.062500  1.886111  0.308333\n",
       "4          33.0   Jogging -0.120833  1.234722  0.734722\n",
       "...         ...       ...       ...       ...       ...\n",
       "1048570     7.0  Standing -0.823931  0.519036 -0.070360\n",
       "1048571     7.0  Standing -0.828010  0.562883 -0.081577\n",
       "1048572     7.0  Standing -0.804556  0.590416 -0.073420\n",
       "1048573     7.0  Standing -0.804556  0.609790 -0.027532\n",
       "1048574     7.0  Standing -0.828010  0.574100 -0.090755\n",
       "\n",
       "[1048575 rows x 5 columns]"
      ]
     },
     "execution_count": 3,
     "metadata": {},
     "output_type": "execute_result"
    }
   ],
   "source": [
    "G = 9.80665\n",
    "data['x'] = data['x'].div(G)\n",
    "data['y'] = data['y'].div(G)\n",
    "data['z'] = data['z'].div(G)\n",
    "data"
   ]
  },
  {
   "cell_type": "code",
   "execution_count": 4,
   "metadata": {},
   "outputs": [
    {
     "data": {
      "text/html": [
       "<div>\n",
       "<style scoped>\n",
       "    .dataframe tbody tr th:only-of-type {\n",
       "        vertical-align: middle;\n",
       "    }\n",
       "\n",
       "    .dataframe tbody tr th {\n",
       "        vertical-align: top;\n",
       "    }\n",
       "\n",
       "    .dataframe thead th {\n",
       "        text-align: right;\n",
       "    }\n",
       "</style>\n",
       "<table border=\"1\" class=\"dataframe\">\n",
       "  <thead>\n",
       "    <tr style=\"text-align: right;\">\n",
       "      <th></th>\n",
       "      <th>x</th>\n",
       "      <th>y</th>\n",
       "      <th>z</th>\n",
       "    </tr>\n",
       "    <tr>\n",
       "      <th>State</th>\n",
       "      <th></th>\n",
       "      <th></th>\n",
       "      <th></th>\n",
       "    </tr>\n",
       "  </thead>\n",
       "  <tbody>\n",
       "    <tr>\n",
       "      <th>Downstairs</th>\n",
       "      <td>-0.004167</td>\n",
       "      <td>0.508333</td>\n",
       "      <td>0.663889</td>\n",
       "    </tr>\n",
       "    <tr>\n",
       "      <th>Jogging</th>\n",
       "      <td>-0.070833</td>\n",
       "      <td>1.293056</td>\n",
       "      <td>0.051389</td>\n",
       "    </tr>\n",
       "    <tr>\n",
       "      <th>Sitting</th>\n",
       "      <td>0.265126</td>\n",
       "      <td>0.985046</td>\n",
       "      <td>0.105556</td>\n",
       "    </tr>\n",
       "    <tr>\n",
       "      <th>Standing</th>\n",
       "      <td>-0.191707</td>\n",
       "      <td>1.004420</td>\n",
       "      <td>-0.023611</td>\n",
       "    </tr>\n",
       "    <tr>\n",
       "      <th>Upstairs</th>\n",
       "      <td>1.031945</td>\n",
       "      <td>0.441667</td>\n",
       "      <td>-0.386111</td>\n",
       "    </tr>\n",
       "    <tr>\n",
       "      <th>Walking</th>\n",
       "      <td>0.086111</td>\n",
       "      <td>0.816667</td>\n",
       "      <td>0.284722</td>\n",
       "    </tr>\n",
       "  </tbody>\n",
       "</table>\n",
       "</div>"
      ],
      "text/plain": [
       "                   x         y         z\n",
       "State                                   \n",
       "Downstairs -0.004167  0.508333  0.663889\n",
       "Jogging    -0.070833  1.293056  0.051389\n",
       "Sitting     0.265126  0.985046  0.105556\n",
       "Standing   -0.191707  1.004420 -0.023611\n",
       "Upstairs    1.031945  0.441667 -0.386111\n",
       "Walking     0.086111  0.816667  0.284722"
      ]
     },
     "execution_count": 4,
     "metadata": {},
     "output_type": "execute_result"
    }
   ],
   "source": [
    "data = data.drop(columns = 'Person')#xóa cột person\n",
    "df = data.groupby(['State'])\n",
    "df.first()"
   ]
  },
  {
   "cell_type": "code",
   "execution_count": 5,
   "metadata": {},
   "outputs": [
    {
     "data": {
      "text/plain": [
       "97813"
      ]
     },
     "execution_count": 5,
     "metadata": {},
     "output_type": "execute_result"
    },
    {
     "data": {
      "text/plain": [
       "325975"
      ]
     },
     "execution_count": 5,
     "metadata": {},
     "output_type": "execute_result"
    },
    {
     "data": {
      "text/plain": [
       "54876"
      ]
     },
     "execution_count": 5,
     "metadata": {},
     "output_type": "execute_result"
    },
    {
     "data": {
      "text/plain": [
       "44541"
      ]
     },
     "execution_count": 5,
     "metadata": {},
     "output_type": "execute_result"
    },
    {
     "data": {
      "text/plain": [
       "118589"
      ]
     },
     "execution_count": 5,
     "metadata": {},
     "output_type": "execute_result"
    },
    {
     "data": {
      "text/plain": [
       "406776"
      ]
     },
     "execution_count": 5,
     "metadata": {},
     "output_type": "execute_result"
    }
   ],
   "source": [
    "Downstairs = df.get_group(('Downstairs'))\n",
    "Jogging = df.get_group(('Jogging'))\n",
    "Sitting = df.get_group(('Sitting'))\n",
    "Standing = df.get_group(('Standing'))\n",
    "Upstairs = df.get_group(('Upstairs'))\n",
    "Walking = df.get_group(('Walking'))\n",
    "\n",
    "len(Downstairs)\n",
    "len(Jogging)\n",
    "len(Sitting)\n",
    "len(Standing)\n",
    "len(Upstairs)\n",
    "len(Walking)"
   ]
  },
  {
   "cell_type": "code",
   "execution_count": 6,
   "metadata": {},
   "outputs": [
    {
     "data": {
      "text/plain": [
       "44541"
      ]
     },
     "execution_count": 6,
     "metadata": {},
     "output_type": "execute_result"
    },
    {
     "data": {
      "text/plain": [
       "54876"
      ]
     },
     "execution_count": 6,
     "metadata": {},
     "output_type": "execute_result"
    },
    {
     "data": {
      "text/plain": [
       "325975"
      ]
     },
     "execution_count": 6,
     "metadata": {},
     "output_type": "execute_result"
    },
    {
     "data": {
      "text/plain": [
       "623178"
      ]
     },
     "execution_count": 6,
     "metadata": {},
     "output_type": "execute_result"
    }
   ],
   "source": [
    "stand = Standing\n",
    "len(stand)\n",
    "sit = Sitting\n",
    "len(sit)\n",
    "jog = Jogging\n",
    "len(jog)\n",
    "walk = Downstairs.append(Upstairs).append(Walking)\n",
    "len(walk)"
   ]
  },
  {
   "cell_type": "code",
   "execution_count": 7,
   "metadata": {},
   "outputs": [
    {
     "data": {
      "text/plain": [
       "623178"
      ]
     },
     "execution_count": 7,
     "metadata": {},
     "output_type": "execute_result"
    },
    {
     "data": {
      "text/plain": [
       "623177"
      ]
     },
     "execution_count": 7,
     "metadata": {},
     "output_type": "execute_result"
    },
    {
     "data": {
      "text/plain": [
       "0"
      ]
     },
     "execution_count": 7,
     "metadata": {},
     "output_type": "execute_result"
    },
    {
     "data": {
      "text/plain": [
       "pandas.core.frame.DataFrame"
      ]
     },
     "execution_count": 7,
     "metadata": {},
     "output_type": "execute_result"
    }
   ],
   "source": [
    "#Check nan value & remove \n",
    "len(walk.index)\n",
    "\n",
    "walk = walk.dropna()\n",
    "walk.index = pd.RangeIndex(len(walk.index))\n",
    "len(walk.index)\n",
    "walk.isnull().sum().sum()\n",
    "\n",
    "type(walk)"
   ]
  },
  {
   "cell_type": "code",
   "execution_count": 8,
   "metadata": {},
   "outputs": [
    {
     "name": "stdout",
     "output_type": "stream",
     "text": [
      "X_stand:  444\n",
      "X_sit:  330\n",
      "X_jog:  1956\n",
      "X_walk:  3740\n"
     ]
    }
   ],
   "source": [
    "# Split dataset to 2 parts: Train (60%) - Test (40%)\\n\",\n",
    "# 200 samples/frame\n",
    "#window_size = 10s\n",
    "#Fs = 20Hz\n",
    "\n",
    "frame = 200\n",
    "stride = 100 #step\n",
    "\n",
    "# range (start, stop, step)\n",
    "X_stand = [stand[i:i+frame] for i in range(0, len(stand), stride) if i+frame<=len(stand)]\n",
    "X_sit = [sit[i:i+frame] for i in range(0, int(len(sit)), stride) if i+frame<=len(sit)]\n",
    "X_jog = [jog[i:i+frame] for i in range(0, int(len(jog)), stride) if i+frame<=len(jog)]\n",
    "X_walk = [walk[i:i+frame] for i in range(0, int(len(walk)), stride) if i+frame<=len(walk)]\n",
    "\n",
    "print ('X_stand: ', len(X_stand))\n",
    "print ('X_sit: ', len(X_sit))\n",
    "print ('X_jog: ', len(X_jog))\n",
    "print ('X_walk: ', len(X_walk))"
   ]
  },
  {
   "cell_type": "code",
   "execution_count": 9,
   "metadata": {},
   "outputs": [
    {
     "name": "stdout",
     "output_type": "stream",
     "text": [
      "train =   2587\n",
      "test =   3883\n"
     ]
    }
   ],
   "source": [
    "from sklearn.model_selection import train_test_split #hàm chia ngẫu nhiên tương ứng\n",
    "RateTrain = 0.6\n",
    "\n",
    "X_stand_train, X_stand_test = train_test_split(X_stand, test_size = RateTrain)\n",
    "X_sit_train, X_sit_test = train_test_split(X_sit, test_size = RateTrain)\n",
    "X_jog_train, X_jog_test = train_test_split(X_jog, test_size = RateTrain)\n",
    "X_walk_train, X_walk_test = train_test_split(X_walk, test_size = RateTrain)\n",
    "\n",
    "\n",
    "print('train =  ', len(X_stand_train)+ len(X_sit_train) + len(X_jog_train) + len(X_walk_train))\n",
    "print('test =  ', len(X_stand_test)+ len(X_sit_test) + len(X_jog_test) + len(X_walk_test))"
   ]
  },
  {
   "cell_type": "code",
   "execution_count": 10,
   "metadata": {},
   "outputs": [
    {
     "name": "stdout",
     "output_type": "stream",
     "text": [
      "train-data length:  2587\n",
      "train-label length:  2587\n",
      "test-data length:  3883\n",
      "test-label length:  3883\n"
     ]
    }
   ],
   "source": [
    "train_data = []\n",
    "train_label = []\n",
    "\n",
    "test_data = []\n",
    "test_label = []\n",
    "\n",
    "for acts in X_stand_train:\n",
    "    train_data.append(np.array(acts))\n",
    "    train_label.append([0])\n",
    "    \n",
    "for acts in X_sit_train:\n",
    "    train_data.append(np.array(acts))\n",
    "    train_label.append([1])\n",
    "    \n",
    "for acts in X_jog_train:\n",
    "    train_data.append(np.array(acts))\n",
    "    train_label.append([2])\n",
    "\n",
    "for acts in X_walk_train:\n",
    "    train_data.append(np.array(acts))\n",
    "    train_label.append([3])\n",
    "\n",
    "print('train-data length: ', len(train_data) )\n",
    "print('train-label length: ', len(train_label) )\n",
    "#print(train_label)\n",
    "      \n",
    "# For TEST\n",
    "\n",
    "for acts in X_stand_test:\n",
    "    test_data.append(np.array(acts))\n",
    "    test_label.append([0])\n",
    "\n",
    "for acts in X_sit_test:\n",
    "    test_data.append(np.array(acts))\n",
    "    test_label.append([1])\n",
    "        \n",
    "for acts in X_jog_test:\n",
    "    test_data.append(np.array(acts))\n",
    "    test_label.append([2])\n",
    "\n",
    "for acts in X_walk_test:\n",
    "    test_data.append(np.array(acts))\n",
    "    test_label.append([3])\n",
    "\n",
    "print('test-data length: ', len(test_data))\n",
    "print('test-label length: ', len(test_label))"
   ]
  },
  {
   "cell_type": "code",
   "execution_count": 11,
   "metadata": {},
   "outputs": [],
   "source": [
    "X_train = np.array(train_data)\n",
    "X_test = np.array(test_data)\n",
    "\n",
    "y_train = np.array(train_label)\n",
    "y_test = np.array(test_label)\n",
    "\n",
    "\n",
    "LABELS = [ \n",
    "    \"STANDING\",\n",
    "    \"SITTING\",\n",
    "    \"JOGGING\",\n",
    "    \"WALKING\"\n",
    "]"
   ]
  },
  {
   "cell_type": "code",
   "execution_count": 12,
   "metadata": {},
   "outputs": [
    {
     "name": "stdout",
     "output_type": "stream",
     "text": [
      "Some useful info to get an insight on dataset's shape and normalisation:\n",
      "(X shape, y shape, every X's mean, every X's standard deviation)\n",
      "(3883, 200, 3) (3883, 1) 0.3069729933623635 0.687039648618813\n",
      "The dataset is therefore properly normalised, as expected, but not yet one-hot encoded.\n"
     ]
    }
   ],
   "source": [
    "# Input Data \n",
    "\n",
    "training_data_count = len(X_train)  # 7352 training series (with 50% overlap between each serie)\n",
    "test_data_count = len(X_test)  # 2947 testing series\n",
    "n_steps = len(X_train[0])  # 128 timesteps per series\n",
    "n_input = len(X_train[0][0])  # 9 input parameters per timestep\n",
    "\n",
    "\n",
    "# LSTM Neural Network's internal structure\n",
    "\n",
    "n_hidden = 32 # Hidden layer num of features\n",
    "n_classes = 4 # Total classes (should go up, or should go down)\n",
    "\n",
    "\n",
    "# Training \n",
    "\n",
    "learning_rate = 0.0025\n",
    "lambda_loss_amount = 0.0015\n",
    "training_iters = training_data_count * 300  # Loop 300 times on the dataset\n",
    "batch_size = 1500\n",
    "display_iter = 30000  # To show test set accuracy during training\n",
    "\n",
    "\n",
    "# Some debugging info\n",
    "\n",
    "print(\"Some useful info to get an insight on dataset's shape and normalisation:\")\n",
    "print(\"(X shape, y shape, every X's mean, every X's standard deviation)\")\n",
    "print(X_test.shape, y_test.shape, np.mean(X_test), np.std(X_test))\n",
    "print(\"The dataset is therefore properly normalised, as expected, but not yet one-hot encoded.\")\n"
   ]
  },
  {
   "cell_type": "code",
   "execution_count": 13,
   "metadata": {},
   "outputs": [],
   "source": [
    "def LSTM_RNN(_X, _weights, _biases):\n",
    "    # Function returns a tensorflow LSTM (RNN) artificial neural network from given parameters. \n",
    "    # Moreover, two LSTM cells are stacked which adds deepness to the neural network. \n",
    "    # Note, some code of this notebook is inspired from an slightly different \n",
    "    # RNN architecture used on another dataset, some of the credits goes to \n",
    "    # \"aymericdamien\" under the MIT license.\n",
    "\n",
    "    # (NOTE: This step could be greatly optimised by shaping the dataset once\n",
    "    # input shape: (batch_size, n_steps, n_input)\n",
    "    _X = tf.transpose(_X, [1, 0, 2])  # permute n_steps and batch_size\n",
    "    # Reshape to prepare input to hidden activation\n",
    "    _X = tf.reshape(_X, [-1, n_input]) \n",
    "    # new shape: (n_steps*batch_size, n_input)\n",
    "    \n",
    "    # ReLU activation, thanks to Yu Zhao for adding this improvement here:\n",
    "    _X = tf.nn.relu(tf.matmul(_X, _weights['hidden']) + _biases['hidden'])\n",
    "    # Split data because rnn cell needs a list of inputs for the RNN inner loop\n",
    "    _X = tf.split(_X, n_steps, 0) \n",
    "    # new shape: n_steps * (batch_size, n_hidden)\n",
    "\n",
    "    # Define two stacked LSTM cells (two recurrent layers deep) with tensorflow\n",
    "    lstm_cell_1 = tf.contrib.rnn.BasicLSTMCell(n_hidden, forget_bias=1.0, state_is_tuple=True)\n",
    "    lstm_cell_2 = tf.contrib.rnn.BasicLSTMCell(n_hidden, forget_bias=1.0, state_is_tuple=True)\n",
    "    lstm_cells = tf.contrib.rnn.MultiRNNCell([lstm_cell_1, lstm_cell_2], state_is_tuple=True)\n",
    "    # Get LSTM cell output\n",
    "    outputs, states = tf.contrib.rnn.static_rnn(lstm_cells, _X, dtype=tf.float32)\n",
    "\n",
    "    # Get last time step's output feature for a \"many-to-one\" style classifier, \n",
    "    # as in the image describing RNNs at the top of this page\n",
    "    lstm_last_output = outputs[-1]\n",
    "    \n",
    "    # Linear activation\n",
    "    return tf.matmul(lstm_last_output, _weights['out']) + _biases['out']\n",
    "\n",
    "\n",
    "def extract_batch_size(_train, step, batch_size):\n",
    "    # Function to fetch a \"batch_size\" amount of data from \"(X|y)_train\" data. \n",
    "    \n",
    "    shape = list(_train.shape)\n",
    "    shape[0] = batch_size\n",
    "    batch_s = np.empty(shape)\n",
    "\n",
    "    for i in range(batch_size):\n",
    "        # Loop index\n",
    "        index = ((step-1)*batch_size + i) % len(_train)\n",
    "        batch_s[i] = _train[index] \n",
    "\n",
    "    return batch_s\n",
    "\n",
    "\n",
    "def one_hot(y_, n_classes=n_classes):\n",
    "    # Function to encode neural one-hot output labels from number indexes \n",
    "    # e.g.: \n",
    "    # one_hot(y_=[[5], [0], [3]], n_classes=6):\n",
    "    #     return [[0, 0, 0, 0, 0, 1], [1, 0, 0, 0, 0, 0], [0, 0, 0, 1, 0, 0]]\n",
    "    \n",
    "    y_ = y_.reshape(len(y_))\n",
    "    return np.eye(n_classes)[np.array(y_, dtype=np.int32)]  # Returns FLOATS\n"
   ]
  },
  {
   "cell_type": "code",
   "execution_count": 14,
   "metadata": {},
   "outputs": [
    {
     "name": "stderr",
     "output_type": "stream",
     "text": [
      "C:\\Users\\dell\\AppData\\Local\\Programs\\Python\\Python36\\lib\\site-packages\\tensorflow\\python\\framework\\dtypes.py:519: FutureWarning: Passing (type, 1) or '1type' as a synonym of type is deprecated; in a future version of numpy, it will be understood as (type, (1,)) / '(1,)type'.\n",
      "  _np_qint8 = np.dtype([(\"qint8\", np.int8, 1)])\n",
      "C:\\Users\\dell\\AppData\\Local\\Programs\\Python\\Python36\\lib\\site-packages\\tensorflow\\python\\framework\\dtypes.py:520: FutureWarning: Passing (type, 1) or '1type' as a synonym of type is deprecated; in a future version of numpy, it will be understood as (type, (1,)) / '(1,)type'.\n",
      "  _np_quint8 = np.dtype([(\"quint8\", np.uint8, 1)])\n",
      "C:\\Users\\dell\\AppData\\Local\\Programs\\Python\\Python36\\lib\\site-packages\\tensorflow\\python\\framework\\dtypes.py:521: FutureWarning: Passing (type, 1) or '1type' as a synonym of type is deprecated; in a future version of numpy, it will be understood as (type, (1,)) / '(1,)type'.\n",
      "  _np_qint16 = np.dtype([(\"qint16\", np.int16, 1)])\n",
      "C:\\Users\\dell\\AppData\\Local\\Programs\\Python\\Python36\\lib\\site-packages\\tensorflow\\python\\framework\\dtypes.py:522: FutureWarning: Passing (type, 1) or '1type' as a synonym of type is deprecated; in a future version of numpy, it will be understood as (type, (1,)) / '(1,)type'.\n",
      "  _np_quint16 = np.dtype([(\"quint16\", np.uint16, 1)])\n",
      "C:\\Users\\dell\\AppData\\Local\\Programs\\Python\\Python36\\lib\\site-packages\\tensorflow\\python\\framework\\dtypes.py:523: FutureWarning: Passing (type, 1) or '1type' as a synonym of type is deprecated; in a future version of numpy, it will be understood as (type, (1,)) / '(1,)type'.\n",
      "  _np_qint32 = np.dtype([(\"qint32\", np.int32, 1)])\n",
      "C:\\Users\\dell\\AppData\\Local\\Programs\\Python\\Python36\\lib\\site-packages\\tensorflow\\python\\framework\\dtypes.py:528: FutureWarning: Passing (type, 1) or '1type' as a synonym of type is deprecated; in a future version of numpy, it will be understood as (type, (1,)) / '(1,)type'.\n",
      "  np_resource = np.dtype([(\"resource\", np.ubyte, 1)])\n"
     ]
    },
    {
     "name": "stdout",
     "output_type": "stream",
     "text": [
      "WARNING:tensorflow:From <ipython-input-14-c2ed68bde021>:23: softmax_cross_entropy_with_logits (from tensorflow.python.ops.nn_ops) is deprecated and will be removed in a future version.\n",
      "Instructions for updating:\n",
      "\n",
      "Future major versions of TensorFlow will allow gradients to flow\n",
      "into the labels input on backprop by default.\n",
      "\n",
      "See @{tf.nn.softmax_cross_entropy_with_logits_v2}.\n",
      "\n"
     ]
    }
   ],
   "source": [
    "import tensorflow as tf\n",
    "\n",
    "# Graph input/output\n",
    "x = tf.placeholder(tf.float32, [None, n_steps, n_input])\n",
    "y = tf.placeholder(tf.float32, [None, n_classes])\n",
    "\n",
    "# Graph weights\n",
    "weights = {\n",
    "    'hidden': tf.Variable(tf.random_normal([n_input, n_hidden])), # Hidden layer weights\n",
    "    'out': tf.Variable(tf.random_normal([n_hidden, n_classes], mean=1.0))\n",
    "}\n",
    "biases = {\n",
    "    'hidden': tf.Variable(tf.random_normal([n_hidden])),\n",
    "    'out': tf.Variable(tf.random_normal([n_classes]))\n",
    "}\n",
    "\n",
    "pred = LSTM_RNN(x, weights, biases)\n",
    "\n",
    "# Loss, optimizer and evaluation\n",
    "l2 = lambda_loss_amount * sum(\n",
    "    tf.nn.l2_loss(tf_var) for tf_var in tf.trainable_variables()\n",
    ") # L2 loss prevents this overkill neural network to overfit the data\n",
    "cost = tf.reduce_mean(tf.nn.softmax_cross_entropy_with_logits(labels=y, logits=pred)) + l2 # Softmax loss\n",
    "optimizer = tf.train.AdamOptimizer(learning_rate=learning_rate).minimize(cost) # Adam Optimizer\n",
    "\n",
    "correct_pred = tf.equal(tf.argmax(pred,1), tf.argmax(y,1))\n",
    "accuracy = tf.reduce_mean(tf.cast(correct_pred, tf.float32))\n"
   ]
  },
  {
   "cell_type": "code",
   "execution_count": 15,
   "metadata": {},
   "outputs": [
    {
     "name": "stdout",
     "output_type": "stream",
     "text": [
      "Training iter #1500:   Batch Loss = 1.903874, Accuracy = 0.26733332872390747\n",
      "PERFORMANCE ON TEST SET: Batch Loss = 1.8191498517990112, Accuracy = 0.29436004161834717\n",
      "time train: 9.892707109451294\n",
      "time test: 4.016717195510864\n",
      "Training iter #30000:   Batch Loss = 0.954528, Accuracy = 0.812666654586792\n",
      "PERFORMANCE ON TEST SET: Batch Loss = 0.8633384704589844, Accuracy = 0.8354365229606628\n",
      "time train: 1.6560564041137695\n",
      "time test: 1.654052734375\n",
      "Training iter #60000:   Batch Loss = 0.769325, Accuracy = 0.8326666951179504\n",
      "PERFORMANCE ON TEST SET: Batch Loss = 0.6810654401779175, Accuracy = 0.885655403137207\n",
      "time train: 1.7979736328125\n",
      "time test: 1.5271275043487549\n",
      "Training iter #90000:   Batch Loss = 0.466039, Accuracy = 0.9639999866485596\n",
      "PERFORMANCE ON TEST SET: Batch Loss = 0.5909028053283691, Accuracy = 0.9374195337295532\n",
      "time train: 2.111793041229248\n",
      "time test: 1.5181334018707275\n",
      "Training iter #120000:   Batch Loss = 0.471837, Accuracy = 0.9626666903495789\n",
      "PERFORMANCE ON TEST SET: Batch Loss = 0.49074697494506836, Accuracy = 0.9557043313980103\n",
      "time train: 1.6020855903625488\n",
      "time test: 1.590092658996582\n",
      "Training iter #150000:   Batch Loss = 0.421247, Accuracy = 0.9739999771118164\n",
      "PERFORMANCE ON TEST SET: Batch Loss = 0.4388573169708252, Accuracy = 0.9696111083030701\n",
      "time train: 1.700028419494629\n",
      "time test: 1.6500582695007324\n",
      "Training iter #180000:   Batch Loss = 0.422034, Accuracy = 0.9753333330154419\n",
      "PERFORMANCE ON TEST SET: Batch Loss = 0.42271173000335693, Accuracy = 0.9719288945198059\n",
      "time train: 1.9458889961242676\n",
      "time test: 1.627072811126709\n",
      "Training iter #210000:   Batch Loss = 0.358587, Accuracy = 0.9893333315849304\n",
      "PERFORMANCE ON TEST SET: Batch Loss = 0.3958771824836731, Accuracy = 0.9799124598503113\n",
      "time train: 2.1254515647888184\n",
      "time test: 2.2507164478302\n",
      "Training iter #240000:   Batch Loss = 0.355662, Accuracy = 0.9893333315849304\n",
      "PERFORMANCE ON TEST SET: Batch Loss = 0.38525059819221497, Accuracy = 0.981200098991394\n",
      "time train: 1.993861436843872\n",
      "time test: 1.7390077114105225\n",
      "Training iter #270000:   Batch Loss = 0.839474, Accuracy = 0.843999981880188\n",
      "PERFORMANCE ON TEST SET: Batch Loss = 0.6390309929847717, Accuracy = 0.8980169892311096\n",
      "time train: 1.7729880809783936\n",
      "time test: 1.5820958614349365\n",
      "Training iter #300000:   Batch Loss = 0.425389, Accuracy = 0.9906666874885559\n",
      "PERFORMANCE ON TEST SET: Batch Loss = 0.5241504907608032, Accuracy = 0.9052278995513916\n",
      "time train: 1.8989169597625732\n",
      "time test: 1.772989273071289\n",
      "Training iter #330000:   Batch Loss = 0.488710, Accuracy = 0.9546666741371155\n",
      "PERFORMANCE ON TEST SET: Batch Loss = 0.4714544415473938, Accuracy = 0.9526139497756958\n",
      "time train: 1.7490029335021973\n",
      "time test: 1.911909580230713\n",
      "Training iter #360000:   Batch Loss = 0.394699, Accuracy = 0.9733333587646484\n",
      "PERFORMANCE ON TEST SET: Batch Loss = 0.4353971481323242, Accuracy = 0.9634303450584412\n",
      "time train: 1.687037706375122\n",
      "time test: 1.5830957889556885\n",
      "Training iter #390000:   Batch Loss = 0.357497, Accuracy = 0.9800000190734863\n",
      "PERFORMANCE ON TEST SET: Batch Loss = 0.37106895446777344, Accuracy = 0.9775946140289307\n",
      "time train: 2.072817325592041\n",
      "time test: 1.955883502960205\n",
      "Training iter #420000:   Batch Loss = 0.337684, Accuracy = 0.984000027179718\n",
      "PERFORMANCE ON TEST SET: Batch Loss = 0.347362756729126, Accuracy = 0.9822302460670471\n",
      "time train: 1.9598805904388428\n",
      "time test: 1.7549982070922852\n",
      "Training iter #450000:   Batch Loss = 0.343529, Accuracy = 0.9773333072662354\n",
      "PERFORMANCE ON TEST SET: Batch Loss = 0.37241053581237793, Accuracy = 0.9752768278121948\n",
      "time train: 1.663050889968872\n",
      "time test: 1.616076946258545\n",
      "Training iter #480000:   Batch Loss = 0.345727, Accuracy = 0.9786666631698608\n",
      "PERFORMANCE ON TEST SET: Batch Loss = 0.33980196714401245, Accuracy = 0.9814576506614685\n",
      "time train: 2.01385235786438\n",
      "time test: 1.648057460784912\n",
      "Training iter #510000:   Batch Loss = 0.310437, Accuracy = 0.9879999756813049\n",
      "PERFORMANCE ON TEST SET: Batch Loss = 0.34337741136550903, Accuracy = 0.9814576506614685\n",
      "time train: 1.9209070205688477\n",
      "time test: 1.7469971179962158\n",
      "Training iter #540000:   Batch Loss = 0.331266, Accuracy = 0.9833333492279053\n",
      "PERFORMANCE ON TEST SET: Batch Loss = 0.3916534185409546, Accuracy = 0.9667782783508301\n",
      "time train: 1.6590614318847656\n",
      "time test: 1.5231218338012695\n",
      "Training iter #570000:   Batch Loss = 0.386840, Accuracy = 0.9700000286102295\n",
      "PERFORMANCE ON TEST SET: Batch Loss = 0.35129135847091675, Accuracy = 0.9739891886711121\n",
      "time train: 1.7420072555541992\n",
      "time test: 1.6630492210388184\n",
      "Training iter #600000:   Batch Loss = 0.293531, Accuracy = 0.9940000176429749\n",
      "PERFORMANCE ON TEST SET: Batch Loss = 0.4634459614753723, Accuracy = 0.9461756348609924\n",
      "time train: 1.932896375656128\n",
      "time test: 1.7529995441436768\n",
      "Training iter #630000:   Batch Loss = 0.406295, Accuracy = 0.9606666564941406\n",
      "PERFORMANCE ON TEST SET: Batch Loss = 0.35883474349975586, Accuracy = 0.9719288945198059\n",
      "time train: 1.8629374504089355\n",
      "time test: 1.633068323135376\n",
      "Training iter #660000:   Batch Loss = 0.290367, Accuracy = 0.9893333315849304\n",
      "PERFORMANCE ON TEST SET: Batch Loss = 0.30900731682777405, Accuracy = 0.9824877381324768\n",
      "time train: 1.7020282745361328\n",
      "time test: 1.8859219551086426\n",
      "Training iter #690000:   Batch Loss = 0.280582, Accuracy = 0.9919999837875366\n",
      "PERFORMANCE ON TEST SET: Batch Loss = 0.29692745208740234, Accuracy = 0.9866082668304443\n",
      "time train: 2.3516581058502197\n",
      "time test: 2.0638222694396973\n",
      "Training iter #720000:   Batch Loss = 0.270859, Accuracy = 0.9953333139419556\n",
      "PERFORMANCE ON TEST SET: Batch Loss = 0.2960212230682373, Accuracy = 0.9894411563873291\n",
      "time train: 2.519562005996704\n",
      "time test: 2.038839340209961\n",
      "Training iter #750000:   Batch Loss = 0.258360, Accuracy = 0.9973333477973938\n",
      "PERFORMANCE ON TEST SET: Batch Loss = 0.2904036045074463, Accuracy = 0.988926112651825\n",
      "time train: 1.8029711246490479\n",
      "time test: 1.7330117225646973\n",
      "Optimization Finished!\n",
      "FINAL RESULT: Batch Loss = 0.2827049195766449, Accuracy = 0.988926112651825\n"
     ]
    }
   ],
   "source": [
    "import time\n",
    "\n",
    "# To keep track of training's performance\n",
    "test_losses = []\n",
    "test_accuracies = []\n",
    "train_losses = []\n",
    "train_accuracies = []\n",
    "train_time=[]\n",
    "test_time=[]\n",
    "\n",
    "# Launch the graph\n",
    "sess = tf.InteractiveSession(config=tf.ConfigProto(log_device_placement=True))\n",
    "init = tf.global_variables_initializer()\n",
    "sess.run(init)\n",
    "\n",
    "# Perform Training steps with \"batch_size\" amount of example data at each loop\n",
    "step = 1\n",
    "while step * batch_size <= training_iters:\n",
    "    batch_xs =         extract_batch_size(X_train, step, batch_size)\n",
    "    batch_ys = one_hot(extract_batch_size(y_train, step, batch_size))\n",
    "    start_train = time.time()\n",
    "    \n",
    "    # Fit training using batch data\n",
    "    _, loss, acc = sess.run(\n",
    "        [optimizer, cost, accuracy],\n",
    "        feed_dict={\n",
    "            x: batch_xs, \n",
    "            y: batch_ys\n",
    "        }\n",
    "    )\n",
    "    train_losses.append(loss)\n",
    "    train_accuracies.append(acc)\n",
    "    \n",
    "    # Evaluate network only at some steps for faster training: \n",
    "    if (step*batch_size % display_iter == 0) or (step == 1) or (step * batch_size > training_iters):\n",
    "        start_test = time.time()\n",
    "        # To not spam console, show training accuracy/loss in this \"if\"\n",
    "        print(\"Training iter #\" + str(step*batch_size) + \\\n",
    "              \":   Batch Loss = \" + \"{:.6f}\".format(loss) + \\\n",
    "              \", Accuracy = {}\".format(acc))\n",
    "        \n",
    "        # Evaluation on the test set (no learning made here - just evaluation for diagnosis)\n",
    "        loss, acc = sess.run(\n",
    "            [cost, accuracy], \n",
    "            feed_dict={\n",
    "                x: X_test,\n",
    "                y: one_hot(y_test)\n",
    "            }\n",
    "        )\n",
    "        test_losses.append(loss)\n",
    "        test_accuracies.append(acc)\n",
    "        print(\"PERFORMANCE ON TEST SET: \" + \\\n",
    "              \"Batch Loss = {}\".format(loss) + \\\n",
    "              \", Accuracy = {}\".format(acc))\n",
    "        end_test = time.time()\n",
    "        t_train = start_test -start_train\n",
    "        t_test = end_test -start_test\n",
    "        print(\"time train:\",t_train)\n",
    "        print(\"time test:\",t_test)\n",
    "        train_time.append(t_train)\n",
    "        test_time.append(t_test)\n",
    "    step += 1\n",
    "\n",
    "print(\"Optimization Finished!\")\n",
    "\n",
    "# Accuracy for test data\n",
    "\n",
    "one_hot_predictions, accuracy, final_loss = sess.run(\n",
    "    [pred, accuracy, cost],\n",
    "    feed_dict={\n",
    "        x: X_test,\n",
    "        y: one_hot(y_test)\n",
    "    }\n",
    ")\n",
    "\n",
    "test_losses.append(final_loss)\n",
    "test_accuracies.append(accuracy)\n",
    "\n",
    "print(\"FINAL RESULT: \" + \\\n",
    "      \"Batch Loss = {}\".format(final_loss) + \\\n",
    "      \", Accuracy = {}\".format(accuracy))\n"
   ]
  },
  {
   "cell_type": "code",
   "execution_count": 16,
   "metadata": {},
   "outputs": [
    {
     "data": {
      "text/plain": [
       "<Figure size 864x864 with 0 Axes>"
      ]
     },
     "execution_count": 16,
     "metadata": {},
     "output_type": "execute_result"
    },
    {
     "data": {
      "text/plain": [
       "[<matplotlib.lines.Line2D at 0x27a243c4710>]"
      ]
     },
     "execution_count": 16,
     "metadata": {},
     "output_type": "execute_result"
    },
    {
     "data": {
      "text/plain": [
       "[<matplotlib.lines.Line2D at 0x27a243c4b38>]"
      ]
     },
     "execution_count": 16,
     "metadata": {},
     "output_type": "execute_result"
    },
    {
     "data": {
      "text/plain": [
       "[<matplotlib.lines.Line2D at 0x27a243afc18>]"
      ]
     },
     "execution_count": 16,
     "metadata": {},
     "output_type": "execute_result"
    },
    {
     "data": {
      "text/plain": [
       "[<matplotlib.lines.Line2D at 0x27a243afbe0>]"
      ]
     },
     "execution_count": 16,
     "metadata": {},
     "output_type": "execute_result"
    },
    {
     "data": {
      "text/plain": [
       "Text(0.5, 1.0, \"Training session's progress over iterations\")"
      ]
     },
     "execution_count": 16,
     "metadata": {},
     "output_type": "execute_result"
    },
    {
     "data": {
      "text/plain": [
       "<matplotlib.legend.Legend at 0x27a243e44e0>"
      ]
     },
     "execution_count": 16,
     "metadata": {},
     "output_type": "execute_result"
    },
    {
     "data": {
      "text/plain": [
       "Text(0, 0.5, 'Training Progress (Loss or Accuracy values)')"
      ]
     },
     "execution_count": 16,
     "metadata": {},
     "output_type": "execute_result"
    },
    {
     "data": {
      "text/plain": [
       "Text(0.5, 0, 'Training iteration')"
      ]
     },
     "execution_count": 16,
     "metadata": {},
     "output_type": "execute_result"
    },
    {
     "name": "stderr",
     "output_type": "stream",
     "text": [
      "findfont: Font family ['Bitstream Vera Sans'] not found. Falling back to DejaVu Sans.\n",
      "findfont: Font family ['Bitstream Vera Sans'] not found. Falling back to DejaVu Sans.\n",
      "findfont: Font family ['Bitstream Vera Sans'] not found. Falling back to DejaVu Sans.\n"
     ]
    },
    {
     "data": {
      "image/png": "[encoded data removed]",
      "text/plain": [
       "<Figure size 864x864 with 1 Axes>"
      ]
     },
     "metadata": {
      "needs_background": "light"
     },
     "output_type": "display_data"
    }
   ],
   "source": [
    "# (Inline plots: )\n",
    "%matplotlib inline\n",
    "\n",
    "font = {\n",
    "    'family' : 'Bitstream Vera Sans',\n",
    "    'weight' : 'bold',\n",
    "    'size'   : 18\n",
    "}\n",
    "matplotlib.rc('font', **font)\n",
    "\n",
    "width = 12\n",
    "height = 12\n",
    "plt.figure(figsize=(width, height))\n",
    "\n",
    "indep_train_axis = np.array(range(batch_size, (len(train_losses)+1)*batch_size, batch_size))\n",
    "plt.plot(indep_train_axis, np.array(train_losses),     \"b--\", label=\"Train losses\")\n",
    "plt.plot(indep_train_axis, np.array(train_accuracies), \"g--\", label=\"Train accuracies\")\n",
    "\n",
    "indep_test_axis = np.append(\n",
    "    np.array(range(batch_size, len(test_losses)*display_iter, display_iter)[:-1]),\n",
    "    [training_iters]\n",
    ")\n",
    "plt.plot(indep_test_axis, np.array(test_losses),     \"b-\", label=\"Test losses\")\n",
    "plt.plot(indep_test_axis, np.array(test_accuracies), \"g-\", label=\"Test accuracies\")\n",
    "\n",
    "plt.title(\"Training session's progress over iterations\")\n",
    "plt.legend(loc='upper right', shadow=True)\n",
    "plt.ylabel('Training Progress (Loss or Accuracy values)')\n",
    "plt.xlabel('Training iteration')\n",
    "\n",
    "plt.show()"
   ]
  },
  {
   "cell_type": "code",
   "execution_count": 17,
   "metadata": {},
   "outputs": [
    {
     "name": "stdout",
     "output_type": "stream",
     "text": [
      "Testing Accuracy: 98.8926112651825%\n",
      "\n",
      "Precision: 98.90893756654371%\n",
      "Recall: 98.89260880762298%\n",
      "f1_score: 98.88962212499024%\n",
      "\n",
      "Confusion Matrix:\n",
      "[[ 264    1    0    2]\n",
      " [   2  194    0    2]\n",
      " [   0    0 1139   35]\n",
      " [   1    0    0 2243]]\n",
      "\n",
      "Confusion matrix (normalised to % of total test data):\n",
      "[[6.7988672e+00 2.5753284e-02 0.0000000e+00 5.1506568e-02]\n",
      " [5.1506568e-02 4.9961371e+00 0.0000000e+00 5.1506568e-02]\n",
      " [0.0000000e+00 0.0000000e+00 2.9332989e+01 9.0136492e-01]\n",
      " [2.5753284e-02 0.0000000e+00 0.0000000e+00 5.7764614e+01]]\n",
      "Note: training and testing data is not equally distributed amongst classes, \n",
      "so it is normal that more than a 6th of the data is correctly classifier in the last category.\n"
     ]
    },
    {
     "data": {
      "text/plain": [
       "<Figure size 864x864 with 0 Axes>"
      ]
     },
     "execution_count": 17,
     "metadata": {},
     "output_type": "execute_result"
    },
    {
     "data": {
      "text/plain": [
       "<matplotlib.image.AxesImage at 0x27a24497940>"
      ]
     },
     "execution_count": 17,
     "metadata": {},
     "output_type": "execute_result"
    },
    {
     "data": {
      "text/plain": [
       "Text(0.5, 1.0, 'Confusion matrix \\n(normalised to % of total test data)')"
      ]
     },
     "execution_count": 17,
     "metadata": {},
     "output_type": "execute_result"
    },
    {
     "data": {
      "text/plain": [
       "<matplotlib.colorbar.Colorbar at 0x27a244d0588>"
      ]
     },
     "execution_count": 17,
     "metadata": {},
     "output_type": "execute_result"
    },
    {
     "data": {
      "text/plain": [
       "([<matplotlib.axis.XTick at 0x27a2445fb70>,\n",
       "  <matplotlib.axis.XTick at 0x27a2445f7b8>,\n",
       "  <matplotlib.axis.XTick at 0x27a2445f470>,\n",
       "  <matplotlib.axis.XTick at 0x27a244d0f60>],\n",
       " <a list of 4 Text xticklabel objects>)"
      ]
     },
     "execution_count": 17,
     "metadata": {},
     "output_type": "execute_result"
    },
    {
     "data": {
      "text/plain": [
       "([<matplotlib.axis.YTick at 0x27a24483b00>,\n",
       "  <matplotlib.axis.YTick at 0x27a24483320>,\n",
       "  <matplotlib.axis.YTick at 0x27a24424d68>,\n",
       "  <matplotlib.axis.YTick at 0x27a244f39e8>],\n",
       " <a list of 4 Text yticklabel objects>)"
      ]
     },
     "execution_count": 17,
     "metadata": {},
     "output_type": "execute_result"
    },
    {
     "data": {
      "text/plain": [
       "Text(-8.734375, 0.5, 'True label')"
      ]
     },
     "execution_count": 17,
     "metadata": {},
     "output_type": "execute_result"
    },
    {
     "data": {
      "text/plain": [
       "Text(0.5, 116.54562499999997, 'Predicted label')"
      ]
     },
     "execution_count": 17,
     "metadata": {},
     "output_type": "execute_result"
    },
    {
     "data": {
      "image/png": "[encoded data removed]",
      "text/plain": [
       "<Figure size 864x864 with 2 Axes>"
      ]
     },
     "metadata": {
      "needs_background": "light"
     },
     "output_type": "display_data"
    }
   ],
   "source": [
    "# Results\n",
    "\n",
    "predictions = one_hot_predictions.argmax(1)\n",
    "\n",
    "print(\"Testing Accuracy: {}%\".format(100*accuracy))\n",
    "\n",
    "print(\"\")\n",
    "print(\"Precision: {}%\".format(100*metrics.precision_score(y_test, predictions, average=\"weighted\")))\n",
    "print(\"Recall: {}%\".format(100*metrics.recall_score(y_test, predictions, average=\"weighted\")))\n",
    "print(\"f1_score: {}%\".format(100*metrics.f1_score(y_test, predictions, average=\"weighted\")))\n",
    "\n",
    "print(\"\")\n",
    "print(\"Confusion Matrix:\")\n",
    "confusion_matrix = metrics.confusion_matrix(y_test, predictions)\n",
    "print(confusion_matrix)\n",
    "normalised_confusion_matrix = np.array(confusion_matrix, dtype=np.float32)/np.sum(confusion_matrix)*100\n",
    "\n",
    "print(\"\")\n",
    "print(\"Confusion matrix (normalised to % of total test data):\")\n",
    "print(normalised_confusion_matrix)\n",
    "print(\"Note: training and testing data is not equally distributed amongst classes, \")\n",
    "print(\"so it is normal that more than a 6th of the data is correctly classifier in the last category.\")\n",
    "\n",
    "# Plot Results: \n",
    "width = 12\n",
    "height = 12\n",
    "plt.figure(figsize=(width, height))\n",
    "plt.imshow(\n",
    "    normalised_confusion_matrix, \n",
    "    interpolation='nearest', \n",
    "    cmap=plt.cm.rainbow\n",
    ")\n",
    "plt.title(\"Confusion matrix \\n(normalised to % of total test data)\")\n",
    "plt.colorbar()\n",
    "tick_marks = np.arange(n_classes)\n",
    "plt.xticks(tick_marks, LABELS, rotation=90)\n",
    "plt.yticks(tick_marks, LABELS) \n",
    "plt.tight_layout()\n",
    "plt.ylabel('True label')\n",
    "plt.xlabel('Predicted label')\n",
    "plt.show()"
   ]
  },
  {
   "cell_type": "code",
   "execution_count": 18,
   "metadata": {},
   "outputs": [
    {
     "name": "stdout",
     "output_type": "stream",
     "text": [
      "elapsed_time:1169.599636554718[sec]\n",
      "total time train = 57.13742208480835\n",
      "mean time train = 2.1975931571080136\n",
      "total time test = 47.43891668319702\n",
      "mean time test = 1.8245737185845008\n"
     ]
    }
   ],
   "source": [
    "end_time1 = time.time()\n",
    "#tính thời gian chạy của thuật toán Python\n",
    "elapsed_time1 = end_time1 - start_time1\n",
    "print (\"elapsed_time:{0}\".format(elapsed_time1) + \"[sec]\")\n",
    "print(\"total time train =\", np.sum(train_time))\n",
    "print(\"mean time train =\", np.mean(train_time))\n",
    "print(\"total time test =\", np.sum(test_time))\n",
    "print(\"mean time test =\", np.mean(test_time))"
   ]
  },
  {
   "cell_type": "code",
   "execution_count": null,
   "metadata": {},
   "outputs": [],
   "source": []
  }
 ],
 "metadata": {
  "kernelspec": {
   "display_name": "Python 3.6.8 64-bit",
   "language": "python",
   "name": "python36864bita6c16f8bd0f8458dae0b3c3b36181794"
  },
  "language_info": {
   "codemirror_mode": {
    "name": "ipython",
    "version": 3
   },
   "file_extension": ".py",
   "mimetype": "text/x-python",
   "name": "python",
   "nbconvert_exporter": "python",
   "pygments_lexer": "ipython3",
   "version": "3.6.8"
  }
 },
 "nbformat": 4,
 "nbformat_minor": 2
}
