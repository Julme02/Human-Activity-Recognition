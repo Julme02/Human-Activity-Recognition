{
 "cells": [
  {
   "cell_type": "code",
   "execution_count": 1,
   "metadata": {},
   "outputs": [],
   "source": [
    "import numpy as np\n",
    "import matplotlib\n",
    "import matplotlib.pyplot as plt\n",
    "from sklearn import metrics\n",
    "import pandas as pd\n",
    "from scipy import signal\n",
    "from scipy import stats\n",
    "import os\n",
    "from IPython.core.interactiveshell import InteractiveShell\n",
    "InteractiveShell.ast_node_interactivity = 'all'\n",
    "# for svm\n",
    "from sklearn.model_selection import train_test_split\n",
    "from sklearn.model_selection import GridSearchCV\n",
    "from sklearn.metrics import classification_report\n",
    "from sklearn.metrics import confusion_matrix\n",
    "from sklearn.svm import SVC\n",
    "from scipy.stats import entropy"
   ]
  },
  {
   "cell_type": "code",
   "execution_count": 2,
   "metadata": {},
   "outputs": [
    {
     "data": {
      "text/plain": [
       "Index(['Person', 'State', 'x', 'y', 'z'], dtype='object')"
      ]
     },
     "execution_count": 2,
     "metadata": {},
     "output_type": "execute_result"
    },
    {
     "data": {
      "text/html": [
       "<div>\n",
       "<style scoped>\n",
       "    .dataframe tbody tr th:only-of-type {\n",
       "        vertical-align: middle;\n",
       "    }\n",
       "\n",
       "    .dataframe tbody tr th {\n",
       "        vertical-align: top;\n",
       "    }\n",
       "\n",
       "    .dataframe thead th {\n",
       "        text-align: right;\n",
       "    }\n",
       "</style>\n",
       "<table border=\"1\" class=\"dataframe\">\n",
       "  <thead>\n",
       "    <tr style=\"text-align: right;\">\n",
       "      <th></th>\n",
       "      <th>Person</th>\n",
       "      <th>State</th>\n",
       "      <th>x</th>\n",
       "      <th>y</th>\n",
       "      <th>z</th>\n",
       "    </tr>\n",
       "  </thead>\n",
       "  <tbody>\n",
       "    <tr>\n",
       "      <th>0</th>\n",
       "      <td>33.0</td>\n",
       "      <td>Jogging</td>\n",
       "      <td>-0.694638</td>\n",
       "      <td>12.680544</td>\n",
       "      <td>0.503953</td>\n",
       "    </tr>\n",
       "    <tr>\n",
       "      <th>1</th>\n",
       "      <td>33.0</td>\n",
       "      <td>Jogging</td>\n",
       "      <td>5.012288</td>\n",
       "      <td>11.264028</td>\n",
       "      <td>0.953424</td>\n",
       "    </tr>\n",
       "    <tr>\n",
       "      <th>2</th>\n",
       "      <td>33.0</td>\n",
       "      <td>Jogging</td>\n",
       "      <td>4.903325</td>\n",
       "      <td>10.882658</td>\n",
       "      <td>-0.081722</td>\n",
       "    </tr>\n",
       "    <tr>\n",
       "      <th>3</th>\n",
       "      <td>33.0</td>\n",
       "      <td>Jogging</td>\n",
       "      <td>-0.612916</td>\n",
       "      <td>18.496431</td>\n",
       "      <td>3.023717</td>\n",
       "    </tr>\n",
       "    <tr>\n",
       "      <th>4</th>\n",
       "      <td>33.0</td>\n",
       "      <td>Jogging</td>\n",
       "      <td>-1.184970</td>\n",
       "      <td>12.108489</td>\n",
       "      <td>7.205164</td>\n",
       "    </tr>\n",
       "    <tr>\n",
       "      <th>...</th>\n",
       "      <td>...</td>\n",
       "      <td>...</td>\n",
       "      <td>...</td>\n",
       "      <td>...</td>\n",
       "      <td>...</td>\n",
       "    </tr>\n",
       "    <tr>\n",
       "      <th>1048570</th>\n",
       "      <td>7.0</td>\n",
       "      <td>Standing</td>\n",
       "      <td>-8.080000</td>\n",
       "      <td>5.090000</td>\n",
       "      <td>-0.690000</td>\n",
       "    </tr>\n",
       "    <tr>\n",
       "      <th>1048571</th>\n",
       "      <td>7.0</td>\n",
       "      <td>Standing</td>\n",
       "      <td>-8.120000</td>\n",
       "      <td>5.520000</td>\n",
       "      <td>-0.800000</td>\n",
       "    </tr>\n",
       "    <tr>\n",
       "      <th>1048572</th>\n",
       "      <td>7.0</td>\n",
       "      <td>Standing</td>\n",
       "      <td>-7.890000</td>\n",
       "      <td>5.790000</td>\n",
       "      <td>-0.720000</td>\n",
       "    </tr>\n",
       "    <tr>\n",
       "      <th>1048573</th>\n",
       "      <td>7.0</td>\n",
       "      <td>Standing</td>\n",
       "      <td>-7.890000</td>\n",
       "      <td>5.980000</td>\n",
       "      <td>-0.270000</td>\n",
       "    </tr>\n",
       "    <tr>\n",
       "      <th>1048574</th>\n",
       "      <td>7.0</td>\n",
       "      <td>Standing</td>\n",
       "      <td>-8.120000</td>\n",
       "      <td>5.630000</td>\n",
       "      <td>-0.890000</td>\n",
       "    </tr>\n",
       "  </tbody>\n",
       "</table>\n",
       "<p>1048575 rows × 5 columns</p>\n",
       "</div>"
      ],
      "text/plain": [
       "         Person     State         x          y         z\n",
       "0          33.0   Jogging -0.694638  12.680544  0.503953\n",
       "1          33.0   Jogging  5.012288  11.264028  0.953424\n",
       "2          33.0   Jogging  4.903325  10.882658 -0.081722\n",
       "3          33.0   Jogging -0.612916  18.496431  3.023717\n",
       "4          33.0   Jogging -1.184970  12.108489  7.205164\n",
       "...         ...       ...       ...        ...       ...\n",
       "1048570     7.0  Standing -8.080000   5.090000 -0.690000\n",
       "1048571     7.0  Standing -8.120000   5.520000 -0.800000\n",
       "1048572     7.0  Standing -7.890000   5.790000 -0.720000\n",
       "1048573     7.0  Standing -7.890000   5.980000 -0.270000\n",
       "1048574     7.0  Standing -8.120000   5.630000 -0.890000\n",
       "\n",
       "[1048575 rows x 5 columns]"
      ]
     },
     "execution_count": 2,
     "metadata": {},
     "output_type": "execute_result"
    }
   ],
   "source": [
    "import time\n",
    "start_time1 = time.time()\n",
    "data = pd.read_excel(r'..\\..\\dataArticle\\publicData\\data.xlsx')\n",
    "data.columns\n",
    "data"
   ]
  },
  {
   "cell_type": "code",
   "execution_count": 3,
   "metadata": {},
   "outputs": [
    {
     "data": {
      "text/html": [
       "<div>\n",
       "<style scoped>\n",
       "    .dataframe tbody tr th:only-of-type {\n",
       "        vertical-align: middle;\n",
       "    }\n",
       "\n",
       "    .dataframe tbody tr th {\n",
       "        vertical-align: top;\n",
       "    }\n",
       "\n",
       "    .dataframe thead th {\n",
       "        text-align: right;\n",
       "    }\n",
       "</style>\n",
       "<table border=\"1\" class=\"dataframe\">\n",
       "  <thead>\n",
       "    <tr style=\"text-align: right;\">\n",
       "      <th></th>\n",
       "      <th>Person</th>\n",
       "      <th>State</th>\n",
       "      <th>x</th>\n",
       "      <th>y</th>\n",
       "      <th>z</th>\n",
       "    </tr>\n",
       "  </thead>\n",
       "  <tbody>\n",
       "    <tr>\n",
       "      <th>0</th>\n",
       "      <td>33.0</td>\n",
       "      <td>Jogging</td>\n",
       "      <td>-0.070833</td>\n",
       "      <td>1.293056</td>\n",
       "      <td>0.051389</td>\n",
       "    </tr>\n",
       "    <tr>\n",
       "      <th>1</th>\n",
       "      <td>33.0</td>\n",
       "      <td>Jogging</td>\n",
       "      <td>0.511111</td>\n",
       "      <td>1.148611</td>\n",
       "      <td>0.097222</td>\n",
       "    </tr>\n",
       "    <tr>\n",
       "      <th>2</th>\n",
       "      <td>33.0</td>\n",
       "      <td>Jogging</td>\n",
       "      <td>0.500000</td>\n",
       "      <td>1.109722</td>\n",
       "      <td>-0.008333</td>\n",
       "    </tr>\n",
       "    <tr>\n",
       "      <th>3</th>\n",
       "      <td>33.0</td>\n",
       "      <td>Jogging</td>\n",
       "      <td>-0.062500</td>\n",
       "      <td>1.886111</td>\n",
       "      <td>0.308333</td>\n",
       "    </tr>\n",
       "    <tr>\n",
       "      <th>4</th>\n",
       "      <td>33.0</td>\n",
       "      <td>Jogging</td>\n",
       "      <td>-0.120833</td>\n",
       "      <td>1.234722</td>\n",
       "      <td>0.734722</td>\n",
       "    </tr>\n",
       "    <tr>\n",
       "      <th>...</th>\n",
       "      <td>...</td>\n",
       "      <td>...</td>\n",
       "      <td>...</td>\n",
       "      <td>...</td>\n",
       "      <td>...</td>\n",
       "    </tr>\n",
       "    <tr>\n",
       "      <th>1048570</th>\n",
       "      <td>7.0</td>\n",
       "      <td>Standing</td>\n",
       "      <td>-0.823931</td>\n",
       "      <td>0.519036</td>\n",
       "      <td>-0.070360</td>\n",
       "    </tr>\n",
       "    <tr>\n",
       "      <th>1048571</th>\n",
       "      <td>7.0</td>\n",
       "      <td>Standing</td>\n",
       "      <td>-0.828010</td>\n",
       "      <td>0.562883</td>\n",
       "      <td>-0.081577</td>\n",
       "    </tr>\n",
       "    <tr>\n",
       "      <th>1048572</th>\n",
       "      <td>7.0</td>\n",
       "      <td>Standing</td>\n",
       "      <td>-0.804556</td>\n",
       "      <td>0.590416</td>\n",
       "      <td>-0.073420</td>\n",
       "    </tr>\n",
       "    <tr>\n",
       "      <th>1048573</th>\n",
       "      <td>7.0</td>\n",
       "      <td>Standing</td>\n",
       "      <td>-0.804556</td>\n",
       "      <td>0.609790</td>\n",
       "      <td>-0.027532</td>\n",
       "    </tr>\n",
       "    <tr>\n",
       "      <th>1048574</th>\n",
       "      <td>7.0</td>\n",
       "      <td>Standing</td>\n",
       "      <td>-0.828010</td>\n",
       "      <td>0.574100</td>\n",
       "      <td>-0.090755</td>\n",
       "    </tr>\n",
       "  </tbody>\n",
       "</table>\n",
       "<p>1048575 rows × 5 columns</p>\n",
       "</div>"
      ],
      "text/plain": [
       "         Person     State         x         y         z\n",
       "0          33.0   Jogging -0.070833  1.293056  0.051389\n",
       "1          33.0   Jogging  0.511111  1.148611  0.097222\n",
       "2          33.0   Jogging  0.500000  1.109722 -0.008333\n",
       "3          33.0   Jogging -0.062500  1.886111  0.308333\n",
       "4          33.0   Jogging -0.120833  1.234722  0.734722\n",
       "...         ...       ...       ...       ...       ...\n",
       "1048570     7.0  Standing -0.823931  0.519036 -0.070360\n",
       "1048571     7.0  Standing -0.828010  0.562883 -0.081577\n",
       "1048572     7.0  Standing -0.804556  0.590416 -0.073420\n",
       "1048573     7.0  Standing -0.804556  0.609790 -0.027532\n",
       "1048574     7.0  Standing -0.828010  0.574100 -0.090755\n",
       "\n",
       "[1048575 rows x 5 columns]"
      ]
     },
     "execution_count": 3,
     "metadata": {},
     "output_type": "execute_result"
    }
   ],
   "source": [
    "G = 9.80665\n",
    "data['x'] = data['x'].div(G)\n",
    "data['y'] = data['y'].div(G)\n",
    "data['z'] = data['z'].div(G)\n",
    "data"
   ]
  },
  {
   "cell_type": "code",
   "execution_count": 4,
   "metadata": {},
   "outputs": [
    {
     "data": {
      "text/html": [
       "<div>\n",
       "<style scoped>\n",
       "    .dataframe tbody tr th:only-of-type {\n",
       "        vertical-align: middle;\n",
       "    }\n",
       "\n",
       "    .dataframe tbody tr th {\n",
       "        vertical-align: top;\n",
       "    }\n",
       "\n",
       "    .dataframe thead th {\n",
       "        text-align: right;\n",
       "    }\n",
       "</style>\n",
       "<table border=\"1\" class=\"dataframe\">\n",
       "  <thead>\n",
       "    <tr style=\"text-align: right;\">\n",
       "      <th></th>\n",
       "      <th>x</th>\n",
       "      <th>y</th>\n",
       "      <th>z</th>\n",
       "    </tr>\n",
       "    <tr>\n",
       "      <th>State</th>\n",
       "      <th></th>\n",
       "      <th></th>\n",
       "      <th></th>\n",
       "    </tr>\n",
       "  </thead>\n",
       "  <tbody>\n",
       "    <tr>\n",
       "      <th>Downstairs</th>\n",
       "      <td>-0.004167</td>\n",
       "      <td>0.508333</td>\n",
       "      <td>0.663889</td>\n",
       "    </tr>\n",
       "    <tr>\n",
       "      <th>Jogging</th>\n",
       "      <td>-0.070833</td>\n",
       "      <td>1.293056</td>\n",
       "      <td>0.051389</td>\n",
       "    </tr>\n",
       "    <tr>\n",
       "      <th>Sitting</th>\n",
       "      <td>0.265126</td>\n",
       "      <td>0.985046</td>\n",
       "      <td>0.105556</td>\n",
       "    </tr>\n",
       "    <tr>\n",
       "      <th>Standing</th>\n",
       "      <td>-0.191707</td>\n",
       "      <td>1.004420</td>\n",
       "      <td>-0.023611</td>\n",
       "    </tr>\n",
       "    <tr>\n",
       "      <th>Upstairs</th>\n",
       "      <td>1.031945</td>\n",
       "      <td>0.441667</td>\n",
       "      <td>-0.386111</td>\n",
       "    </tr>\n",
       "    <tr>\n",
       "      <th>Walking</th>\n",
       "      <td>0.086111</td>\n",
       "      <td>0.816667</td>\n",
       "      <td>0.284722</td>\n",
       "    </tr>\n",
       "  </tbody>\n",
       "</table>\n",
       "</div>"
      ],
      "text/plain": [
       "                   x         y         z\n",
       "State                                   \n",
       "Downstairs -0.004167  0.508333  0.663889\n",
       "Jogging    -0.070833  1.293056  0.051389\n",
       "Sitting     0.265126  0.985046  0.105556\n",
       "Standing   -0.191707  1.004420 -0.023611\n",
       "Upstairs    1.031945  0.441667 -0.386111\n",
       "Walking     0.086111  0.816667  0.284722"
      ]
     },
     "execution_count": 4,
     "metadata": {},
     "output_type": "execute_result"
    }
   ],
   "source": [
    "data = data.drop(columns = 'Person')\n",
    "df = data.groupby(['State'])\n",
    "df.first()"
   ]
  },
  {
   "cell_type": "code",
   "execution_count": 5,
   "metadata": {},
   "outputs": [
    {
     "data": {
      "text/plain": [
       "97813"
      ]
     },
     "execution_count": 5,
     "metadata": {},
     "output_type": "execute_result"
    },
    {
     "data": {
      "text/plain": [
       "325975"
      ]
     },
     "execution_count": 5,
     "metadata": {},
     "output_type": "execute_result"
    },
    {
     "data": {
      "text/plain": [
       "54876"
      ]
     },
     "execution_count": 5,
     "metadata": {},
     "output_type": "execute_result"
    },
    {
     "data": {
      "text/plain": [
       "44541"
      ]
     },
     "execution_count": 5,
     "metadata": {},
     "output_type": "execute_result"
    },
    {
     "data": {
      "text/plain": [
       "118589"
      ]
     },
     "execution_count": 5,
     "metadata": {},
     "output_type": "execute_result"
    },
    {
     "data": {
      "text/plain": [
       "406776"
      ]
     },
     "execution_count": 5,
     "metadata": {},
     "output_type": "execute_result"
    }
   ],
   "source": [
    "Downstairs = df.get_group(('Downstairs'))\n",
    "Jogging = df.get_group(('Jogging'))\n",
    "Sitting = df.get_group(('Sitting'))\n",
    "Standing = df.get_group(('Standing'))\n",
    "Upstairs = df.get_group(('Upstairs'))\n",
    "Walking = df.get_group(('Walking'))\n",
    "\n",
    "len(Downstairs)\n",
    "len(Jogging)\n",
    "len(Sitting)\n",
    "len(Standing)\n",
    "len(Upstairs)\n",
    "len(Walking)"
   ]
  },
  {
   "cell_type": "code",
   "execution_count": 6,
   "metadata": {},
   "outputs": [
    {
     "data": {
      "text/plain": [
       "44541"
      ]
     },
     "execution_count": 6,
     "metadata": {},
     "output_type": "execute_result"
    },
    {
     "data": {
      "text/plain": [
       "54876"
      ]
     },
     "execution_count": 6,
     "metadata": {},
     "output_type": "execute_result"
    },
    {
     "data": {
      "text/plain": [
       "325975"
      ]
     },
     "execution_count": 6,
     "metadata": {},
     "output_type": "execute_result"
    },
    {
     "data": {
      "text/plain": [
       "623178"
      ]
     },
     "execution_count": 6,
     "metadata": {},
     "output_type": "execute_result"
    }
   ],
   "source": [
    "stand = Standing\n",
    "len(stand)\n",
    "sit = Sitting\n",
    "len(sit)\n",
    "jog = Jogging\n",
    "len(jog)\n",
    "walk = Downstairs.append(Upstairs).append(Walking)\n",
    "len(walk)"
   ]
  },
  {
   "cell_type": "code",
   "execution_count": 7,
   "metadata": {},
   "outputs": [
    {
     "data": {
      "text/plain": [
       "623178"
      ]
     },
     "execution_count": 7,
     "metadata": {},
     "output_type": "execute_result"
    },
    {
     "data": {
      "text/plain": [
       "623177"
      ]
     },
     "execution_count": 7,
     "metadata": {},
     "output_type": "execute_result"
    },
    {
     "data": {
      "text/plain": [
       "0"
      ]
     },
     "execution_count": 7,
     "metadata": {},
     "output_type": "execute_result"
    },
    {
     "data": {
      "text/plain": [
       "pandas.core.frame.DataFrame"
      ]
     },
     "execution_count": 7,
     "metadata": {},
     "output_type": "execute_result"
    }
   ],
   "source": [
    "#Check nan value & remove \n",
    "len(walk.index)\n",
    "\n",
    "walk = walk.dropna()\n",
    "walk.index = pd.RangeIndex(len(walk.index))\n",
    "len(walk.index)\n",
    "walk.isnull().sum().sum()\n",
    "\n",
    "type(walk)"
   ]
  },
  {
   "cell_type": "code",
   "execution_count": 8,
   "metadata": {},
   "outputs": [
    {
     "name": "stdout",
     "output_type": "stream",
     "text": [
      "X_stand:  444\n",
      "X_sit:  547\n",
      "X_jog:  3258\n",
      "X_walk:  6230\n"
     ]
    }
   ],
   "source": [
    "#Fs = 20Hz\n",
    "frame = 200\n",
    "stride = 100\n",
    "\n",
    "def numberOfFrame(dataAction):\n",
    "    return [dataAction[i:i+frame] for i in range(0,len(dataAction),stride) \n",
    "                    if i+frame<=len(dataAction)]\n",
    "\n",
    "X_stand = numberOfFrame(stand)\n",
    "X_sit = numberOfFrame(sit)\n",
    "X_jog = numberOfFrame(jog)\n",
    "X_walk = numberOfFrame(walk)\n",
    "\n",
    "print ('X_stand: ', len(X_stand))\n",
    "print ('X_sit: ', len(X_sit))\n",
    "print ('X_jog: ', len(X_jog))\n",
    "print ('X_walk: ', len(X_walk))"
   ]
  },
  {
   "cell_type": "code",
   "execution_count": 9,
   "metadata": {},
   "outputs": [
    {
     "name": "stdout",
     "output_type": "stream",
     "text": [
      "train =   6286\n",
      "test =   4193\n"
     ]
    }
   ],
   "source": [
    "from sklearn.model_selection import train_test_split \n",
    "RateTrain = 0.4\n",
    "\n",
    "X_stand_train, X_stand_test = train_test_split(X_stand, test_size = RateTrain)\n",
    "X_sit_train, X_sit_test = train_test_split(X_sit, test_size = RateTrain)\n",
    "X_jog_train, X_jog_test = train_test_split(X_jog, test_size = RateTrain)\n",
    "X_walk_train, X_walk_test = train_test_split(X_walk, test_size = RateTrain)\n",
    "\n",
    "print('train =  ', len(X_stand_train)+ len(X_sit_train) + len(X_jog_train) + len(X_walk_train))\n",
    "print('test =  ', len(X_stand_test)+ len(X_sit_test) + len(X_jog_test) + len(X_walk_test))"
   ]
  },
  {
   "cell_type": "code",
   "execution_count": 10,
   "metadata": {},
   "outputs": [
    {
     "name": "stdout",
     "output_type": "stream",
     "text": [
      "train-data length:  6286\n",
      "train-label length:  6286\n",
      "test-data length:  4193\n",
      "test-label length:  4193\n"
     ]
    }
   ],
   "source": [
    "# Don't know how many variables when creating function => use splat operator.\n",
    "def mergeArrayAction (*dataActions):\n",
    "    data = {\n",
    "        \"data\": [],\n",
    "        \"label\": []\n",
    "    }\n",
    "    index = 0\n",
    "    for dataAction in dataActions: \n",
    "        for act in dataAction: \n",
    "            data[\"data\"].append(np.array(acts))\n",
    "            data[\"label\"].append(index)\n",
    "        index += 1\n",
    "    return data\n",
    "\n",
    "dataTrain = mergeArrayAction(\n",
    "    X_stand_train,\n",
    "    X_sit_train,\n",
    "    X_jog_train,\n",
    "    X_walk_train, \n",
    ")\n",
    "\n",
    "dataTest = mergeArrayAction(\n",
    "    X_stand_test,\n",
    "    X_sit_test,\n",
    "    X_jog_test,\n",
    "    X_walk_test\n",
    ")\n",
    "\n",
    "train_data = dataTrain[\"data\"]\n",
    "train_label = dataTrain[\"label\"]\n",
    "\n",
    "test_data = dataTest[\"data\"]\n",
    "test_label = dataTest[\"label\"]\n",
    "\n",
    "print('train-data length: ', len(train_data))\n",
    "print('train-label length: ', len(train_label))\n",
    "print('test-data length: ', len(test_data))\n",
    "print('test-label length: ', len(test_label))"
   ]
  },
  {
   "cell_type": "code",
   "execution_count": 11,
   "metadata": {},
   "outputs": [],
   "source": [
    "def featuresFromBuffer(at):\n",
    "    feat = np.zeros(15)   \n",
    "    \n",
    "    x = np.array(at.iloc[:,0], dtype=np.float64)   \n",
    "    y = np.array(at.iloc[:,1], dtype=np.float64)   \n",
    "    z = np.array(at.iloc[:,2], dtype=np.float64)  \n",
    "    \n",
    "    means = [np.mean(i) for i in [x, y, z]]\n",
    "    feat[0:3] = means \n",
    "    \n",
    "    rms = [np.sqrt(np.mean(i**2)) for i in [x, y, z]]\n",
    "    feat[3:6] = rms\n",
    "\n",
    "    # Standard deviation\n",
    "    std = [np.std(i) for i in [x, y, z]]\n",
    "    feat[6:9] = std\n",
    "\n",
    "    # Median\n",
    "    med = [np.median(i) for i in [x, y, z]]\n",
    "    feat[9:12] = med\n",
    "    \n",
    "    # Range\n",
    "    Range = [np.amax(i)-np.amin(i) for i in [x, y, z]]    \n",
    "    feat[12:15] = Range\n",
    "    \n",
    "    return feat  "
   ]
  },
  {
   "cell_type": "code",
   "execution_count": 12,
   "metadata": {},
   "outputs": [
    {
     "data": {
      "text/plain": [
       "6286"
      ]
     },
     "execution_count": 12,
     "metadata": {},
     "output_type": "execute_result"
    },
    {
     "data": {
      "text/plain": [
       "4193"
      ]
     },
     "execution_count": 12,
     "metadata": {},
     "output_type": "execute_result"
    }
   ],
   "source": [
    "#Create feature array\n",
    "train_features = []\n",
    "test_features = []\n",
    "for action in train_data:\n",
    "    feat = featuresFromBuffer(action)\n",
    "    train_features.append(feat)  \n",
    "\n",
    "for action in test_data:\n",
    "    feat = featuresFromBuffer(action)\n",
    "    test_features.append(feat)\n",
    "\n",
    "len(train_features)\n",
    "len(test_features)"
   ]
  },
  {
   "cell_type": "code",
   "execution_count": 13,
   "metadata": {},
   "outputs": [
    {
     "data": {
      "text/plain": [
       "(array([], dtype=int64), array([], dtype=int64))"
      ]
     },
     "execution_count": 13,
     "metadata": {},
     "output_type": "execute_result"
    },
    {
     "data": {
      "text/plain": [
       "(array([], dtype=int64), array([], dtype=int64))"
      ]
     },
     "execution_count": 13,
     "metadata": {},
     "output_type": "execute_result"
    },
    {
     "data": {
      "text/plain": [
       "6286"
      ]
     },
     "execution_count": 13,
     "metadata": {},
     "output_type": "execute_result"
    },
    {
     "data": {
      "text/plain": [
       "6286"
      ]
     },
     "execution_count": 13,
     "metadata": {},
     "output_type": "execute_result"
    }
   ],
   "source": [
    "#Handel nan value\n",
    "np.where(np.isnan(train_features)) \n",
    "train_features = np.nan_to_num(train_features)\n",
    "np.where(np.isnan(test_features))\n",
    "test_features = np.nan_to_num(test_features)      \n",
    "\n",
    "len(train_features)\n",
    "len(train_label)"
   ]
  },
  {
   "cell_type": "code",
   "execution_count": 14,
   "metadata": {},
   "outputs": [
    {
     "name": "stdout",
     "output_type": "stream",
     "text": [
      "Gradient Boosting Decision Tree:\n",
      "Accuracy of GBDT classifier on training set: 0.993\n",
      "Accuracy of GBDT classifier on test set: 0.982\n",
      "\n",
      "\n",
      "Decision Tree:\n",
      "Accuracy of Decision Tree classifier on training set: 0.979\n",
      "Accuracy of Decision Tree classifier on test set: 0.969\n",
      "\n",
      "\n",
      "SVM:\n",
      "Accuracy on training set: 0.99\n",
      "Accuracy on test set: 0.98\n",
      "\n",
      "\n",
      " Random Forests: \n",
      "Accuracy of RF classifier on training set: 1.000\n",
      "Accuracy of RF classifier on test set: 0.990\n",
      "\n",
      "\n",
      "KNeighbor: \n",
      "Accuracy of K-NN classifier on training set: 1.00\n",
      "Accuracy of K-NN classifier on test set: 0.98\n"
     ]
    }
   ],
   "source": [
    "#Classifier \n",
    "from sklearn.feature_selection import SelectFromModel\n",
    "print(\"Gradient Boosting Decision Tree:\")\n",
    "from sklearn.ensemble import GradientBoostingClassifier\n",
    "clf1 = GradientBoostingClassifier(learning_rate=0.05,max_depth=3,n_estimators=100).fit(train_features, train_label)\n",
    "#format: pass score in {:.3f}\n",
    "print('Accuracy of GBDT classifier on training set: {:.3f}'\n",
    "     .format(clf1.score(train_features, train_label)))\n",
    "print('Accuracy of GBDT classifier on test set: {:.3f}'\n",
    "     .format(clf1.score(test_features, test_label)))\n",
    "\n",
    "print(\"\\n\\nDecision Tree:\") \n",
    "from sklearn.tree import DecisionTreeClassifier\n",
    "from adspy_shared_utilities import plot_decision_tree \n",
    "clf2 = DecisionTreeClassifier(max_depth=4).fit(train_features, train_label)\n",
    "print('Accuracy of Decision Tree classifier on training set: {:.3f}'.format(clf2.score(train_features, train_label)))\n",
    "print('Accuracy of Decision Tree classifier on test set: {:.3f}'\n",
    ".format(clf2.score(test_features, test_label)))\n",
    "\n",
    "\n",
    "print(\"\\n\\nSVM:\")\n",
    "clf3 = SVC(C=100, gamma='scale').fit(train_features, train_label)\n",
    "print(\"Accuracy on training set: {:.2f}\".format(clf3.score(train_features, train_label)))\n",
    "print(\"Accuracy on test set: {:.2f}\".format(clf3.score(test_features, test_label)))\n",
    "\n",
    "\n",
    "print('\\n\\n Random Forests: ')\n",
    "from sklearn.ensemble import RandomForestClassifier\n",
    "clf4 = RandomForestClassifier(n_estimators=200, random_state=0).fit(train_features, train_label)\n",
    "print('Accuracy of RF classifier on training set: {:.3f}'\n",
    "     .format(clf4.score(train_features, train_label)))\n",
    "print('Accuracy of RF classifier on test set: {:.3f}'\n",
    "     .format(clf4.score(test_features, test_label)))\n",
    "\n",
    "\n",
    "print('\\n\\nKNeighbor: ')\n",
    "from sklearn.neighbors import KNeighborsClassifier\n",
    "knn = KNeighborsClassifier(n_neighbors = 5, weights = 'distance').fit(train_features, train_label)\n",
    "print('Accuracy of K-NN classifier on training set: {:.2f}'\n",
    "     .format(knn.score(train_features, train_label)))\n",
    "print('Accuracy of K-NN classifier on test set: {:.2f}'\n",
    "     .format(knn.score(test_features, test_label)))\n"
   ]
  },
  {
   "cell_type": "code",
   "execution_count": 15,
   "metadata": {},
   "outputs": [
    {
     "name": "stdout",
     "output_type": "stream",
     "text": [
      "micro\n"
     ]
    },
    {
     "data": {
      "text/plain": [
       "0.9895063200572383"
      ]
     },
     "execution_count": 15,
     "metadata": {},
     "output_type": "execute_result"
    },
    {
     "data": {
      "text/plain": [
       "0.9895063200572383"
      ]
     },
     "execution_count": 15,
     "metadata": {},
     "output_type": "execute_result"
    },
    {
     "data": {
      "text/plain": [
       "0.9895063200572383"
      ]
     },
     "execution_count": 15,
     "metadata": {},
     "output_type": "execute_result"
    },
    {
     "name": "stdout",
     "output_type": "stream",
     "text": [
      "macro\n"
     ]
    },
    {
     "data": {
      "text/plain": [
       "0.9877506361218428"
      ]
     },
     "execution_count": 15,
     "metadata": {},
     "output_type": "execute_result"
    },
    {
     "data": {
      "text/plain": [
       "0.984672294873865"
      ]
     },
     "execution_count": 15,
     "metadata": {},
     "output_type": "execute_result"
    },
    {
     "data": {
      "text/plain": [
       "0.9910074047262337"
      ]
     },
     "execution_count": 15,
     "metadata": {},
     "output_type": "execute_result"
    }
   ],
   "source": [
    "from sklearn.metrics import classification_report, confusion_matrix\n",
    "from sklearn.metrics import recall_score\n",
    "from sklearn.metrics import precision_score\n",
    "from sklearn.metrics import f1_score\n",
    "      \n",
    "y_pred = clf4.predict(test_features)\n",
    "\n",
    "print('micro')\n",
    "f1_score(test_label, y_pred, average='micro')\n",
    "recall_score(test_label, y_pred, average='micro')\n",
    "precision_score(test_label, y_pred, average='micro',labels=np.unique(y_pred))\n",
    "\n",
    "#overall measurement\n",
    "print('macro')\n",
    "f1_score(test_label, y_pred, average='macro')\n",
    "recall_score(test_label, y_pred, average='macro')\n",
    "precision_score(test_label, y_pred, average='macro',labels=np.unique(y_pred))"
   ]
  },
  {
   "cell_type": "code",
   "execution_count": 16,
   "metadata": {},
   "outputs": [
    {
     "name": "stdout",
     "output_type": "stream",
     "text": [
      "Confusion matrix, without normalization\n",
      "[[ 177    0    0    1]\n",
      " [   2  211    1    5]\n",
      " [   0    0 1290   14]\n",
      " [   0    0   21 2471]]\n",
      "Normalized confusion matrix\n",
      "[[0.99 0.   0.   0.01]\n",
      " [0.01 0.96 0.   0.02]\n",
      " [0.   0.   0.99 0.01]\n",
      " [0.   0.   0.01 0.99]]\n"
     ]
    },
    {
     "data": {
      "image/png": "[encoded data removed]",
      "text/plain": [
       "<Figure size 720x432 with 2 Axes>"
      ]
     },
     "metadata": {
      "needs_background": "light"
     },
     "output_type": "display_data"
    },
    {
     "data": {
      "image/png": "[encoded data removed]",
      "text/plain": [
       "<Figure size 720x432 with 2 Axes>"
      ]
     },
     "metadata": {},
     "output_type": "display_data"
    },
    {
     "name": "stdout",
     "output_type": "stream",
     "text": [
      "\n",
      "Classification Report: \n",
      "              precision    recall  f1-score   support\n",
      "\n",
      "           0       0.99      0.99      0.99       178\n",
      "           1       1.00      0.96      0.98       219\n",
      "           2       0.98      0.99      0.99      1304\n",
      "           3       0.99      0.99      0.99      2492\n",
      "\n",
      "    accuracy                           0.99      4193\n",
      "   macro avg       0.99      0.98      0.99      4193\n",
      "weighted avg       0.99      0.99      0.99      4193\n",
      "\n"
     ]
    }
   ],
   "source": [
    "from sklearn.metrics import classification_report, confusion_matrix\n",
    "import seaborn as sb\n",
    "from sklearn.utils.multiclass import unique_labels\n",
    "\n",
    "target_names = ['Standing', 'Sitting', 'Jogging', 'Walking']\n",
    "\n",
    "y_pred = clf4.predict(test_features)\n",
    "lables = np.concatenate([target_names, ])\n",
    "\n",
    "from sklearn.metrics import f1_score\n",
    "\n",
    "def plot_confusion_matrix(y_true, y_pred, classes,\n",
    "                          normalize=False, title=None):\n",
    "    cm = confusion_matrix(y_true, y_pred)\n",
    "    classes = classes[unique_labels(y_true, y_pred)]\n",
    "    if normalize:\n",
    "        cm = cm.astype('float') / cm.sum(axis=1)[:, np.newaxis]\n",
    "        print(\"Normalized confusion matrix\")\n",
    "    else:\n",
    "        print('Confusion matrix, without normalization')\n",
    "\n",
    "    print(cm)\n",
    "    \n",
    "    fig, ax = plt.subplots(figsize = (10,6))\n",
    "    dataFrame = pd.DataFrame(cm)\n",
    "    sb.heatmap(dataFrame, annot = True)  \n",
    "    ax.set(xticklabels=classes, yticklabels=classes,\n",
    "           title=title,\n",
    "           ylabel='True label',\n",
    "           xlabel='Predicted label')\n",
    "    ax.set_yticklabels(ax.get_yticklabels(), rotation=0)\n",
    "    ax.set_xticklabels(ax.get_xticklabels(), rotation=30)\n",
    "\n",
    "    sb.set(font_scale = 1.3)\n",
    "\n",
    "np.set_printoptions(precision=2)\n",
    "\n",
    "plot_confusion_matrix(test_label, y_pred, classes=lables,  \n",
    "        title='GDBT \\nConfusion matrix, without normalization')\n",
    "\n",
    "# Plot normalized confusion matrix\n",
    "plot_confusion_matrix(test_label, y_pred, classes=lables, normalize=True,\n",
    "        title='GDBT \\nNormalized confusion matrix')\n",
    "\n",
    "plt.show()\n",
    "print (\"\\nClassification Report: \")\n",
    "print (classification_report(test_label, y_pred,labels=np.unique(y_pred)))\n"
   ]
  }
 ],
 "metadata": {
  "kernelspec": {
   "display_name": "Python 3.6.8 64-bit",
   "language": "python",
   "name": "python36864bita6c16f8bd0f8458dae0b3c3b36181794"
  },
  "language_info": {
   "codemirror_mode": {
    "name": "ipython",
    "version": 3
   },
   "file_extension": ".py",
   "mimetype": "text/x-python",
   "name": "python",
   "nbconvert_exporter": "python",
   "pygments_lexer": "ipython3",
   "version": "3.6.8"
  }
 },
 "nbformat": 4,
 "nbformat_minor": 2
}
