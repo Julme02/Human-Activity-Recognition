{
 "cells": [
  {
   "cell_type": "code",
   "execution_count": 1,
   "metadata": {},
   "outputs": [],
   "source": [
    "import numpy as np\n",
    "import matplotlib\n",
    "import matplotlib.pyplot as plt\n",
    "from sklearn import metrics\n",
    "import pandas as pd\n",
    "from scipy import signal\n",
    "from scipy import stats\n",
    "import os\n",
    "from IPython.core.interactiveshell import InteractiveShell\n",
    "InteractiveShell.ast_node_interactivity = 'all'\n",
    "# for svm\n",
    "from sklearn.model_selection import train_test_split\n",
    "from sklearn.model_selection import GridSearchCV\n",
    "from sklearn.metrics import classification_report\n",
    "from sklearn.metrics import confusion_matrix\n",
    "from sklearn.svm import SVC\n",
    "from scipy.stats import entropy"
   ]
  },
  {
   "cell_type": "code",
   "execution_count": 2,
   "metadata": {},
   "outputs": [
    {
     "data": {
      "text/plain": [
       "Index(['Person', 'State', 'x', 'y', 'z'], dtype='object')"
      ]
     },
     "execution_count": 2,
     "metadata": {},
     "output_type": "execute_result"
    },
    {
     "data": {
      "text/html": [
       "<div>\n",
       "<style scoped>\n",
       "    .dataframe tbody tr th:only-of-type {\n",
       "        vertical-align: middle;\n",
       "    }\n",
       "\n",
       "    .dataframe tbody tr th {\n",
       "        vertical-align: top;\n",
       "    }\n",
       "\n",
       "    .dataframe thead th {\n",
       "        text-align: right;\n",
       "    }\n",
       "</style>\n",
       "<table border=\"1\" class=\"dataframe\">\n",
       "  <thead>\n",
       "    <tr style=\"text-align: right;\">\n",
       "      <th></th>\n",
       "      <th>Person</th>\n",
       "      <th>State</th>\n",
       "      <th>x</th>\n",
       "      <th>y</th>\n",
       "      <th>z</th>\n",
       "    </tr>\n",
       "  </thead>\n",
       "  <tbody>\n",
       "    <tr>\n",
       "      <th>0</th>\n",
       "      <td>33.0</td>\n",
       "      <td>Jogging</td>\n",
       "      <td>-0.694638</td>\n",
       "      <td>12.680544</td>\n",
       "      <td>0.503953</td>\n",
       "    </tr>\n",
       "    <tr>\n",
       "      <th>1</th>\n",
       "      <td>33.0</td>\n",
       "      <td>Jogging</td>\n",
       "      <td>5.012288</td>\n",
       "      <td>11.264028</td>\n",
       "      <td>0.953424</td>\n",
       "    </tr>\n",
       "    <tr>\n",
       "      <th>2</th>\n",
       "      <td>33.0</td>\n",
       "      <td>Jogging</td>\n",
       "      <td>4.903325</td>\n",
       "      <td>10.882658</td>\n",
       "      <td>-0.081722</td>\n",
       "    </tr>\n",
       "    <tr>\n",
       "      <th>3</th>\n",
       "      <td>33.0</td>\n",
       "      <td>Jogging</td>\n",
       "      <td>-0.612916</td>\n",
       "      <td>18.496431</td>\n",
       "      <td>3.023717</td>\n",
       "    </tr>\n",
       "    <tr>\n",
       "      <th>4</th>\n",
       "      <td>33.0</td>\n",
       "      <td>Jogging</td>\n",
       "      <td>-1.184970</td>\n",
       "      <td>12.108489</td>\n",
       "      <td>7.205164</td>\n",
       "    </tr>\n",
       "    <tr>\n",
       "      <th>...</th>\n",
       "      <td>...</td>\n",
       "      <td>...</td>\n",
       "      <td>...</td>\n",
       "      <td>...</td>\n",
       "      <td>...</td>\n",
       "    </tr>\n",
       "    <tr>\n",
       "      <th>1048570</th>\n",
       "      <td>7.0</td>\n",
       "      <td>Standing</td>\n",
       "      <td>-8.080000</td>\n",
       "      <td>5.090000</td>\n",
       "      <td>-0.690000</td>\n",
       "    </tr>\n",
       "    <tr>\n",
       "      <th>1048571</th>\n",
       "      <td>7.0</td>\n",
       "      <td>Standing</td>\n",
       "      <td>-8.120000</td>\n",
       "      <td>5.520000</td>\n",
       "      <td>-0.800000</td>\n",
       "    </tr>\n",
       "    <tr>\n",
       "      <th>1048572</th>\n",
       "      <td>7.0</td>\n",
       "      <td>Standing</td>\n",
       "      <td>-7.890000</td>\n",
       "      <td>5.790000</td>\n",
       "      <td>-0.720000</td>\n",
       "    </tr>\n",
       "    <tr>\n",
       "      <th>1048573</th>\n",
       "      <td>7.0</td>\n",
       "      <td>Standing</td>\n",
       "      <td>-7.890000</td>\n",
       "      <td>5.980000</td>\n",
       "      <td>-0.270000</td>\n",
       "    </tr>\n",
       "    <tr>\n",
       "      <th>1048574</th>\n",
       "      <td>7.0</td>\n",
       "      <td>Standing</td>\n",
       "      <td>-8.120000</td>\n",
       "      <td>5.630000</td>\n",
       "      <td>-0.890000</td>\n",
       "    </tr>\n",
       "  </tbody>\n",
       "</table>\n",
       "<p>1048575 rows × 5 columns</p>\n",
       "</div>"
      ],
      "text/plain": [
       "         Person     State         x          y         z\n",
       "0          33.0   Jogging -0.694638  12.680544  0.503953\n",
       "1          33.0   Jogging  5.012288  11.264028  0.953424\n",
       "2          33.0   Jogging  4.903325  10.882658 -0.081722\n",
       "3          33.0   Jogging -0.612916  18.496431  3.023717\n",
       "4          33.0   Jogging -1.184970  12.108489  7.205164\n",
       "...         ...       ...       ...        ...       ...\n",
       "1048570     7.0  Standing -8.080000   5.090000 -0.690000\n",
       "1048571     7.0  Standing -8.120000   5.520000 -0.800000\n",
       "1048572     7.0  Standing -7.890000   5.790000 -0.720000\n",
       "1048573     7.0  Standing -7.890000   5.980000 -0.270000\n",
       "1048574     7.0  Standing -8.120000   5.630000 -0.890000\n",
       "\n",
       "[1048575 rows x 5 columns]"
      ]
     },
     "execution_count": 2,
     "metadata": {},
     "output_type": "execute_result"
    }
   ],
   "source": [
    "import time\n",
    "start_time1 = time.time()\n",
    "data = pd.read_excel(r'..\\..\\dataArticle\\publicData\\data.xlsx')\n",
    "data.columns\n",
    "data"
   ]
  },
  {
   "cell_type": "code",
   "execution_count": 3,
   "metadata": {},
   "outputs": [
    {
     "data": {
      "text/html": [
       "<div>\n",
       "<style scoped>\n",
       "    .dataframe tbody tr th:only-of-type {\n",
       "        vertical-align: middle;\n",
       "    }\n",
       "\n",
       "    .dataframe tbody tr th {\n",
       "        vertical-align: top;\n",
       "    }\n",
       "\n",
       "    .dataframe thead th {\n",
       "        text-align: right;\n",
       "    }\n",
       "</style>\n",
       "<table border=\"1\" class=\"dataframe\">\n",
       "  <thead>\n",
       "    <tr style=\"text-align: right;\">\n",
       "      <th></th>\n",
       "      <th>Person</th>\n",
       "      <th>State</th>\n",
       "      <th>x</th>\n",
       "      <th>y</th>\n",
       "      <th>z</th>\n",
       "    </tr>\n",
       "  </thead>\n",
       "  <tbody>\n",
       "    <tr>\n",
       "      <th>0</th>\n",
       "      <td>33.0</td>\n",
       "      <td>Jogging</td>\n",
       "      <td>-0.070833</td>\n",
       "      <td>1.293056</td>\n",
       "      <td>0.051389</td>\n",
       "    </tr>\n",
       "    <tr>\n",
       "      <th>1</th>\n",
       "      <td>33.0</td>\n",
       "      <td>Jogging</td>\n",
       "      <td>0.511111</td>\n",
       "      <td>1.148611</td>\n",
       "      <td>0.097222</td>\n",
       "    </tr>\n",
       "    <tr>\n",
       "      <th>2</th>\n",
       "      <td>33.0</td>\n",
       "      <td>Jogging</td>\n",
       "      <td>0.500000</td>\n",
       "      <td>1.109722</td>\n",
       "      <td>-0.008333</td>\n",
       "    </tr>\n",
       "    <tr>\n",
       "      <th>3</th>\n",
       "      <td>33.0</td>\n",
       "      <td>Jogging</td>\n",
       "      <td>-0.062500</td>\n",
       "      <td>1.886111</td>\n",
       "      <td>0.308333</td>\n",
       "    </tr>\n",
       "    <tr>\n",
       "      <th>4</th>\n",
       "      <td>33.0</td>\n",
       "      <td>Jogging</td>\n",
       "      <td>-0.120833</td>\n",
       "      <td>1.234722</td>\n",
       "      <td>0.734722</td>\n",
       "    </tr>\n",
       "    <tr>\n",
       "      <th>...</th>\n",
       "      <td>...</td>\n",
       "      <td>...</td>\n",
       "      <td>...</td>\n",
       "      <td>...</td>\n",
       "      <td>...</td>\n",
       "    </tr>\n",
       "    <tr>\n",
       "      <th>1048570</th>\n",
       "      <td>7.0</td>\n",
       "      <td>Standing</td>\n",
       "      <td>-0.823931</td>\n",
       "      <td>0.519036</td>\n",
       "      <td>-0.070360</td>\n",
       "    </tr>\n",
       "    <tr>\n",
       "      <th>1048571</th>\n",
       "      <td>7.0</td>\n",
       "      <td>Standing</td>\n",
       "      <td>-0.828010</td>\n",
       "      <td>0.562883</td>\n",
       "      <td>-0.081577</td>\n",
       "    </tr>\n",
       "    <tr>\n",
       "      <th>1048572</th>\n",
       "      <td>7.0</td>\n",
       "      <td>Standing</td>\n",
       "      <td>-0.804556</td>\n",
       "      <td>0.590416</td>\n",
       "      <td>-0.073420</td>\n",
       "    </tr>\n",
       "    <tr>\n",
       "      <th>1048573</th>\n",
       "      <td>7.0</td>\n",
       "      <td>Standing</td>\n",
       "      <td>-0.804556</td>\n",
       "      <td>0.609790</td>\n",
       "      <td>-0.027532</td>\n",
       "    </tr>\n",
       "    <tr>\n",
       "      <th>1048574</th>\n",
       "      <td>7.0</td>\n",
       "      <td>Standing</td>\n",
       "      <td>-0.828010</td>\n",
       "      <td>0.574100</td>\n",
       "      <td>-0.090755</td>\n",
       "    </tr>\n",
       "  </tbody>\n",
       "</table>\n",
       "<p>1048575 rows × 5 columns</p>\n",
       "</div>"
      ],
      "text/plain": [
       "         Person     State         x         y         z\n",
       "0          33.0   Jogging -0.070833  1.293056  0.051389\n",
       "1          33.0   Jogging  0.511111  1.148611  0.097222\n",
       "2          33.0   Jogging  0.500000  1.109722 -0.008333\n",
       "3          33.0   Jogging -0.062500  1.886111  0.308333\n",
       "4          33.0   Jogging -0.120833  1.234722  0.734722\n",
       "...         ...       ...       ...       ...       ...\n",
       "1048570     7.0  Standing -0.823931  0.519036 -0.070360\n",
       "1048571     7.0  Standing -0.828010  0.562883 -0.081577\n",
       "1048572     7.0  Standing -0.804556  0.590416 -0.073420\n",
       "1048573     7.0  Standing -0.804556  0.609790 -0.027532\n",
       "1048574     7.0  Standing -0.828010  0.574100 -0.090755\n",
       "\n",
       "[1048575 rows x 5 columns]"
      ]
     },
     "execution_count": 3,
     "metadata": {},
     "output_type": "execute_result"
    }
   ],
   "source": [
    "G = 9.80665\n",
    "data['x'] = data['x'].div(G)\n",
    "data['y'] = data['y'].div(G)\n",
    "data['z'] = data['z'].div(G)\n",
    "data"
   ]
  },
  {
   "cell_type": "code",
   "execution_count": 4,
   "metadata": {},
   "outputs": [
    {
     "data": {
      "text/html": [
       "<div>\n",
       "<style scoped>\n",
       "    .dataframe tbody tr th:only-of-type {\n",
       "        vertical-align: middle;\n",
       "    }\n",
       "\n",
       "    .dataframe tbody tr th {\n",
       "        vertical-align: top;\n",
       "    }\n",
       "\n",
       "    .dataframe thead th {\n",
       "        text-align: right;\n",
       "    }\n",
       "</style>\n",
       "<table border=\"1\" class=\"dataframe\">\n",
       "  <thead>\n",
       "    <tr style=\"text-align: right;\">\n",
       "      <th></th>\n",
       "      <th>x</th>\n",
       "      <th>y</th>\n",
       "      <th>z</th>\n",
       "    </tr>\n",
       "    <tr>\n",
       "      <th>State</th>\n",
       "      <th></th>\n",
       "      <th></th>\n",
       "      <th></th>\n",
       "    </tr>\n",
       "  </thead>\n",
       "  <tbody>\n",
       "    <tr>\n",
       "      <th>Downstairs</th>\n",
       "      <td>-0.004167</td>\n",
       "      <td>0.508333</td>\n",
       "      <td>0.663889</td>\n",
       "    </tr>\n",
       "    <tr>\n",
       "      <th>Jogging</th>\n",
       "      <td>-0.070833</td>\n",
       "      <td>1.293056</td>\n",
       "      <td>0.051389</td>\n",
       "    </tr>\n",
       "    <tr>\n",
       "      <th>Sitting</th>\n",
       "      <td>0.265126</td>\n",
       "      <td>0.985046</td>\n",
       "      <td>0.105556</td>\n",
       "    </tr>\n",
       "    <tr>\n",
       "      <th>Standing</th>\n",
       "      <td>-0.191707</td>\n",
       "      <td>1.004420</td>\n",
       "      <td>-0.023611</td>\n",
       "    </tr>\n",
       "    <tr>\n",
       "      <th>Upstairs</th>\n",
       "      <td>1.031945</td>\n",
       "      <td>0.441667</td>\n",
       "      <td>-0.386111</td>\n",
       "    </tr>\n",
       "    <tr>\n",
       "      <th>Walking</th>\n",
       "      <td>0.086111</td>\n",
       "      <td>0.816667</td>\n",
       "      <td>0.284722</td>\n",
       "    </tr>\n",
       "  </tbody>\n",
       "</table>\n",
       "</div>"
      ],
      "text/plain": [
       "                   x         y         z\n",
       "State                                   \n",
       "Downstairs -0.004167  0.508333  0.663889\n",
       "Jogging    -0.070833  1.293056  0.051389\n",
       "Sitting     0.265126  0.985046  0.105556\n",
       "Standing   -0.191707  1.004420 -0.023611\n",
       "Upstairs    1.031945  0.441667 -0.386111\n",
       "Walking     0.086111  0.816667  0.284722"
      ]
     },
     "execution_count": 4,
     "metadata": {},
     "output_type": "execute_result"
    }
   ],
   "source": [
    "data = data.drop(columns = 'Person')\n",
    "df = data.groupby(['State'])\n",
    "df.first()"
   ]
  },
  {
   "cell_type": "code",
   "execution_count": 5,
   "metadata": {},
   "outputs": [
    {
     "data": {
      "text/plain": [
       "97813"
      ]
     },
     "execution_count": 5,
     "metadata": {},
     "output_type": "execute_result"
    },
    {
     "data": {
      "text/plain": [
       "325975"
      ]
     },
     "execution_count": 5,
     "metadata": {},
     "output_type": "execute_result"
    },
    {
     "data": {
      "text/plain": [
       "54876"
      ]
     },
     "execution_count": 5,
     "metadata": {},
     "output_type": "execute_result"
    },
    {
     "data": {
      "text/plain": [
       "44541"
      ]
     },
     "execution_count": 5,
     "metadata": {},
     "output_type": "execute_result"
    },
    {
     "data": {
      "text/plain": [
       "118589"
      ]
     },
     "execution_count": 5,
     "metadata": {},
     "output_type": "execute_result"
    },
    {
     "data": {
      "text/plain": [
       "406776"
      ]
     },
     "execution_count": 5,
     "metadata": {},
     "output_type": "execute_result"
    }
   ],
   "source": [
    "Downstairs = df.get_group(('Downstairs'))\n",
    "Jogging = df.get_group(('Jogging'))\n",
    "Sitting = df.get_group(('Sitting'))\n",
    "Standing = df.get_group(('Standing'))\n",
    "Upstairs = df.get_group(('Upstairs'))\n",
    "Walking = df.get_group(('Walking'))\n",
    "\n",
    "len(Downstairs)\n",
    "len(Jogging)\n",
    "len(Sitting)\n",
    "len(Standing)\n",
    "len(Upstairs)\n",
    "len(Walking)"
   ]
  },
  {
   "cell_type": "code",
   "execution_count": 6,
   "metadata": {},
   "outputs": [
    {
     "data": {
      "text/plain": [
       "44541"
      ]
     },
     "execution_count": 6,
     "metadata": {},
     "output_type": "execute_result"
    },
    {
     "data": {
      "text/plain": [
       "54876"
      ]
     },
     "execution_count": 6,
     "metadata": {},
     "output_type": "execute_result"
    },
    {
     "data": {
      "text/plain": [
       "325975"
      ]
     },
     "execution_count": 6,
     "metadata": {},
     "output_type": "execute_result"
    },
    {
     "data": {
      "text/plain": [
       "623178"
      ]
     },
     "execution_count": 6,
     "metadata": {},
     "output_type": "execute_result"
    }
   ],
   "source": [
    "stand = Standing\n",
    "len(stand)\n",
    "sit = Sitting\n",
    "len(sit)\n",
    "jog = Jogging\n",
    "len(jog)\n",
    "walk = Downstairs.append(Upstairs).append(Walking)\n",
    "len(walk)"
   ]
  },
  {
   "cell_type": "code",
   "execution_count": 7,
   "metadata": {},
   "outputs": [
    {
     "data": {
      "text/plain": [
       "623178"
      ]
     },
     "execution_count": 7,
     "metadata": {},
     "output_type": "execute_result"
    },
    {
     "data": {
      "text/plain": [
       "623177"
      ]
     },
     "execution_count": 7,
     "metadata": {},
     "output_type": "execute_result"
    },
    {
     "data": {
      "text/plain": [
       "0"
      ]
     },
     "execution_count": 7,
     "metadata": {},
     "output_type": "execute_result"
    },
    {
     "data": {
      "text/plain": [
       "pandas.core.frame.DataFrame"
      ]
     },
     "execution_count": 7,
     "metadata": {},
     "output_type": "execute_result"
    }
   ],
   "source": [
    "#Check nan value & remove \n",
    "len(walk.index)\n",
    "\n",
    "walk = walk.dropna()\n",
    "walk.index = pd.RangeIndex(len(walk.index))\n",
    "len(walk.index)\n",
    "walk.isnull().sum().sum()\n",
    "\n",
    "type(walk)"
   ]
  },
  {
   "cell_type": "code",
   "execution_count": 8,
   "metadata": {},
   "outputs": [
    {
     "name": "stdout",
     "output_type": "stream",
     "text": [
      "X_stand:  444\n",
      "X_sit:  547\n",
      "X_jog:  3258\n",
      "X_walk:  6230\n"
     ]
    }
   ],
   "source": [
    "#Fs = 20Hz\n",
    "frame = 200\n",
    "stride = 100\n",
    "\n",
    "def numberOfFrame(dataAction):\n",
    "    return [dataAction[i:i+frame] for i in range(0,len(dataAction),stride) if i+frame<=len(dataAction)]\n",
    "\n",
    "X_stand = numberOfFrame(stand)\n",
    "X_sit = numberOfFrame(sit)\n",
    "X_jog = numberOfFrame(jog)\n",
    "X_walk = numberOfFrame(walk)\n",
    "\n",
    "print ('X_stand: ', len(X_stand))\n",
    "print ('X_sit: ', len(X_sit))\n",
    "print ('X_jog: ', len(X_jog))\n",
    "print ('X_walk: ', len(X_walk))"
   ]
  },
  {
   "cell_type": "code",
   "execution_count": 9,
   "metadata": {},
   "outputs": [
    {
     "name": "stdout",
     "output_type": "stream",
     "text": [
      "train =   6286\n",
      "test =   4193\n"
     ]
    }
   ],
   "source": [
    "from sklearn.model_selection import train_test_split\n",
    "RateTrain = 0.4\n",
    "\n",
    "X_stand_train, X_stand_test = train_test_split(X_stand, test_size = RateTrain)\n",
    "X_sit_train, X_sit_test = train_test_split(X_sit, test_size = RateTrain)\n",
    "X_jog_train, X_jog_test = train_test_split(X_jog, test_size = RateTrain)\n",
    "X_walk_train, X_walk_test = train_test_split(X_walk, test_size = RateTrain)\n",
    "\n",
    "print('train =  ', len(X_stand_train)+ len(X_sit_train) + len(X_jog_train) + len(X_walk_train))\n",
    "print('test =  ', len(X_stand_test)+ len(X_sit_test) + len(X_jog_test) + len(X_walk_test))"
   ]
  },
  {
   "cell_type": "code",
   "execution_count": 10,
   "metadata": {},
   "outputs": [
    {
     "name": "stdout",
     "output_type": "stream",
     "text": [
      "train-data length:  6286\n",
      "train-label length:  6286\n",
      "test-data length:  4193\n",
      "test-label length:  4193\n"
     ]
    }
   ],
   "source": [
    "# Don't know how many variables when creating function => use splat operator.\n",
    "def mergeArrayAction (*dataActions):\n",
    "    data = {\n",
    "        \"data\": [],\n",
    "        \"label\": []\n",
    "    }\n",
    "    index = 0\n",
    "    for dataAction in dataActions: \n",
    "        for act in dataAction: \n",
    "            data[\"data\"].append(np.array(act))\n",
    "            data[\"label\"].append(index)\n",
    "        index += 1\n",
    "    return data\n",
    "\n",
    "dataTrain = mergeArrayAction(\n",
    "    X_stand_train,\n",
    "    X_sit_train,\n",
    "    X_jog_train,\n",
    "    X_walk_train, \n",
    ")\n",
    "\n",
    "dataTest = mergeArrayAction(\n",
    "    X_stand_test,\n",
    "    X_sit_test,\n",
    "    X_jog_test,\n",
    "    X_walk_test\n",
    ")\n",
    "\n",
    "train_data = dataTrain[\"data\"]\n",
    "train_label = dataTrain[\"label\"]\n",
    "\n",
    "test_data = dataTest[\"data\"]\n",
    "test_label = dataTest[\"label\"]\n",
    "\n",
    "print('train-data length: ', len(train_data))\n",
    "print('train-label length: ', len(train_label))\n",
    "print('test-data length: ', len(test_data))\n",
    "print('test-label length: ', len(test_label))"
   ]
  },
  {
   "cell_type": "code",
   "execution_count": 11,
   "metadata": {},
   "outputs": [],
   "source": [
    "X_train = np.array(train_data)\n",
    "X_test = np.array(test_data)\n",
    "\n",
    "y_train = np.array(train_label)\n",
    "y_test = np.array(test_label)"
   ]
  },
  {
   "cell_type": "code",
   "execution_count": 18,
   "metadata": {},
   "outputs": [],
   "source": [
    "LABELS = [ \n",
    "    \"STANDING\",\n",
    "    \"SITTING\",\n",
    "    \"JOGGING\",\n",
    "    \"WALKING\"\n",
    "]"
   ]
  },
  {
   "cell_type": "code",
   "execution_count": 12,
   "metadata": {},
   "outputs": [
    {
     "name": "stdout",
     "output_type": "stream",
     "text": [
      "Some useful info to get an insight on dataset's shape and normalisation:\n",
      "(X shape, y shape, every X's mean, every X's standard deviation)\n",
      "(4193, 200, 3) (4193,) 0.2923170182593284 0.7062901166260606\n",
      "The dataset is therefore properly normalised, as expected, but not yet one-hot encoded.\n"
     ]
    }
   ],
   "source": [
    "# Input Data \n",
    "\n",
    "training_data_count = len(X_train)  # 6294 training series (with 50% overlap between each serie)\n",
    "test_data_count = len(X_test)  # 4188 testing series\n",
    "n_steps = len(X_train[0])  # 200 timesteps per series\n",
    "n_input = len(X_train[0][0])  # 3 input parameters per timestep\n",
    "\n",
    "# LSTM Neural Network's internal structure\n",
    "\n",
    "n_hidden = 32 # Hidden layer num of features\n",
    "n_classes = 4 # Total classes (should go up, or should go down)\n",
    "\n",
    "# Training \n",
    "\n",
    "learning_rate = 0.0025\n",
    "lambda_loss_amount = 0.0015\n",
    "training_iters = training_data_count * 300  # Loop 300 times on the dataset\n",
    "batch_size = 1500\n",
    "display_iter = 30000  # To show test set accuracy during training\n",
    "\n",
    "\n",
    "# Some debugging info\n",
    "print(\"Some useful info to get an insight on dataset's shape and normalisation:\")\n",
    "print(\"(X shape, y shape, every X's mean, every X's standard deviation)\")\n",
    "print(X_test.shape, y_test.shape, np.mean(X_test), np.std(X_test))\n",
    "print(\"The dataset is therefore properly normalised, as expected, but not yet one-hot encoded.\")\n"
   ]
  },
  {
   "cell_type": "code",
   "execution_count": 13,
   "metadata": {},
   "outputs": [],
   "source": [
    "def LSTM_RNN(_X, _weights, _biases):\n",
    "    # Function returns a tensorflow LSTM (RNN) artificial neural network from given parameters. \n",
    "    # Moreover, two LSTM cells are stacked which adds deepness to the neural network. \n",
    "    # Note, some code of this notebook is inspired from an slightly different \n",
    "    # RNN architecture used on another dataset, some of the credits goes to \n",
    "    # \"aymericdamien\" under the MIT license.\n",
    "\n",
    "    # (NOTE: This step could be greatly optimised by shaping the dataset once\n",
    "    # input shape: (batch_size, n_steps, n_input)\n",
    "    _X = tf.transpose(_X, [1, 0, 2])  # permute n_steps and batch_size\n",
    "    # Reshape to prepare input to hidden activation\n",
    "    _X = tf.reshape(_X, [-1, n_input]) \n",
    "    # new shape: (n_steps*batch_size, n_input)\n",
    "    \n",
    "    # ReLU activation, thanks to Yu Zhao for adding this improvement here:\n",
    "    _X = tf.nn.relu(tf.matmul(_X, _weights['hidden']) + _biases['hidden'])\n",
    "    # Split data because rnn cell needs a list of inputs for the RNN inner loop\n",
    "    _X = tf.split(_X, n_steps, 0) \n",
    "    # new shape: n_steps * (batch_size, n_hidden)\n",
    "\n",
    "    # Define two stacked LSTM cells (two recurrent layers deep) with tensorflow\n",
    "    lstm_cell_1 = tf.contrib.rnn.BasicLSTMCell(n_hidden, forget_bias=1.0, state_is_tuple=True)\n",
    "    lstm_cell_2 = tf.contrib.rnn.BasicLSTMCell(n_hidden, forget_bias=1.0, state_is_tuple=True)\n",
    "    lstm_cells = tf.contrib.rnn.MultiRNNCell([lstm_cell_1, lstm_cell_2], state_is_tuple=True)\n",
    "    # Get LSTM cell output\n",
    "    outputs, states = tf.contrib.rnn.static_rnn(lstm_cells, _X, dtype=tf.float32)\n",
    "\n",
    "    # Get last time step's output feature for a \"many-to-one\" style classifier, \n",
    "    # as in the image describing RNNs at the top of this page\n",
    "    lstm_last_output = outputs[-1]\n",
    "    \n",
    "    # Linear activation\n",
    "    return tf.matmul(lstm_last_output, _weights['out']) + _biases['out']\n",
    "\n",
    "\n",
    "def extract_batch_size(_train, step, batch_size):\n",
    "    # Function to fetch a \"batch_size\" amount of data from \"(X|y)_train\" data. \n",
    "    \n",
    "    shape = list(_train.shape)\n",
    "    shape[0] = batch_size\n",
    "    batch_s = np.empty(shape)\n",
    "\n",
    "    for i in range(batch_size):\n",
    "        # Loop index\n",
    "        index = ((step-1)*batch_size + i) % len(_train)\n",
    "        batch_s[i] = _train[index] \n",
    "\n",
    "    return batch_s\n",
    "\n",
    "\n",
    "def one_hot(y_, n_classes=n_classes):\n",
    "    # Function to encode neural one-hot output labels from number indexes \n",
    "    # e.g.: \n",
    "    # one_hot(y_=[[5], [0], [3]], n_classes=6):\n",
    "    #     return [[0, 0, 0, 0, 0, 1], [1, 0, 0, 0, 0, 0], [0, 0, 0, 1, 0, 0]]\n",
    "    \n",
    "    y_ = y_.reshape(len(y_))\n",
    "    return np.eye(n_classes)[np.array(y_, dtype=np.int32)]  # Returns FLOATS\n"
   ]
  },
  {
   "cell_type": "code",
   "execution_count": 14,
   "metadata": {},
   "outputs": [
    {
     "name": "stderr",
     "output_type": "stream",
     "text": [
      "C:\\Users\\dell\\AppData\\Local\\Programs\\Python\\Python36\\lib\\site-packages\\tensorflow\\python\\framework\\dtypes.py:519: FutureWarning: Passing (type, 1) or '1type' as a synonym of type is deprecated; in a future version of numpy, it will be understood as (type, (1,)) / '(1,)type'.\n",
      "  _np_qint8 = np.dtype([(\"qint8\", np.int8, 1)])\n",
      "C:\\Users\\dell\\AppData\\Local\\Programs\\Python\\Python36\\lib\\site-packages\\tensorflow\\python\\framework\\dtypes.py:520: FutureWarning: Passing (type, 1) or '1type' as a synonym of type is deprecated; in a future version of numpy, it will be understood as (type, (1,)) / '(1,)type'.\n",
      "  _np_quint8 = np.dtype([(\"quint8\", np.uint8, 1)])\n",
      "C:\\Users\\dell\\AppData\\Local\\Programs\\Python\\Python36\\lib\\site-packages\\tensorflow\\python\\framework\\dtypes.py:521: FutureWarning: Passing (type, 1) or '1type' as a synonym of type is deprecated; in a future version of numpy, it will be understood as (type, (1,)) / '(1,)type'.\n",
      "  _np_qint16 = np.dtype([(\"qint16\", np.int16, 1)])\n",
      "C:\\Users\\dell\\AppData\\Local\\Programs\\Python\\Python36\\lib\\site-packages\\tensorflow\\python\\framework\\dtypes.py:522: FutureWarning: Passing (type, 1) or '1type' as a synonym of type is deprecated; in a future version of numpy, it will be understood as (type, (1,)) / '(1,)type'.\n",
      "  _np_quint16 = np.dtype([(\"quint16\", np.uint16, 1)])\n",
      "C:\\Users\\dell\\AppData\\Local\\Programs\\Python\\Python36\\lib\\site-packages\\tensorflow\\python\\framework\\dtypes.py:523: FutureWarning: Passing (type, 1) or '1type' as a synonym of type is deprecated; in a future version of numpy, it will be understood as (type, (1,)) / '(1,)type'.\n",
      "  _np_qint32 = np.dtype([(\"qint32\", np.int32, 1)])\n",
      "C:\\Users\\dell\\AppData\\Local\\Programs\\Python\\Python36\\lib\\site-packages\\tensorflow\\python\\framework\\dtypes.py:528: FutureWarning: Passing (type, 1) or '1type' as a synonym of type is deprecated; in a future version of numpy, it will be understood as (type, (1,)) / '(1,)type'.\n",
      "  np_resource = np.dtype([(\"resource\", np.ubyte, 1)])\n"
     ]
    },
    {
     "name": "stdout",
     "output_type": "stream",
     "text": [
      "WARNING:tensorflow:From <ipython-input-14-c2ed68bde021>:23: softmax_cross_entropy_with_logits (from tensorflow.python.ops.nn_ops) is deprecated and will be removed in a future version.\n",
      "Instructions for updating:\n",
      "\n",
      "Future major versions of TensorFlow will allow gradients to flow\n",
      "into the labels input on backprop by default.\n",
      "\n",
      "See @{tf.nn.softmax_cross_entropy_with_logits_v2}.\n",
      "\n"
     ]
    }
   ],
   "source": [
    "import tensorflow as tf\n",
    "\n",
    "# Graph input/output\n",
    "x = tf.placeholder(tf.float32, [None, n_steps, n_input])\n",
    "y = tf.placeholder(tf.float32, [None, n_classes])\n",
    "\n",
    "# Graph weights\n",
    "weights = {\n",
    "    'hidden': tf.Variable(tf.random_normal([n_input, n_hidden])), # Hidden layer weights\n",
    "    'out': tf.Variable(tf.random_normal([n_hidden, n_classes], mean=1.0))\n",
    "}\n",
    "biases = {\n",
    "    'hidden': tf.Variable(tf.random_normal([n_hidden])),\n",
    "    'out': tf.Variable(tf.random_normal([n_classes]))\n",
    "}\n",
    "\n",
    "pred = LSTM_RNN(x, weights, biases)\n",
    "\n",
    "# Loss, optimizer and evaluation\n",
    "l2 = lambda_loss_amount * sum(\n",
    "    tf.nn.l2_loss(tf_var) for tf_var in tf.trainable_variables()\n",
    ") # L2 loss prevents this overkill neural network to overfit the data\n",
    "cost = tf.reduce_mean(tf.nn.softmax_cross_entropy_with_logits(labels=y, logits=pred)) + l2 # Softmax loss\n",
    "optimizer = tf.train.AdamOptimizer(learning_rate=learning_rate).minimize(cost) # Adam Optimizer\n",
    "\n",
    "correct_pred = tf.equal(tf.argmax(pred,1), tf.argmax(y,1))\n",
    "accuracy = tf.reduce_mean(tf.cast(correct_pred, tf.float32))\n"
   ]
  },
  {
   "cell_type": "code",
   "execution_count": 15,
   "metadata": {},
   "outputs": [
    {
     "name": "stdout",
     "output_type": "stream",
     "text": [
      "Training iter #1500:   Batch Loss = 2.068297, Accuracy = 0.3473333418369293\n",
      "PERFORMANCE ON TEST SET: Batch Loss = 2.0522637367248535, Accuracy = 0.3109945058822632\n",
      "time train: 17.47511339187622\n",
      "time test: 3.570444345474243\n",
      "Training iter #30000:   Batch Loss = 0.687439, Accuracy = 0.9333333373069763\n",
      "PERFORMANCE ON TEST SET: Batch Loss = 0.9260433912277222, Accuracy = 0.8287622332572937\n",
      "time train: 1.8895182609558105\n",
      "time test: 1.8205533027648926\n",
      "Training iter #60000:   Batch Loss = 0.610160, Accuracy = 0.9526666402816772\n",
      "PERFORMANCE ON TEST SET: Batch Loss = 0.7507930397987366, Accuracy = 0.8993560671806335\n",
      "time train: 1.920717477798462\n",
      "time test: 1.9120283126831055\n",
      "Training iter #90000:   Batch Loss = 0.604124, Accuracy = 0.9673333168029785\n",
      "PERFORMANCE ON TEST SET: Batch Loss = 0.661216139793396, Accuracy = 0.9212973713874817\n",
      "time train: 1.8738608360290527\n",
      "time test: 1.8828012943267822\n",
      "Training iter #120000:   Batch Loss = 0.869877, Accuracy = 0.7853333353996277\n",
      "PERFORMANCE ON TEST SET: Batch Loss = 0.6079859137535095, Accuracy = 0.9379919171333313\n",
      "time train: 2.0366830825805664\n",
      "time test: 1.8739209175109863\n",
      "Training iter #150000:   Batch Loss = 0.514775, Accuracy = 0.9606666564941406\n",
      "PERFORMANCE ON TEST SET: Batch Loss = 0.615178644657135, Accuracy = 0.9279751777648926\n",
      "time train: 1.9831414222717285\n",
      "time test: 1.888828992843628\n",
      "Training iter #180000:   Batch Loss = 0.469815, Accuracy = 0.9779999852180481\n",
      "PERFORMANCE ON TEST SET: Batch Loss = 0.5854324698448181, Accuracy = 0.938468873500824\n",
      "time train: 1.9675893783569336\n",
      "time test: 1.9429585933685303\n",
      "Training iter #210000:   Batch Loss = 0.524118, Accuracy = 0.9559999704360962\n",
      "PERFORMANCE ON TEST SET: Batch Loss = 0.5463022589683533, Accuracy = 0.9556403756141663\n",
      "time train: 1.9362590312957764\n",
      "time test: 1.952071189880371\n",
      "Training iter #240000:   Batch Loss = 0.580469, Accuracy = 0.9453333616256714\n",
      "PERFORMANCE ON TEST SET: Batch Loss = 0.5018419623374939, Accuracy = 0.9618411660194397\n",
      "time train: 2.1842739582061768\n",
      "time test: 1.9627134799957275\n",
      "Training iter #270000:   Batch Loss = 0.521008, Accuracy = 0.9386666417121887\n",
      "PERFORMANCE ON TEST SET: Batch Loss = 0.5427229404449463, Accuracy = 0.9444311857223511\n",
      "time train: 1.974118709564209\n",
      "time test: 1.9204597473144531\n",
      "Training iter #300000:   Batch Loss = 0.493118, Accuracy = 0.968666672706604\n",
      "PERFORMANCE ON TEST SET: Batch Loss = 0.5400376319885254, Accuracy = 0.9496780633926392\n",
      "time train: 2.0054867267608643\n",
      "time test: 2.005587339401245\n",
      "Training iter #330000:   Batch Loss = 0.446181, Accuracy = 0.9793333411216736\n",
      "PERFORMANCE ON TEST SET: Batch Loss = 0.5105828642845154, Accuracy = 0.9563558101654053\n",
      "time train: 1.3034605979919434\n",
      "time test: 1.573157787322998\n",
      "Training iter #360000:   Batch Loss = 0.495110, Accuracy = 0.968666672706604\n",
      "PERFORMANCE ON TEST SET: Batch Loss = 0.4719097316265106, Accuracy = 0.9668495059013367\n",
      "time train: 1.3381133079528809\n",
      "time test: 1.5042481422424316\n",
      "Training iter #390000:   Batch Loss = 0.428863, Accuracy = 0.9793333411216736\n",
      "PERFORMANCE ON TEST SET: Batch Loss = 0.45132678747177124, Accuracy = 0.9718578457832336\n",
      "time train: 1.155688762664795\n",
      "time test: 1.4664478302001953\n",
      "Training iter #420000:   Batch Loss = 0.387056, Accuracy = 0.9853333234786987\n",
      "PERFORMANCE ON TEST SET: Batch Loss = 0.44088923931121826, Accuracy = 0.969711422920227\n",
      "time train: 1.203298568725586\n",
      "time test: 1.5732262134552002\n",
      "Training iter #450000:   Batch Loss = 0.392049, Accuracy = 0.9826666712760925\n",
      "PERFORMANCE ON TEST SET: Batch Loss = 0.43192192912101746, Accuracy = 0.9701884388923645\n",
      "time train: 1.303218126296997\n",
      "time test: 1.5888426303863525\n",
      "Training iter #480000:   Batch Loss = 0.422240, Accuracy = 0.9746666550636292\n",
      "PERFORMANCE ON TEST SET: Batch Loss = 0.4205711781978607, Accuracy = 0.9704269170761108\n",
      "time train: 1.240649700164795\n",
      "time test: 1.4885778427124023\n",
      "Training iter #510000:   Batch Loss = 0.395495, Accuracy = 0.9706666469573975\n",
      "PERFORMANCE ON TEST SET: Batch Loss = 0.4151795506477356, Accuracy = 0.9706653952598572\n",
      "time train: 1.1719751358032227\n",
      "time test: 1.4508845806121826\n",
      "Training iter #540000:   Batch Loss = 0.577978, Accuracy = 0.9293333292007446\n",
      "PERFORMANCE ON TEST SET: Batch Loss = 0.42722824215888977, Accuracy = 0.9723348617553711\n",
      "time train: 1.2723374366760254\n",
      "time test: 1.488586187362671\n",
      "Training iter #570000:   Batch Loss = 0.421366, Accuracy = 0.9660000205039978\n",
      "PERFORMANCE ON TEST SET: Batch Loss = 0.4524100124835968, Accuracy = 0.9618411660194397\n",
      "time train: 1.3034512996673584\n",
      "time test: 1.5666894912719727\n",
      "Training iter #600000:   Batch Loss = 0.401368, Accuracy = 0.9786666631698608\n",
      "PERFORMANCE ON TEST SET: Batch Loss = 0.4188174903392792, Accuracy = 0.97209632396698\n",
      "time train: 1.2813670635223389\n",
      "time test: 1.519794225692749\n",
      "Training iter #630000:   Batch Loss = 0.422605, Accuracy = 0.9700000286102295\n",
      "PERFORMANCE ON TEST SET: Batch Loss = 0.3972111642360687, Accuracy = 0.9728118181228638\n",
      "time train: 1.1405608654022217\n",
      "time test: 1.5041999816894531\n",
      "Training iter #660000:   Batch Loss = 0.333476, Accuracy = 0.9913333058357239\n",
      "PERFORMANCE ON TEST SET: Batch Loss = 0.3827400505542755, Accuracy = 0.9771047234535217\n",
      "time train: 1.2807159423828125\n",
      "time test: 1.4729034900665283\n",
      "Training iter #690000:   Batch Loss = 0.421824, Accuracy = 0.9580000042915344\n",
      "PERFORMANCE ON TEST SET: Batch Loss = 0.41506555676460266, Accuracy = 0.9656570553779602\n",
      "time train: 1.3035309314727783\n",
      "time test: 1.550708293914795\n",
      "Training iter #720000:   Batch Loss = 0.360211, Accuracy = 0.9793333411216736\n",
      "PERFORMANCE ON TEST SET: Batch Loss = 0.3817536234855652, Accuracy = 0.9711423516273499\n",
      "time train: 1.24076247215271\n",
      "time test: 1.5666248798370361\n",
      "Training iter #750000:   Batch Loss = 0.361761, Accuracy = 0.9826666712760925\n",
      "PERFORMANCE ON TEST SET: Batch Loss = 0.3745792806148529, Accuracy = 0.9771047234535217\n",
      "time train: 1.2722830772399902\n",
      "time test: 1.4507646560668945\n",
      "Training iter #780000:   Batch Loss = 0.334124, Accuracy = 0.9860000014305115\n",
      "PERFORMANCE ON TEST SET: Batch Loss = 0.3590330481529236, Accuracy = 0.9744812846183777\n",
      "time train: 1.2565710544586182\n",
      "time test: 1.5354859828948975\n",
      "Training iter #810000:   Batch Loss = 0.307405, Accuracy = 0.9926666617393494\n",
      "PERFORMANCE ON TEST SET: Batch Loss = 0.35320916771888733, Accuracy = 0.9792511463165283\n",
      "time train: 1.165517807006836\n",
      "time test: 1.441676139831543\n",
      "Training iter #840000:   Batch Loss = 0.312282, Accuracy = 0.9893333315849304\n",
      "PERFORMANCE ON TEST SET: Batch Loss = 0.3475653827190399, Accuracy = 0.9813975691795349\n",
      "time train: 1.241065502166748\n",
      "time test: 1.6356892585754395\n",
      "Training iter #870000:   Batch Loss = 0.349329, Accuracy = 0.9786666631698608\n",
      "PERFORMANCE ON TEST SET: Batch Loss = 0.3531654477119446, Accuracy = 0.9737657904624939\n",
      "time train: 1.3256492614746094\n",
      "time test: 1.5354440212249756\n",
      "Training iter #900000:   Batch Loss = 0.338458, Accuracy = 0.9786666631698608\n",
      "PERFORMANCE ON TEST SET: Batch Loss = 0.34262531995773315, Accuracy = 0.9773432016372681\n",
      "time train: 1.2410149574279785\n",
      "time test: 1.582308053970337\n",
      "Training iter #930000:   Batch Loss = 0.291573, Accuracy = 0.9940000176429749\n",
      "PERFORMANCE ON TEST SET: Batch Loss = 0.34269583225250244, Accuracy = 0.9804435968399048\n",
      "time train: 1.1655702590942383\n",
      "time test: 1.4572279453277588\n",
      "Training iter #960000:   Batch Loss = 0.322372, Accuracy = 0.9819999933242798\n",
      "PERFORMANCE ON TEST SET: Batch Loss = 0.3539775311946869, Accuracy = 0.9778201580047607\n",
      "time train: 1.3191397190093994\n",
      "time test: 1.5730998516082764\n",
      "Training iter #990000:   Batch Loss = 0.312314, Accuracy = 0.9806666374206543\n",
      "PERFORMANCE ON TEST SET: Batch Loss = 0.32858696579933167, Accuracy = 0.9780586957931519\n",
      "time train: 1.3570082187652588\n",
      "time test: 1.550999402999878\n",
      "Training iter #1020000:   Batch Loss = 0.325463, Accuracy = 0.9793333411216736\n",
      "PERFORMANCE ON TEST SET: Batch Loss = 0.31764549016952515, Accuracy = 0.9818745255470276\n",
      "time train: 1.2188398838043213\n",
      "time test: 1.4885380268096924\n",
      "Training iter #1050000:   Batch Loss = 0.267436, Accuracy = 0.9959999918937683\n",
      "PERFORMANCE ON TEST SET: Batch Loss = 0.3113458752632141, Accuracy = 0.9830670356750488\n",
      "time train: 1.1720447540283203\n",
      "time test: 1.4664485454559326\n",
      "Training iter #1080000:   Batch Loss = 0.269354, Accuracy = 0.9926666617393494\n"
     ]
    },
    {
     "name": "stdout",
     "output_type": "stream",
     "text": [
      "PERFORMANCE ON TEST SET: Batch Loss = 0.30673637986183167, Accuracy = 0.9828284978866577\n",
      "time train: 1.3503456115722656\n",
      "time test: 1.5888161659240723\n",
      "Training iter #1110000:   Batch Loss = 0.270290, Accuracy = 0.9906666874885559\n",
      "PERFORMANCE ON TEST SET: Batch Loss = 0.30680322647094727, Accuracy = 0.9844979643821716\n",
      "time train: 1.2872984409332275\n",
      "time test: 1.5575482845306396\n",
      "Training iter #1140000:   Batch Loss = 0.305528, Accuracy = 0.9833333492279053\n",
      "PERFORMANCE ON TEST SET: Batch Loss = 0.32034942507743835, Accuracy = 0.9775816798210144\n",
      "time train: 1.3199193477630615\n",
      "time test: 1.562856912612915\n",
      "Training iter #1170000:   Batch Loss = 0.621047, Accuracy = 0.7933333516120911\n",
      "PERFORMANCE ON TEST SET: Batch Loss = 0.47937241196632385, Accuracy = 0.9291676878929138\n",
      "time train: 1.2566378116607666\n",
      "time test: 1.4729151725769043\n",
      "Training iter #1200000:   Batch Loss = 0.312418, Accuracy = 0.9760000109672546\n",
      "PERFORMANCE ON TEST SET: Batch Loss = 0.4078097343444824, Accuracy = 0.9592177271842957\n",
      "time train: 1.319084882736206\n",
      "time test: 1.4729697704315186\n",
      "Training iter #1230000:   Batch Loss = 0.297142, Accuracy = 0.9779999852180481\n",
      "PERFORMANCE ON TEST SET: Batch Loss = 0.3635242283344269, Accuracy = 0.967087984085083\n",
      "time train: 1.250138759613037\n",
      "time test: 1.5260860919952393\n",
      "Training iter #1260000:   Batch Loss = 0.317954, Accuracy = 0.9766666889190674\n",
      "PERFORMANCE ON TEST SET: Batch Loss = 0.3468204736709595, Accuracy = 0.9716193675994873\n",
      "time train: 1.256641149520874\n",
      "time test: 1.5575435161590576\n",
      "Training iter #1290000:   Batch Loss = 0.375018, Accuracy = 0.968666672706604\n",
      "PERFORMANCE ON TEST SET: Batch Loss = 0.3389514684677124, Accuracy = 0.9709038734436035\n",
      "time train: 1.296306848526001\n",
      "time test: 1.472550392150879\n",
      "Training iter #1320000:   Batch Loss = 0.253424, Accuracy = 0.9953333139419556\n",
      "PERFORMANCE ON TEST SET: Batch Loss = 0.3312736451625824, Accuracy = 0.9723348617553711\n",
      "time train: 1.3191642761230469\n",
      "time test: 1.6826517581939697\n",
      "Training iter #1350000:   Batch Loss = 0.260879, Accuracy = 0.9906666874885559\n",
      "PERFORMANCE ON TEST SET: Batch Loss = 0.3246710002422333, Accuracy = 0.9723348617553711\n",
      "time train: 1.403853178024292\n",
      "time test: 1.7516264915466309\n",
      "Training iter #1380000:   Batch Loss = 0.274166, Accuracy = 0.9860000014305115\n",
      "PERFORMANCE ON TEST SET: Batch Loss = 0.3199509382247925, Accuracy = 0.9737657904624939\n",
      "time train: 1.4909024238586426\n",
      "time test: 1.7046082019805908\n",
      "Training iter #1410000:   Batch Loss = 0.320732, Accuracy = 0.9760000109672546\n",
      "PERFORMANCE ON TEST SET: Batch Loss = 0.31054726243019104, Accuracy = 0.9742428064346313\n",
      "time train: 1.4259555339813232\n",
      "time test: 1.785712718963623\n",
      "Training iter #1440000:   Batch Loss = 0.373245, Accuracy = 0.9580000042915344\n",
      "PERFORMANCE ON TEST SET: Batch Loss = 0.3676874041557312, Accuracy = 0.9554018378257751\n",
      "time train: 1.203251600265503\n",
      "time test: 1.5731441974639893\n",
      "Training iter #1470000:   Batch Loss = 0.279432, Accuracy = 0.984666645526886\n",
      "PERFORMANCE ON TEST SET: Batch Loss = 0.31552982330322266, Accuracy = 0.9716193675994873\n",
      "time train: 1.3348138332366943\n",
      "time test: 1.5574312210083008\n",
      "Training iter #1500000:   Batch Loss = 0.249876, Accuracy = 0.9900000095367432\n",
      "PERFORMANCE ON TEST SET: Batch Loss = 0.2989448606967926, Accuracy = 0.9740042686462402\n",
      "time train: 1.3723504543304443\n",
      "time test: 1.68916916847229\n",
      "Training iter #1530000:   Batch Loss = 0.282960, Accuracy = 0.9853333234786987\n",
      "PERFORMANCE ON TEST SET: Batch Loss = 0.29509803652763367, Accuracy = 0.974719762802124\n",
      "time train: 1.3191664218902588\n",
      "time test: 1.5598654747009277\n",
      "Training iter #1560000:   Batch Loss = 0.281867, Accuracy = 0.9766666889190674\n",
      "PERFORMANCE ON TEST SET: Batch Loss = 0.2852875888347626, Accuracy = 0.974719762802124\n",
      "time train: 1.2032339572906494\n",
      "time test: 1.5192711353302002\n",
      "Training iter #1590000:   Batch Loss = 0.221220, Accuracy = 0.9973333477973938\n",
      "PERFORMANCE ON TEST SET: Batch Loss = 0.29002559185028076, Accuracy = 0.9716193675994873\n",
      "time train: 1.2722270488739014\n",
      "time test: 1.5041711330413818\n",
      "Training iter #1620000:   Batch Loss = 0.232484, Accuracy = 0.9913333058357239\n",
      "PERFORMANCE ON TEST SET: Batch Loss = 0.27245667576789856, Accuracy = 0.9754352569580078\n",
      "time train: 1.3569307327270508\n",
      "time test: 1.5197701454162598\n",
      "Training iter #1650000:   Batch Loss = 0.248313, Accuracy = 0.9906666874885559\n",
      "PERFORMANCE ON TEST SET: Batch Loss = 0.26393869519233704, Accuracy = 0.979728102684021\n",
      "time train: 1.519300937652588\n",
      "time test: 1.7199110984802246\n",
      "Training iter #1680000:   Batch Loss = 0.273021, Accuracy = 0.9753333330154419\n",
      "PERFORMANCE ON TEST SET: Batch Loss = 0.26096534729003906, Accuracy = 0.9799666404724121\n",
      "time train: 1.209737777709961\n",
      "time test: 1.4821057319641113\n",
      "Training iter #1710000:   Batch Loss = 0.225067, Accuracy = 0.9940000176429749\n",
      "PERFORMANCE ON TEST SET: Batch Loss = 0.26365578174591064, Accuracy = 0.9768661856651306\n",
      "time train: 1.1875238418579102\n",
      "time test: 1.488410472869873\n",
      "Training iter #1740000:   Batch Loss = 0.208406, Accuracy = 0.9959999918937683\n",
      "PERFORMANCE ON TEST SET: Batch Loss = 0.25571680068969727, Accuracy = 0.9816360473632812\n",
      "time train: 1.2566137313842773\n",
      "time test: 1.5510389804840088\n",
      "Training iter #1770000:   Batch Loss = 0.226838, Accuracy = 0.9913333058357239\n",
      "PERFORMANCE ON TEST SET: Batch Loss = 0.2493094801902771, Accuracy = 0.9825900197029114\n",
      "time train: 1.256700038909912\n",
      "time test: 1.5822019577026367\n",
      "Training iter #1800000:   Batch Loss = 0.261734, Accuracy = 0.984000027179718\n",
      "PERFORMANCE ON TEST SET: Batch Loss = 0.25542211532592773, Accuracy = 0.9775816798210144\n",
      "time train: 1.2878494262695312\n",
      "time test: 1.4885523319244385\n",
      "Training iter #1830000:   Batch Loss = 0.243765, Accuracy = 0.984666645526886\n",
      "PERFORMANCE ON TEST SET: Batch Loss = 0.24782836437225342, Accuracy = 0.9806820750236511\n",
      "time train: 1.265416145324707\n",
      "time test: 1.504201889038086\n",
      "Training iter #1860000:   Batch Loss = 0.202564, Accuracy = 0.9926666617393494\n",
      "PERFORMANCE ON TEST SET: Batch Loss = 0.2517607808113098, Accuracy = 0.9780586957931519\n",
      "time train: 1.287827730178833\n",
      "time test: 1.604464054107666\n",
      "Optimization Finished!\n",
      "FINAL RESULT: Batch Loss = 0.25028711557388306, Accuracy = 0.9768661856651306\n"
     ]
    }
   ],
   "source": [
    "import time\n",
    "\n",
    "# To keep track of training's performance\n",
    "test_losses = []\n",
    "test_accuracies = []\n",
    "train_losses = []\n",
    "train_accuracies = []\n",
    "train_time=[]\n",
    "test_time=[]\n",
    "\n",
    "# Launch the graph\n",
    "sess = tf.InteractiveSession(config=tf.ConfigProto(log_device_placement=True))\n",
    "init = tf.global_variables_initializer()\n",
    "sess.run(init)\n",
    "\n",
    "# Perform Training steps with \"batch_size\" amount of example data at each loop\n",
    "step = 1\n",
    "while step * batch_size <= training_iters:\n",
    "    batch_xs =         extract_batch_size(X_train, step, batch_size)\n",
    "    batch_ys = one_hot(extract_batch_size(y_train, step, batch_size))\n",
    "    start_train = time.time()\n",
    "    \n",
    "    # Fit training using batch data\n",
    "    _, loss, acc = sess.run(\n",
    "        [optimizer, cost, accuracy],\n",
    "        feed_dict={\n",
    "            x: batch_xs, \n",
    "            y: batch_ys\n",
    "        }\n",
    "    )\n",
    "    train_losses.append(loss)\n",
    "    train_accuracies.append(acc)\n",
    "    \n",
    "    # Evaluate network only at some steps for faster training: \n",
    "    if (step*batch_size % display_iter == 0) or (step == 1) or (step * batch_size > training_iters):\n",
    "        start_test = time.time()\n",
    "        # To not spam console, show training accuracy/loss in this \"if\"\n",
    "        print(\"Training iter #\" + str(step*batch_size) + \\\n",
    "              \":   Batch Loss = \" + \"{:.6f}\".format(loss) + \\\n",
    "              \", Accuracy = {}\".format(acc))\n",
    "        \n",
    "        # Evaluation on the test set (no learning made here - just evaluation for diagnosis)\n",
    "        loss, acc = sess.run(\n",
    "            [cost, accuracy], \n",
    "            feed_dict={\n",
    "                x: X_test,\n",
    "                y: one_hot(y_test)\n",
    "            }\n",
    "        )\n",
    "        test_losses.append(loss)\n",
    "        test_accuracies.append(acc)\n",
    "        print(\"PERFORMANCE ON TEST SET: \" + \\\n",
    "              \"Batch Loss = {}\".format(loss) + \\\n",
    "              \", Accuracy = {}\".format(acc))\n",
    "        end_test = time.time()\n",
    "        t_train = start_test -start_train\n",
    "        t_test = end_test -start_test\n",
    "        print(\"time train:\",t_train)\n",
    "        print(\"time test:\",t_test)\n",
    "        train_time.append(t_train)\n",
    "        test_time.append(t_test)\n",
    "    step += 1\n",
    "\n",
    "print(\"Optimization Finished!\")\n",
    "\n",
    "# Accuracy for test data\n",
    "\n",
    "one_hot_predictions, accuracy, final_loss = sess.run(\n",
    "    [pred, accuracy, cost],\n",
    "    feed_dict={\n",
    "        x: X_test,\n",
    "        y: one_hot(y_test)\n",
    "    }\n",
    ")\n",
    "\n",
    "test_losses.append(final_loss)\n",
    "test_accuracies.append(accuracy)\n",
    "\n",
    "print(\"FINAL RESULT: \" + \\\n",
    "      \"Batch Loss = {}\".format(final_loss) + \\\n",
    "      \", Accuracy = {}\".format(accuracy))\n"
   ]
  },
  {
   "cell_type": "code",
   "execution_count": 16,
   "metadata": {},
   "outputs": [
    {
     "data": {
      "text/plain": [
       "<Figure size 864x864 with 0 Axes>"
      ]
     },
     "execution_count": 16,
     "metadata": {},
     "output_type": "execute_result"
    },
    {
     "data": {
      "text/plain": [
       "[<matplotlib.lines.Line2D at 0x126bfff2588>]"
      ]
     },
     "execution_count": 16,
     "metadata": {},
     "output_type": "execute_result"
    },
    {
     "data": {
      "text/plain": [
       "[<matplotlib.lines.Line2D at 0x126bfff29b0>]"
      ]
     },
     "execution_count": 16,
     "metadata": {},
     "output_type": "execute_result"
    },
    {
     "data": {
      "text/plain": [
       "[<matplotlib.lines.Line2D at 0x126bfff2b70>]"
      ]
     },
     "execution_count": 16,
     "metadata": {},
     "output_type": "execute_result"
    },
    {
     "data": {
      "text/plain": [
       "[<matplotlib.lines.Line2D at 0x126bfff2978>]"
      ]
     },
     "execution_count": 16,
     "metadata": {},
     "output_type": "execute_result"
    },
    {
     "data": {
      "text/plain": [
       "Text(0.5, 1.0, \"Training session's progress over iterations\")"
      ]
     },
     "execution_count": 16,
     "metadata": {},
     "output_type": "execute_result"
    },
    {
     "data": {
      "text/plain": [
       "<matplotlib.legend.Legend at 0x126bffd7e80>"
      ]
     },
     "execution_count": 16,
     "metadata": {},
     "output_type": "execute_result"
    },
    {
     "data": {
      "text/plain": [
       "Text(0, 0.5, 'Training Progress (Loss or Accuracy values)')"
      ]
     },
     "execution_count": 16,
     "metadata": {},
     "output_type": "execute_result"
    },
    {
     "data": {
      "text/plain": [
       "Text(0.5, 0, 'Training iteration')"
      ]
     },
     "execution_count": 16,
     "metadata": {},
     "output_type": "execute_result"
    },
    {
     "name": "stderr",
     "output_type": "stream",
     "text": [
      "findfont: Font family ['Bitstream Vera Sans'] not found. Falling back to DejaVu Sans.\n",
      "findfont: Font family ['Bitstream Vera Sans'] not found. Falling back to DejaVu Sans.\n",
      "findfont: Font family ['Bitstream Vera Sans'] not found. Falling back to DejaVu Sans.\n"
     ]
    },
    {
     "data": {
      "image/png": "[encoded data removed]",
      "text/plain": [
       "<Figure size 864x864 with 1 Axes>"
      ]
     },
     "metadata": {
      "needs_background": "light"
     },
     "output_type": "display_data"
    }
   ],
   "source": [
    "# (Inline plots: )\n",
    "%matplotlib inline\n",
    "\n",
    "font = {\n",
    "    'family' : 'Bitstream Vera Sans',\n",
    "    'weight' : 'bold',\n",
    "    'size'   : 18\n",
    "}\n",
    "matplotlib.rc('font', **font)\n",
    "\n",
    "width = 12\n",
    "height = 12\n",
    "plt.figure(figsize=(width, height))\n",
    "\n",
    "indep_train_axis = np.array(range(batch_size, (len(train_losses)+1)*batch_size, batch_size))\n",
    "plt.plot(indep_train_axis, np.array(train_losses),     \"b--\", label=\"Train losses\")\n",
    "plt.plot(indep_train_axis, np.array(train_accuracies), \"g--\", label=\"Train accuracies\")\n",
    "\n",
    "indep_test_axis = np.append(\n",
    "    np.array(range(batch_size, len(test_losses)*display_iter, display_iter)[:-1]),\n",
    "    [training_iters]\n",
    ")\n",
    "plt.plot(indep_test_axis, np.array(test_losses),     \"b-\", label=\"Test losses\")\n",
    "plt.plot(indep_test_axis, np.array(test_accuracies), \"g-\", label=\"Test accuracies\")\n",
    "\n",
    "plt.title(\"Training session's progress over iterations\")\n",
    "plt.legend(loc='upper right', shadow=True)\n",
    "plt.ylabel('Training Progress (Loss or Accuracy values)')\n",
    "plt.xlabel('Training iteration')\n",
    "\n",
    "plt.show()"
   ]
  },
  {
   "cell_type": "code",
   "execution_count": 19,
   "metadata": {},
   "outputs": [
    {
     "name": "stdout",
     "output_type": "stream",
     "text": [
      "Testing Accuracy: 97.68661856651306%\n",
      "\n",
      "Precision: 97.72964670885978%\n",
      "Recall: 97.68662055807297%\n",
      "f1_score: 97.67942366613084%\n",
      "\n",
      "Confusion Matrix:\n",
      "[[ 178    0    0    0]\n",
      " [  14  202    0    3]\n",
      " [   0    0 1243   61]\n",
      " [   2    1   16 2473]]\n",
      "\n",
      "Confusion matrix (normalised to % of total test data):\n",
      "[[4.2451706e+00 0.0000000e+00 0.0000000e+00 0.0000000e+00]\n",
      " [3.3388981e-01 4.8175530e+00 0.0000000e+00 7.1547821e-02]\n",
      " [0.0000000e+00 0.0000000e+00 2.9644648e+01 1.4548056e+00]\n",
      " [4.7698542e-02 2.3849271e-02 3.8158834e-01 5.8979248e+01]]\n",
      "Note: training and testing data is not equally distributed amongst classes, \n",
      "so it is normal that more than a 6th of the data is correctly classifier in the last category.\n"
     ]
    },
    {
     "data": {
      "text/plain": [
       "<Figure size 864x864 with 0 Axes>"
      ]
     },
     "execution_count": 19,
     "metadata": {},
     "output_type": "execute_result"
    },
    {
     "data": {
      "text/plain": [
       "<matplotlib.image.AxesImage at 0x126c0172588>"
      ]
     },
     "execution_count": 19,
     "metadata": {},
     "output_type": "execute_result"
    },
    {
     "data": {
      "text/plain": [
       "Text(0.5, 1.0, 'Confusion matrix \\n(normalised to % of total test data)')"
      ]
     },
     "execution_count": 19,
     "metadata": {},
     "output_type": "execute_result"
    },
    {
     "data": {
      "text/plain": [
       "<matplotlib.colorbar.Colorbar at 0x126c01a0a90>"
      ]
     },
     "execution_count": 19,
     "metadata": {},
     "output_type": "execute_result"
    },
    {
     "data": {
      "text/plain": [
       "([<matplotlib.axis.XTick at 0x126c0167ba8>,\n",
       "  <matplotlib.axis.XTick at 0x126c01674e0>,\n",
       "  <matplotlib.axis.XTick at 0x126c0167390>,\n",
       "  <matplotlib.axis.XTick at 0x126c01b1438>],\n",
       " <a list of 4 Text xticklabel objects>)"
      ]
     },
     "execution_count": 19,
     "metadata": {},
     "output_type": "execute_result"
    },
    {
     "data": {
      "text/plain": [
       "([<matplotlib.axis.YTick at 0x126c0159908>,\n",
       "  <matplotlib.axis.YTick at 0x126c0159240>,\n",
       "  <matplotlib.axis.YTick at 0x126c0134a58>,\n",
       "  <matplotlib.axis.YTick at 0x126c01b1e10>],\n",
       " <a list of 4 Text yticklabel objects>)"
      ]
     },
     "execution_count": 19,
     "metadata": {},
     "output_type": "execute_result"
    },
    {
     "data": {
      "text/plain": [
       "Text(-8.734375, 0.5, 'True label')"
      ]
     },
     "execution_count": 19,
     "metadata": {},
     "output_type": "execute_result"
    },
    {
     "data": {
      "text/plain": [
       "Text(0.5, 116.54562499999997, 'Predicted label')"
      ]
     },
     "execution_count": 19,
     "metadata": {},
     "output_type": "execute_result"
    },
    {
     "data": {
      "image/png": "[encoded data removed]",
      "text/plain": [
       "<Figure size 864x864 with 2 Axes>"
      ]
     },
     "metadata": {
      "needs_background": "light"
     },
     "output_type": "display_data"
    }
   ],
   "source": [
    "# Results\n",
    "\n",
    "predictions = one_hot_predictions.argmax(1)\n",
    "\n",
    "print(\"Testing Accuracy: {}%\".format(100*accuracy))\n",
    "\n",
    "print(\"\")\n",
    "print(\"Precision: {}%\".format(100*metrics.precision_score(y_test, predictions, average=\"weighted\")))\n",
    "print(\"Recall: {}%\".format(100*metrics.recall_score(y_test, predictions, average=\"weighted\")))\n",
    "print(\"f1_score: {}%\".format(100*metrics.f1_score(y_test, predictions, average=\"weighted\")))\n",
    "\n",
    "print(\"\")\n",
    "print(\"Confusion Matrix:\")\n",
    "confusion_matrix = metrics.confusion_matrix(y_test, predictions)\n",
    "print(confusion_matrix)\n",
    "normalised_confusion_matrix = np.array(confusion_matrix, dtype=np.float32)/np.sum(confusion_matrix)*100\n",
    "\n",
    "print(\"\")\n",
    "print(\"Confusion matrix (normalised to % of total test data):\")\n",
    "print(normalised_confusion_matrix)\n",
    "print(\"Note: training and testing data is not equally distributed amongst classes, \")\n",
    "print(\"so it is normal that more than a 6th of the data is correctly classifier in the last category.\")\n",
    "\n",
    "# Plot Results: \n",
    "width = 12\n",
    "height = 12\n",
    "plt.figure(figsize=(width, height))\n",
    "plt.imshow(\n",
    "    normalised_confusion_matrix, \n",
    "    interpolation='nearest', \n",
    "    cmap=plt.cm.rainbow\n",
    ")\n",
    "plt.title(\"Confusion matrix \\n(normalised to % of total test data)\")\n",
    "plt.colorbar()\n",
    "tick_marks = np.arange(n_classes)\n",
    "plt.xticks(tick_marks, LABELS, rotation=90)\n",
    "plt.yticks(tick_marks, LABELS) \n",
    "plt.tight_layout()\n",
    "plt.ylabel('True label')\n",
    "plt.xlabel('Predicted label')\n",
    "plt.show()"
   ]
  },
  {
   "cell_type": "code",
   "execution_count": 20,
   "metadata": {},
   "outputs": [
    {
     "name": "stdout",
     "output_type": "stream",
     "text": [
      "elapsed_time:2469.507484436035[sec]\n",
      "total time train = 103.82978892326355\n",
      "mean time train = 1.64809188767085\n",
      "total time test = 103.24453544616699\n",
      "mean time test = 1.6388021499391585\n"
     ]
    }
   ],
   "source": [
    "end_time1 = time.time()\n",
    "elapsed_time1 = end_time1 - start_time1\n",
    "print (\"elapsed_time:{0}\".format(elapsed_time1) + \"[sec]\")\n",
    "print(\"total time train =\", np.sum(train_time))\n",
    "print(\"mean time train =\", np.mean(train_time))\n",
    "print(\"total time test =\", np.sum(test_time))\n",
    "print(\"mean time test =\", np.mean(test_time))"
   ]
  }
 ],
 "metadata": {
  "kernelspec": {
   "display_name": "Python 3.6.8 64-bit",
   "language": "python",
   "name": "python36864bita6c16f8bd0f8458dae0b3c3b36181794"
  },
  "language_info": {
   "codemirror_mode": {
    "name": "ipython",
    "version": 3
   },
   "file_extension": ".py",
   "mimetype": "text/x-python",
   "name": "python",
   "nbconvert_exporter": "python",
   "pygments_lexer": "ipython3",
   "version": "3.6.8"
  }
 },
 "nbformat": 4,
 "nbformat_minor": 2
}
