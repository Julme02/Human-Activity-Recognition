{
 "cells": [
  {
   "cell_type": "code",
   "execution_count": 1,
   "metadata": {},
   "outputs": [],
   "source": [
    "import numpy as np\n",
    "import matplotlib\n",
    "import matplotlib.pyplot as plt\n",
    "from sklearn import metrics\n",
    "import pandas as pd\n",
    "from scipy import signal\n",
    "from scipy import stats\n",
    "\n",
    "import os\n",
    "from IPython.core.interactiveshell import InteractiveShell\n",
    "InteractiveShell.ast_node_interactivity = 'all'\n",
    "\n",
    "# for svm\n",
    "from sklearn.model_selection import train_test_split\n",
    "from sklearn.model_selection import GridSearchCV\n",
    "from sklearn.metrics import classification_report\n",
    "from sklearn.metrics import confusion_matrix\n",
    "from sklearn.svm import SVC"
   ]
  },
  {
   "cell_type": "code",
   "execution_count": 19,
   "metadata": {},
   "outputs": [
    {
     "data": {
      "text/plain": [
       "Index(['Person', 'State', 'x', 'y', 'z'], dtype='object')"
      ]
     },
     "execution_count": 19,
     "metadata": {},
     "output_type": "execute_result"
    },
    {
     "data": {
      "text/html": [
       "<div>\n",
       "<style scoped>\n",
       "    .dataframe tbody tr th:only-of-type {\n",
       "        vertical-align: middle;\n",
       "    }\n",
       "\n",
       "    .dataframe tbody tr th {\n",
       "        vertical-align: top;\n",
       "    }\n",
       "\n",
       "    .dataframe thead th {\n",
       "        text-align: right;\n",
       "    }\n",
       "</style>\n",
       "<table border=\"1\" class=\"dataframe\">\n",
       "  <thead>\n",
       "    <tr style=\"text-align: right;\">\n",
       "      <th></th>\n",
       "      <th>Person</th>\n",
       "      <th>State</th>\n",
       "      <th>x</th>\n",
       "      <th>y</th>\n",
       "      <th>z</th>\n",
       "    </tr>\n",
       "  </thead>\n",
       "  <tbody>\n",
       "    <tr>\n",
       "      <th>0</th>\n",
       "      <td>33.0</td>\n",
       "      <td>Jogging</td>\n",
       "      <td>-0.694638</td>\n",
       "      <td>12.680544</td>\n",
       "      <td>0.503953</td>\n",
       "    </tr>\n",
       "    <tr>\n",
       "      <th>1</th>\n",
       "      <td>33.0</td>\n",
       "      <td>Jogging</td>\n",
       "      <td>5.012288</td>\n",
       "      <td>11.264028</td>\n",
       "      <td>0.953424</td>\n",
       "    </tr>\n",
       "    <tr>\n",
       "      <th>2</th>\n",
       "      <td>33.0</td>\n",
       "      <td>Jogging</td>\n",
       "      <td>4.903325</td>\n",
       "      <td>10.882658</td>\n",
       "      <td>-0.081722</td>\n",
       "    </tr>\n",
       "    <tr>\n",
       "      <th>3</th>\n",
       "      <td>33.0</td>\n",
       "      <td>Jogging</td>\n",
       "      <td>-0.612916</td>\n",
       "      <td>18.496431</td>\n",
       "      <td>3.023717</td>\n",
       "    </tr>\n",
       "    <tr>\n",
       "      <th>4</th>\n",
       "      <td>33.0</td>\n",
       "      <td>Jogging</td>\n",
       "      <td>-1.184970</td>\n",
       "      <td>12.108489</td>\n",
       "      <td>7.205164</td>\n",
       "    </tr>\n",
       "    <tr>\n",
       "      <th>...</th>\n",
       "      <td>...</td>\n",
       "      <td>...</td>\n",
       "      <td>...</td>\n",
       "      <td>...</td>\n",
       "      <td>...</td>\n",
       "    </tr>\n",
       "    <tr>\n",
       "      <th>1048570</th>\n",
       "      <td>7.0</td>\n",
       "      <td>Standing</td>\n",
       "      <td>-8.080000</td>\n",
       "      <td>5.090000</td>\n",
       "      <td>-0.690000</td>\n",
       "    </tr>\n",
       "    <tr>\n",
       "      <th>1048571</th>\n",
       "      <td>7.0</td>\n",
       "      <td>Standing</td>\n",
       "      <td>-8.120000</td>\n",
       "      <td>5.520000</td>\n",
       "      <td>-0.800000</td>\n",
       "    </tr>\n",
       "    <tr>\n",
       "      <th>1048572</th>\n",
       "      <td>7.0</td>\n",
       "      <td>Standing</td>\n",
       "      <td>-7.890000</td>\n",
       "      <td>5.790000</td>\n",
       "      <td>-0.720000</td>\n",
       "    </tr>\n",
       "    <tr>\n",
       "      <th>1048573</th>\n",
       "      <td>7.0</td>\n",
       "      <td>Standing</td>\n",
       "      <td>-7.890000</td>\n",
       "      <td>5.980000</td>\n",
       "      <td>-0.270000</td>\n",
       "    </tr>\n",
       "    <tr>\n",
       "      <th>1048574</th>\n",
       "      <td>7.0</td>\n",
       "      <td>Standing</td>\n",
       "      <td>-8.120000</td>\n",
       "      <td>5.630000</td>\n",
       "      <td>-0.890000</td>\n",
       "    </tr>\n",
       "  </tbody>\n",
       "</table>\n",
       "<p>1048575 rows × 5 columns</p>\n",
       "</div>"
      ],
      "text/plain": [
       "         Person     State         x          y         z\n",
       "0          33.0   Jogging -0.694638  12.680544  0.503953\n",
       "1          33.0   Jogging  5.012288  11.264028  0.953424\n",
       "2          33.0   Jogging  4.903325  10.882658 -0.081722\n",
       "3          33.0   Jogging -0.612916  18.496431  3.023717\n",
       "4          33.0   Jogging -1.184970  12.108489  7.205164\n",
       "...         ...       ...       ...        ...       ...\n",
       "1048570     7.0  Standing -8.080000   5.090000 -0.690000\n",
       "1048571     7.0  Standing -8.120000   5.520000 -0.800000\n",
       "1048572     7.0  Standing -7.890000   5.790000 -0.720000\n",
       "1048573     7.0  Standing -7.890000   5.980000 -0.270000\n",
       "1048574     7.0  Standing -8.120000   5.630000 -0.890000\n",
       "\n",
       "[1048575 rows x 5 columns]"
      ]
     },
     "execution_count": 19,
     "metadata": {},
     "output_type": "execute_result"
    }
   ],
   "source": [
    "import pandas as pd\n",
    "import time\n",
    "\n",
    "start_time1 = time.time()\n",
    "data = pd.read_excel(r'..\\..\\dataArticle\\publicData\\data.xlsx')\n",
    "data.columns\n",
    "data"
   ]
  },
  {
   "cell_type": "code",
   "execution_count": 3,
   "metadata": {},
   "outputs": [
    {
     "data": {
      "text/html": [
       "<div>\n",
       "<style scoped>\n",
       "    .dataframe tbody tr th:only-of-type {\n",
       "        vertical-align: middle;\n",
       "    }\n",
       "\n",
       "    .dataframe tbody tr th {\n",
       "        vertical-align: top;\n",
       "    }\n",
       "\n",
       "    .dataframe thead th {\n",
       "        text-align: right;\n",
       "    }\n",
       "</style>\n",
       "<table border=\"1\" class=\"dataframe\">\n",
       "  <thead>\n",
       "    <tr style=\"text-align: right;\">\n",
       "      <th></th>\n",
       "      <th>Person</th>\n",
       "      <th>State</th>\n",
       "      <th>x</th>\n",
       "      <th>y</th>\n",
       "      <th>z</th>\n",
       "    </tr>\n",
       "  </thead>\n",
       "  <tbody>\n",
       "    <tr>\n",
       "      <th>0</th>\n",
       "      <td>33.0</td>\n",
       "      <td>Jogging</td>\n",
       "      <td>-0.070833</td>\n",
       "      <td>1.293056</td>\n",
       "      <td>0.051389</td>\n",
       "    </tr>\n",
       "    <tr>\n",
       "      <th>1</th>\n",
       "      <td>33.0</td>\n",
       "      <td>Jogging</td>\n",
       "      <td>0.511111</td>\n",
       "      <td>1.148611</td>\n",
       "      <td>0.097222</td>\n",
       "    </tr>\n",
       "    <tr>\n",
       "      <th>2</th>\n",
       "      <td>33.0</td>\n",
       "      <td>Jogging</td>\n",
       "      <td>0.500000</td>\n",
       "      <td>1.109722</td>\n",
       "      <td>-0.008333</td>\n",
       "    </tr>\n",
       "    <tr>\n",
       "      <th>3</th>\n",
       "      <td>33.0</td>\n",
       "      <td>Jogging</td>\n",
       "      <td>-0.062500</td>\n",
       "      <td>1.886111</td>\n",
       "      <td>0.308333</td>\n",
       "    </tr>\n",
       "    <tr>\n",
       "      <th>4</th>\n",
       "      <td>33.0</td>\n",
       "      <td>Jogging</td>\n",
       "      <td>-0.120833</td>\n",
       "      <td>1.234722</td>\n",
       "      <td>0.734722</td>\n",
       "    </tr>\n",
       "    <tr>\n",
       "      <th>...</th>\n",
       "      <td>...</td>\n",
       "      <td>...</td>\n",
       "      <td>...</td>\n",
       "      <td>...</td>\n",
       "      <td>...</td>\n",
       "    </tr>\n",
       "    <tr>\n",
       "      <th>1048570</th>\n",
       "      <td>7.0</td>\n",
       "      <td>Standing</td>\n",
       "      <td>-0.823931</td>\n",
       "      <td>0.519036</td>\n",
       "      <td>-0.070360</td>\n",
       "    </tr>\n",
       "    <tr>\n",
       "      <th>1048571</th>\n",
       "      <td>7.0</td>\n",
       "      <td>Standing</td>\n",
       "      <td>-0.828010</td>\n",
       "      <td>0.562883</td>\n",
       "      <td>-0.081577</td>\n",
       "    </tr>\n",
       "    <tr>\n",
       "      <th>1048572</th>\n",
       "      <td>7.0</td>\n",
       "      <td>Standing</td>\n",
       "      <td>-0.804556</td>\n",
       "      <td>0.590416</td>\n",
       "      <td>-0.073420</td>\n",
       "    </tr>\n",
       "    <tr>\n",
       "      <th>1048573</th>\n",
       "      <td>7.0</td>\n",
       "      <td>Standing</td>\n",
       "      <td>-0.804556</td>\n",
       "      <td>0.609790</td>\n",
       "      <td>-0.027532</td>\n",
       "    </tr>\n",
       "    <tr>\n",
       "      <th>1048574</th>\n",
       "      <td>7.0</td>\n",
       "      <td>Standing</td>\n",
       "      <td>-0.828010</td>\n",
       "      <td>0.574100</td>\n",
       "      <td>-0.090755</td>\n",
       "    </tr>\n",
       "  </tbody>\n",
       "</table>\n",
       "<p>1048575 rows × 5 columns</p>\n",
       "</div>"
      ],
      "text/plain": [
       "         Person     State         x         y         z\n",
       "0          33.0   Jogging -0.070833  1.293056  0.051389\n",
       "1          33.0   Jogging  0.511111  1.148611  0.097222\n",
       "2          33.0   Jogging  0.500000  1.109722 -0.008333\n",
       "3          33.0   Jogging -0.062500  1.886111  0.308333\n",
       "4          33.0   Jogging -0.120833  1.234722  0.734722\n",
       "...         ...       ...       ...       ...       ...\n",
       "1048570     7.0  Standing -0.823931  0.519036 -0.070360\n",
       "1048571     7.0  Standing -0.828010  0.562883 -0.081577\n",
       "1048572     7.0  Standing -0.804556  0.590416 -0.073420\n",
       "1048573     7.0  Standing -0.804556  0.609790 -0.027532\n",
       "1048574     7.0  Standing -0.828010  0.574100 -0.090755\n",
       "\n",
       "[1048575 rows x 5 columns]"
      ]
     },
     "execution_count": 3,
     "metadata": {},
     "output_type": "execute_result"
    }
   ],
   "source": [
    "G = 9.80665\n",
    "data['x'] = data['x'].div(G)\n",
    "data['y'] = data['y'].div(G)\n",
    "data['z'] = data['z'].div(G)\n",
    "data"
   ]
  },
  {
   "cell_type": "code",
   "execution_count": 4,
   "metadata": {},
   "outputs": [
    {
     "data": {
      "text/html": [
       "<div>\n",
       "<style scoped>\n",
       "    .dataframe tbody tr th:only-of-type {\n",
       "        vertical-align: middle;\n",
       "    }\n",
       "\n",
       "    .dataframe tbody tr th {\n",
       "        vertical-align: top;\n",
       "    }\n",
       "\n",
       "    .dataframe thead th {\n",
       "        text-align: right;\n",
       "    }\n",
       "</style>\n",
       "<table border=\"1\" class=\"dataframe\">\n",
       "  <thead>\n",
       "    <tr style=\"text-align: right;\">\n",
       "      <th></th>\n",
       "      <th>x</th>\n",
       "      <th>y</th>\n",
       "      <th>z</th>\n",
       "    </tr>\n",
       "    <tr>\n",
       "      <th>State</th>\n",
       "      <th></th>\n",
       "      <th></th>\n",
       "      <th></th>\n",
       "    </tr>\n",
       "  </thead>\n",
       "  <tbody>\n",
       "    <tr>\n",
       "      <th>Downstairs</th>\n",
       "      <td>-0.004167</td>\n",
       "      <td>0.508333</td>\n",
       "      <td>0.663889</td>\n",
       "    </tr>\n",
       "    <tr>\n",
       "      <th>Jogging</th>\n",
       "      <td>-0.070833</td>\n",
       "      <td>1.293056</td>\n",
       "      <td>0.051389</td>\n",
       "    </tr>\n",
       "    <tr>\n",
       "      <th>Sitting</th>\n",
       "      <td>0.265126</td>\n",
       "      <td>0.985046</td>\n",
       "      <td>0.105556</td>\n",
       "    </tr>\n",
       "    <tr>\n",
       "      <th>Standing</th>\n",
       "      <td>-0.191707</td>\n",
       "      <td>1.004420</td>\n",
       "      <td>-0.023611</td>\n",
       "    </tr>\n",
       "    <tr>\n",
       "      <th>Upstairs</th>\n",
       "      <td>1.031945</td>\n",
       "      <td>0.441667</td>\n",
       "      <td>-0.386111</td>\n",
       "    </tr>\n",
       "    <tr>\n",
       "      <th>Walking</th>\n",
       "      <td>0.086111</td>\n",
       "      <td>0.816667</td>\n",
       "      <td>0.284722</td>\n",
       "    </tr>\n",
       "  </tbody>\n",
       "</table>\n",
       "</div>"
      ],
      "text/plain": [
       "                   x         y         z\n",
       "State                                   \n",
       "Downstairs -0.004167  0.508333  0.663889\n",
       "Jogging    -0.070833  1.293056  0.051389\n",
       "Sitting     0.265126  0.985046  0.105556\n",
       "Standing   -0.191707  1.004420 -0.023611\n",
       "Upstairs    1.031945  0.441667 -0.386111\n",
       "Walking     0.086111  0.816667  0.284722"
      ]
     },
     "execution_count": 4,
     "metadata": {},
     "output_type": "execute_result"
    }
   ],
   "source": [
    "data = data.drop(columns = 'Person')\n",
    "df = data.groupby(['State'])\n",
    "df.first()"
   ]
  },
  {
   "cell_type": "code",
   "execution_count": 5,
   "metadata": {},
   "outputs": [
    {
     "data": {
      "text/plain": [
       "97813"
      ]
     },
     "execution_count": 5,
     "metadata": {},
     "output_type": "execute_result"
    },
    {
     "data": {
      "text/plain": [
       "325975"
      ]
     },
     "execution_count": 5,
     "metadata": {},
     "output_type": "execute_result"
    },
    {
     "data": {
      "text/plain": [
       "54876"
      ]
     },
     "execution_count": 5,
     "metadata": {},
     "output_type": "execute_result"
    },
    {
     "data": {
      "text/plain": [
       "44541"
      ]
     },
     "execution_count": 5,
     "metadata": {},
     "output_type": "execute_result"
    },
    {
     "data": {
      "text/plain": [
       "118589"
      ]
     },
     "execution_count": 5,
     "metadata": {},
     "output_type": "execute_result"
    },
    {
     "data": {
      "text/plain": [
       "406776"
      ]
     },
     "execution_count": 5,
     "metadata": {},
     "output_type": "execute_result"
    }
   ],
   "source": [
    "Downstairs = df.get_group(('Downstairs'))\n",
    "Jogging = df.get_group(('Jogging'))\n",
    "Sitting = df.get_group(('Sitting'))\n",
    "Standing = df.get_group(('Standing'))\n",
    "Upstairs = df.get_group(('Upstairs'))\n",
    "Walking = df.get_group(('Walking'))\n",
    "\n",
    "len(Downstairs)\n",
    "len(Jogging)\n",
    "len(Sitting)\n",
    "len(Standing)\n",
    "len(Upstairs)\n",
    "len(Walking)"
   ]
  },
  {
   "cell_type": "code",
   "execution_count": 6,
   "metadata": {},
   "outputs": [
    {
     "data": {
      "text/plain": [
       "44541"
      ]
     },
     "execution_count": 6,
     "metadata": {},
     "output_type": "execute_result"
    },
    {
     "data": {
      "text/plain": [
       "54876"
      ]
     },
     "execution_count": 6,
     "metadata": {},
     "output_type": "execute_result"
    },
    {
     "data": {
      "text/plain": [
       "325975"
      ]
     },
     "execution_count": 6,
     "metadata": {},
     "output_type": "execute_result"
    },
    {
     "data": {
      "text/plain": [
       "623178"
      ]
     },
     "execution_count": 6,
     "metadata": {},
     "output_type": "execute_result"
    }
   ],
   "source": [
    "stand = Standing\n",
    "len(stand)\n",
    "sit = Sitting\n",
    "len(sit)\n",
    "jog = Jogging\n",
    "len(jog)\n",
    "walk = Downstairs.append(Upstairs).append(Walking)\n",
    "len(walk)"
   ]
  },
  {
   "cell_type": "code",
   "execution_count": 7,
   "metadata": {},
   "outputs": [
    {
     "data": {
      "text/plain": [
       "623178"
      ]
     },
     "execution_count": 7,
     "metadata": {},
     "output_type": "execute_result"
    },
    {
     "data": {
      "text/plain": [
       "623177"
      ]
     },
     "execution_count": 7,
     "metadata": {},
     "output_type": "execute_result"
    },
    {
     "data": {
      "text/plain": [
       "0"
      ]
     },
     "execution_count": 7,
     "metadata": {},
     "output_type": "execute_result"
    },
    {
     "data": {
      "text/plain": [
       "pandas.core.frame.DataFrame"
      ]
     },
     "execution_count": 7,
     "metadata": {},
     "output_type": "execute_result"
    }
   ],
   "source": [
    "#Check nan value & remove \n",
    "len(walk.index)\n",
    "\n",
    "walk = walk.dropna()\n",
    "walk.index = pd.RangeIndex(len(walk.index))\n",
    "len(walk.index)\n",
    "walk.isnull().sum().sum()\n",
    "\n",
    "type(walk)"
   ]
  },
  {
   "cell_type": "code",
   "execution_count": 25,
   "metadata": {},
   "outputs": [
    {
     "name": "stdout",
     "output_type": "stream",
     "text": [
      "X_stand_train:  268\n",
      "X_stand_test:  177\n",
      "X_sit_train:  330\n",
      "X_sit_test:  218\n",
      "X_jog_train:  1956\n",
      "X_jog_test:  1302\n",
      "X_walk_train:  3740\n",
      "X_walk_test:  2491\n"
     ]
    }
   ],
   "source": [
    "# Split dataset to 2 parts: Train (60%) - Test (40%)\n",
    "#Fs = 20Hz\n",
    "\n",
    "frame = 200\n",
    "stride = 100 \n",
    "ratio = 0.6\n",
    "\n",
    "def splitDatasetToTrain(dataAction):\n",
    "    return [dataAction[i:i+frame] for i in range(0, int(len(dataAction)*ratio), stride)]\n",
    "\n",
    "def splitDatasetToTest(dataAction):\n",
    "    return [dataAction[i:i+frame] for i in range(int(len(dataAction)*ratio),len(dataAction),stride) \n",
    "                    if i+frame<=len(dataAction)]\n",
    "\n",
    "X_stand_train = splitDatasetToTrain(stand)\n",
    "X_stand_test = splitDatasetToTest(stand)\n",
    "\n",
    "\n",
    "X_sit_train = splitDatasetToTrain(sit)\n",
    "X_sit_test = splitDatasetToTest(sit)\n",
    "\n",
    "X_jog_train = splitDatasetToTrain(jog)\n",
    "X_jog_test = splitDatasetToTest(jog)\n",
    "\n",
    "X_walk_train = splitDatasetToTrain(walk)\n",
    "X_walk_test = splitDatasetToTest(walk)\n",
    "\n",
    "print ('X_stand_train: ', len(X_stand_train))\n",
    "print ('X_stand_test: ', len(X_stand_test))\n",
    "\n",
    "print ('X_sit_train: ', len(X_sit_train))\n",
    "print ('X_sit_test: ', len(X_sit_test))\n",
    "\n",
    "print ('X_jog_train: ', len(X_jog_train))\n",
    "print ('X_jog_test: ', len(X_jog_test))\n",
    "\n",
    "print ('X_walk_train: ', len(X_walk_train))\n",
    "print ('X_walk_test: ', len(X_walk_test))"
   ]
  },
  {
   "cell_type": "code",
   "execution_count": 30,
   "metadata": {},
   "outputs": [
    {
     "name": "stdout",
     "output_type": "stream",
     "text": [
      "train-data length:  6294\n",
      "train-label length:  6294\n",
      "test-data length:  4188\n",
      "test-label length:  4188\n"
     ]
    }
   ],
   "source": [
    "# Create a function & don't know how many variables => use splat operator.\n",
    "\n",
    "def mergeArrayAction (*dataActions):\n",
    "    data = {\n",
    "        \"data\": [],\n",
    "        \"label\": []\n",
    "    }\n",
    "    index = 0\n",
    "    for dataAction in dataActions: \n",
    "        for act in dataAction: \n",
    "            data[\"data\"].append(np.array(acts))\n",
    "            data[\"label\"].append(index)\n",
    "        index += 1\n",
    "    return data\n",
    "\n",
    "dataTrain = mergeArrayAction(\n",
    "    X_stand_train,\n",
    "    X_sit_train,\n",
    "    X_jog_train,\n",
    "    X_walk_train, \n",
    ")\n",
    "\n",
    "dataTest = mergeArrayAction(\n",
    "    X_stand_test,\n",
    "    X_sit_test,\n",
    "    X_jog_test,\n",
    "    X_walk_test\n",
    ")\n",
    "\n",
    "train_data = dataTrain[\"data\"]\n",
    "train_label = dataTrain[\"label\"]\n",
    "\n",
    "test_data = dataTest[\"data\"]\n",
    "test_label = dataTest[\"label\"]\n",
    "\n",
    "print('train-data length: ', len(train_data))\n",
    "print('train-label length: ', len(train_label))\n",
    "print('test-data length: ', len(test_data))\n",
    "print('test-label length: ', len(test_label))"
   ]
  },
  {
   "cell_type": "code",
   "execution_count": 10,
   "metadata": {},
   "outputs": [],
   "source": [
    "LABELS = [ \n",
    "    \"STANDING\",\n",
    "    \"SITTING\",\n",
    "    \"JOGGING\",\n",
    "    \"WALKING\"\n",
    "]"
   ]
  },
  {
   "cell_type": "code",
   "execution_count": 11,
   "metadata": {},
   "outputs": [],
   "source": [
    "X_train = np.array(train_data)\n",
    "X_test = np.array(test_data)\n",
    "\n",
    "y_train = np.array(train_label)\n",
    "y_test = np.array(test_label)"
   ]
  },
  {
   "cell_type": "code",
   "execution_count": 12,
   "metadata": {},
   "outputs": [
    {
     "name": "stdout",
     "output_type": "stream",
     "text": [
      "Some useful info to get an insight on dataset's shape and normalisation:\n",
      "(X shape, y shape, every X's mean, every X's standard deviation)\n",
      "(4188, 200, 3) (4188, 1) 0.270408518826341 0.7240390008321335\n",
      "The dataset is therefore properly normalised, as expected, but not yet one-hot encoded.\n"
     ]
    }
   ],
   "source": [
    "# Input Data \n",
    "\n",
    "training_data_count = len(X_train)  # 6294 training series (with 50% overlap between each serie)\n",
    "test_data_count = len(X_test)  # 4188 testing series\n",
    "n_steps = len(X_train[0])  # 200 timesteps per series\n",
    "n_input = len(X_train[0][0])  # 3 input parameters per timestep\n",
    "\n",
    "# LSTM Neural Network's internal structure\n",
    "\n",
    "n_hidden = 32 # Hidden layer num of features\n",
    "n_classes = 4 # Total classes (should go up, or should go down)\n",
    "\n",
    "# Training \n",
    "\n",
    "learning_rate = 0.0025\n",
    "lambda_loss_amount = 0.0015\n",
    "training_iters = training_data_count * 300  # Loop 300 times on the dataset\n",
    "batch_size = 1500\n",
    "display_iter = 30000  # To show test set accuracy during training\n",
    "\n",
    "\n",
    "# Some debugging info\n",
    "print(\"Some useful info to get an insight on dataset's shape and normalisation:\")\n",
    "print(\"(X shape, y shape, every X's mean, every X's standard deviation)\")\n",
    "print(X_test.shape, y_test.shape, np.mean(X_test), np.std(X_test))\n",
    "print(\"The dataset is therefore properly normalised, as expected, but not yet one-hot encoded.\")\n"
   ]
  },
  {
   "cell_type": "code",
   "execution_count": 13,
   "metadata": {},
   "outputs": [],
   "source": [
    "def LSTM_RNN(_X, _weights, _biases):\n",
    "    # Function returns a tensorflow LSTM (RNN) artificial neural network from given parameters. \n",
    "    # Moreover, two LSTM cells are stacked which adds deepness to the neural network. \n",
    "    # Note, some code of this notebook is inspired from an slightly different \n",
    "    # RNN architecture used on another dataset, some of the credits goes to \n",
    "    # \"aymericdamien\" under the MIT license.\n",
    "\n",
    "    # (NOTE: This step could be greatly optimised by shaping the dataset once\n",
    "    # input shape: (batch_size, n_steps, n_input)\n",
    "    _X = tf.transpose(_X, [1, 0, 2])  # permute n_steps and batch_size\n",
    "    # Reshape to prepare input to hidden activation\n",
    "    _X = tf.reshape(_X, [-1, n_input]) \n",
    "    # new shape: (n_steps*batch_size, n_input)\n",
    "    \n",
    "    # ReLU activation, thanks to Yu Zhao for adding this improvement here:\n",
    "    _X = tf.nn.relu(tf.matmul(_X, _weights['hidden']) + _biases['hidden'])\n",
    "    # Split data because rnn cell needs a list of inputs for the RNN inner loop\n",
    "    _X = tf.split(_X, n_steps, 0) \n",
    "    # new shape: n_steps * (batch_size, n_hidden)\n",
    "\n",
    "    # Define two stacked LSTM cells (two recurrent layers deep) with tensorflow\n",
    "    lstm_cell_1 = tf.contrib.rnn.BasicLSTMCell(n_hidden, forget_bias=1.0, state_is_tuple=True)\n",
    "    lstm_cell_2 = tf.contrib.rnn.BasicLSTMCell(n_hidden, forget_bias=1.0, state_is_tuple=True)\n",
    "    lstm_cells = tf.contrib.rnn.MultiRNNCell([lstm_cell_1, lstm_cell_2], state_is_tuple=True)\n",
    "    # Get LSTM cell output\n",
    "    outputs, states = tf.contrib.rnn.static_rnn(lstm_cells, _X, dtype=tf.float32)\n",
    "\n",
    "    # Get last time step's output feature for a \"many-to-one\" style classifier, \n",
    "    # as in the image describing RNNs at the top of this page\n",
    "    lstm_last_output = outputs[-1]\n",
    "    \n",
    "    # Linear activation\n",
    "    return tf.matmul(lstm_last_output, _weights['out']) + _biases['out']\n",
    "\n",
    "\n",
    "def extract_batch_size(_train, step, batch_size):\n",
    "    # Function to fetch a \"batch_size\" amount of data from \"(X|y)_train\" data. \n",
    "    \n",
    "    shape = list(_train.shape)\n",
    "    shape[0] = batch_size\n",
    "    batch_s = np.empty(shape)\n",
    "\n",
    "    for i in range(batch_size):\n",
    "        # Loop index\n",
    "        index = ((step-1)*batch_size + i) % len(_train)\n",
    "        batch_s[i] = _train[index] \n",
    "\n",
    "    return batch_s\n",
    "\n",
    "\n",
    "def one_hot(y_, n_classes=n_classes):\n",
    "    # Function to encode neural one-hot output labels from number indexes \n",
    "    # e.g.: \n",
    "    # one_hot(y_=[[5], [0], [3]], n_classes=6):\n",
    "    #     return [[0, 0, 0, 0, 0, 1], [1, 0, 0, 0, 0, 0], [0, 0, 0, 1, 0, 0]]\n",
    "    \n",
    "    y_ = y_.reshape(len(y_))\n",
    "    return np.eye(n_classes)[np.array(y_, dtype=np.int32)]  # Returns FLOATS\n"
   ]
  },
  {
   "cell_type": "code",
   "execution_count": 14,
   "metadata": {},
   "outputs": [
    {
     "name": "stderr",
     "output_type": "stream",
     "text": [
      "C:\\Users\\dell\\AppData\\Local\\Programs\\Python\\Python36\\lib\\site-packages\\tensorflow\\python\\framework\\dtypes.py:519: FutureWarning: Passing (type, 1) or '1type' as a synonym of type is deprecated; in a future version of numpy, it will be understood as (type, (1,)) / '(1,)type'.\n",
      "  _np_qint8 = np.dtype([(\"qint8\", np.int8, 1)])\n",
      "C:\\Users\\dell\\AppData\\Local\\Programs\\Python\\Python36\\lib\\site-packages\\tensorflow\\python\\framework\\dtypes.py:520: FutureWarning: Passing (type, 1) or '1type' as a synonym of type is deprecated; in a future version of numpy, it will be understood as (type, (1,)) / '(1,)type'.\n",
      "  _np_quint8 = np.dtype([(\"quint8\", np.uint8, 1)])\n",
      "C:\\Users\\dell\\AppData\\Local\\Programs\\Python\\Python36\\lib\\site-packages\\tensorflow\\python\\framework\\dtypes.py:521: FutureWarning: Passing (type, 1) or '1type' as a synonym of type is deprecated; in a future version of numpy, it will be understood as (type, (1,)) / '(1,)type'.\n",
      "  _np_qint16 = np.dtype([(\"qint16\", np.int16, 1)])\n",
      "C:\\Users\\dell\\AppData\\Local\\Programs\\Python\\Python36\\lib\\site-packages\\tensorflow\\python\\framework\\dtypes.py:522: FutureWarning: Passing (type, 1) or '1type' as a synonym of type is deprecated; in a future version of numpy, it will be understood as (type, (1,)) / '(1,)type'.\n",
      "  _np_quint16 = np.dtype([(\"quint16\", np.uint16, 1)])\n",
      "C:\\Users\\dell\\AppData\\Local\\Programs\\Python\\Python36\\lib\\site-packages\\tensorflow\\python\\framework\\dtypes.py:523: FutureWarning: Passing (type, 1) or '1type' as a synonym of type is deprecated; in a future version of numpy, it will be understood as (type, (1,)) / '(1,)type'.\n",
      "  _np_qint32 = np.dtype([(\"qint32\", np.int32, 1)])\n",
      "C:\\Users\\dell\\AppData\\Local\\Programs\\Python\\Python36\\lib\\site-packages\\tensorflow\\python\\framework\\dtypes.py:528: FutureWarning: Passing (type, 1) or '1type' as a synonym of type is deprecated; in a future version of numpy, it will be understood as (type, (1,)) / '(1,)type'.\n",
      "  np_resource = np.dtype([(\"resource\", np.ubyte, 1)])\n"
     ]
    },
    {
     "name": "stdout",
     "output_type": "stream",
     "text": [
      "WARNING:tensorflow:From <ipython-input-14-c2ed68bde021>:23: softmax_cross_entropy_with_logits (from tensorflow.python.ops.nn_ops) is deprecated and will be removed in a future version.\n",
      "Instructions for updating:\n",
      "\n",
      "Future major versions of TensorFlow will allow gradients to flow\n",
      "into the labels input on backprop by default.\n",
      "\n",
      "See @{tf.nn.softmax_cross_entropy_with_logits_v2}.\n",
      "\n"
     ]
    }
   ],
   "source": [
    "import tensorflow as tf\n",
    "\n",
    "# Graph input/output\n",
    "x = tf.placeholder(tf.float32, [None, n_steps, n_input])\n",
    "y = tf.placeholder(tf.float32, [None, n_classes])\n",
    "\n",
    "# Graph weights\n",
    "weights = {\n",
    "    'hidden': tf.Variable(tf.random_normal([n_input, n_hidden])), # Hidden layer weights\n",
    "    'out': tf.Variable(tf.random_normal([n_hidden, n_classes], mean=1.0))\n",
    "}\n",
    "biases = {\n",
    "    'hidden': tf.Variable(tf.random_normal([n_hidden])),\n",
    "    'out': tf.Variable(tf.random_normal([n_classes]))\n",
    "}\n",
    "\n",
    "pred = LSTM_RNN(x, weights, biases)\n",
    "\n",
    "# Loss, optimizer and evaluation\n",
    "l2 = lambda_loss_amount * sum(\n",
    "    tf.nn.l2_loss(tf_var) for tf_var in tf.trainable_variables()\n",
    ") # L2 loss prevents this overkill neural network to overfit the data\n",
    "cost = tf.reduce_mean(tf.nn.softmax_cross_entropy_with_logits(labels=y, logits=pred)) + l2 # Softmax loss\n",
    "optimizer = tf.train.AdamOptimizer(learning_rate=learning_rate).minimize(cost) # Adam Optimizer\n",
    "\n",
    "correct_pred = tf.equal(tf.argmax(pred,1), tf.argmax(y,1))\n",
    "accuracy = tf.reduce_mean(tf.cast(correct_pred, tf.float32))\n"
   ]
  },
  {
   "cell_type": "code",
   "execution_count": 15,
   "metadata": {},
   "outputs": [
    {
     "name": "stdout",
     "output_type": "stream",
     "text": [
      "Training iter #1500:   Batch Loss = 1.927657, Accuracy = 0.1966666728258133\n",
      "PERFORMANCE ON TEST SET: Batch Loss = 2.3498458862304688, Accuracy = 0.3018147051334381\n",
      "time train: 24.259856939315796\n",
      "time test: 5.399974822998047\n",
      "Training iter #30000:   Batch Loss = 0.919698, Accuracy = 0.8600000143051147\n",
      "PERFORMANCE ON TEST SET: Batch Loss = 1.0338499546051025, Accuracy = 0.777220606803894\n",
      "time train: 1.1048600673675537\n",
      "time test: 1.3896727561950684\n",
      "Training iter #60000:   Batch Loss = 0.622468, Accuracy = 0.9606666564941406\n",
      "PERFORMANCE ON TEST SET: Batch Loss = 0.7968276143074036, Accuracy = 0.8612703084945679\n",
      "time train: 1.2351598739624023\n",
      "time test: 1.6000490188598633\n",
      "Training iter #90000:   Batch Loss = 0.594687, Accuracy = 0.9573333263397217\n",
      "PERFORMANCE ON TEST SET: Batch Loss = 0.6895818710327148, Accuracy = 0.8942216038703918\n",
      "time train: 1.2254397869110107\n",
      "time test: 1.6196794509887695\n",
      "Training iter #120000:   Batch Loss = 0.583413, Accuracy = 0.9573333263397217\n",
      "PERFORMANCE ON TEST SET: Batch Loss = 0.6623422503471375, Accuracy = 0.9293218851089478\n",
      "time train: 1.2646822929382324\n",
      "time test: 1.5151176452636719\n",
      "Training iter #150000:   Batch Loss = 0.546910, Accuracy = 0.9326666593551636\n",
      "PERFORMANCE ON TEST SET: Batch Loss = 0.6388224363327026, Accuracy = 0.9348137378692627\n",
      "time train: 1.2049586772918701\n",
      "time test: 1.5450148582458496\n",
      "Training iter #180000:   Batch Loss = 0.523714, Accuracy = 0.95333331823349\n",
      "PERFORMANCE ON TEST SET: Batch Loss = 0.7360833287239075, Accuracy = 0.8944603800773621\n",
      "time train: 1.2349672317504883\n",
      "time test: 1.5246777534484863\n",
      "Training iter #210000:   Batch Loss = 0.495665, Accuracy = 0.9713333249092102\n",
      "PERFORMANCE ON TEST SET: Batch Loss = 0.6826527714729309, Accuracy = 0.9118911027908325\n",
      "time train: 1.244945764541626\n",
      "time test: 1.5400769710540771\n",
      "Training iter #240000:   Batch Loss = 0.432076, Accuracy = 0.9766666889190674\n",
      "PERFORMANCE ON TEST SET: Batch Loss = 0.7047529816627502, Accuracy = 0.9126074314117432\n",
      "time train: 1.2431704998016357\n",
      "time test: 1.5548431873321533\n",
      "Training iter #270000:   Batch Loss = 0.528792, Accuracy = 0.9526666402816772\n",
      "PERFORMANCE ON TEST SET: Batch Loss = 0.6877189874649048, Accuracy = 0.9142788648605347\n",
      "time train: 1.2495858669281006\n",
      "time test: 1.620069980621338\n",
      "Training iter #300000:   Batch Loss = 0.434758, Accuracy = 0.9633333086967468\n",
      "PERFORMANCE ON TEST SET: Batch Loss = 0.6932260394096375, Accuracy = 0.9214422106742859\n",
      "time train: 1.4853761196136475\n",
      "time test: 1.8697831630706787\n",
      "Training iter #330000:   Batch Loss = 0.475020, Accuracy = 0.9660000205039978\n",
      "PERFORMANCE ON TEST SET: Batch Loss = 0.7336825132369995, Accuracy = 0.9085482358932495\n",
      "time train: 1.4347963333129883\n",
      "time test: 1.605010747909546\n",
      "Training iter #360000:   Batch Loss = 0.387805, Accuracy = 0.9893333315849304\n",
      "PERFORMANCE ON TEST SET: Batch Loss = 0.8132164478302002, Accuracy = 0.8911174535751343\n",
      "time train: 1.2647514343261719\n",
      "time test: 1.7202072143554688\n",
      "Training iter #390000:   Batch Loss = 0.368904, Accuracy = 0.987333357334137\n",
      "PERFORMANCE ON TEST SET: Batch Loss = 0.7988860607147217, Accuracy = 0.8906399011611938\n",
      "time train: 1.3695447444915771\n",
      "time test: 1.7802956104278564\n",
      "Training iter #420000:   Batch Loss = 0.411801, Accuracy = 0.9700000286102295\n",
      "PERFORMANCE ON TEST SET: Batch Loss = 0.7578743696212769, Accuracy = 0.90329509973526\n",
      "time train: 1.524815559387207\n",
      "time test: 1.9750573635101318\n",
      "Training iter #450000:   Batch Loss = 0.367194, Accuracy = 0.9800000190734863\n",
      "PERFORMANCE ON TEST SET: Batch Loss = 0.7910728454589844, Accuracy = 0.8858643770217896\n",
      "time train: 1.3948755264282227\n",
      "time test: 1.845144510269165\n",
      "Training iter #480000:   Batch Loss = 0.419249, Accuracy = 0.9739999771118164\n",
      "PERFORMANCE ON TEST SET: Batch Loss = 0.7372528314590454, Accuracy = 0.8982807993888855\n",
      "time train: 1.2349927425384521\n",
      "time test: 1.695328950881958\n",
      "Training iter #510000:   Batch Loss = 0.310943, Accuracy = 1.0\n",
      "PERFORMANCE ON TEST SET: Batch Loss = 0.7605016231536865, Accuracy = 0.8882521390914917\n",
      "time train: 1.2697415351867676\n",
      "time test: 1.69000244140625\n",
      "Training iter #540000:   Batch Loss = 0.487247, Accuracy = 0.9480000138282776\n",
      "PERFORMANCE ON TEST SET: Batch Loss = 0.6751304268836975, Accuracy = 0.877268373966217\n",
      "time train: 1.3698735237121582\n",
      "time test: 1.630181074142456\n",
      "Training iter #570000:   Batch Loss = 0.322046, Accuracy = 0.996666669845581\n",
      "PERFORMANCE ON TEST SET: Batch Loss = 0.6384134292602539, Accuracy = 0.8970869183540344\n",
      "time train: 1.2553064823150635\n",
      "time test: 1.6102123260498047\n",
      "Training iter #600000:   Batch Loss = 0.401235, Accuracy = 0.9693333506584167\n",
      "PERFORMANCE ON TEST SET: Batch Loss = 0.6591377258300781, Accuracy = 0.8892072439193726\n",
      "time train: 1.1797356605529785\n",
      "time test: 1.5402262210845947\n",
      "Training iter #630000:   Batch Loss = 0.332622, Accuracy = 0.9933333396911621\n",
      "PERFORMANCE ON TEST SET: Batch Loss = 0.6637571454048157, Accuracy = 0.8904011249542236\n",
      "time train: 1.295299768447876\n",
      "time test: 1.6100578308105469\n",
      "Training iter #660000:   Batch Loss = 0.335523, Accuracy = 0.9826666712760925\n",
      "PERFORMANCE ON TEST SET: Batch Loss = 0.6843065619468689, Accuracy = 0.8839541673660278\n",
      "time train: 1.2197177410125732\n",
      "time test: 1.5500731468200684\n",
      "Training iter #690000:   Batch Loss = 0.299979, Accuracy = 0.996666669845581\n",
      "PERFORMANCE ON TEST SET: Batch Loss = 0.7774869203567505, Accuracy = 0.8627029657363892\n",
      "time train: 1.260030746459961\n",
      "time test: 1.5850493907928467\n",
      "Training iter #720000:   Batch Loss = 0.354659, Accuracy = 0.9713333249092102\n",
      "PERFORMANCE ON TEST SET: Batch Loss = 0.8468262553215027, Accuracy = 0.8712989687919617\n",
      "time train: 1.2251417636871338\n",
      "time test: 1.6523897647857666\n",
      "Training iter #750000:   Batch Loss = 0.329530, Accuracy = 0.9833333492279053\n",
      "PERFORMANCE ON TEST SET: Batch Loss = 0.7835699319839478, Accuracy = 0.8815664052963257\n",
      "time train: 1.283508539199829\n",
      "time test: 1.5562772750854492\n",
      "Training iter #780000:   Batch Loss = 0.296357, Accuracy = 0.9893333315849304\n",
      "PERFORMANCE ON TEST SET: Batch Loss = 0.7002170085906982, Accuracy = 0.8849092721939087\n",
      "time train: 1.304980754852295\n",
      "time test: 1.5353245735168457\n",
      "Training iter #810000:   Batch Loss = 0.289646, Accuracy = 0.9959999918937683\n",
      "PERFORMANCE ON TEST SET: Batch Loss = 0.7890120148658752, Accuracy = 0.8667621612548828\n",
      "time train: 1.319953203201294\n",
      "time test: 1.5899956226348877\n",
      "Training iter #840000:   Batch Loss = 0.331312, Accuracy = 0.972000002861023\n",
      "PERFORMANCE ON TEST SET: Batch Loss = 0.8521106243133545, Accuracy = 0.8605539798736572\n",
      "time train: 1.394956350326538\n",
      "time test: 1.6601238250732422\n",
      "Training iter #870000:   Batch Loss = 0.305222, Accuracy = 0.9893333315849304\n",
      "PERFORMANCE ON TEST SET: Batch Loss = 0.793212354183197, Accuracy = 0.8791785836219788\n",
      "time train: 1.27500319480896\n",
      "time test: 1.5249793529510498\n",
      "Training iter #900000:   Batch Loss = 0.252195, Accuracy = 1.0\n",
      "PERFORMANCE ON TEST SET: Batch Loss = 0.7993468642234802, Accuracy = 0.8796561360359192\n",
      "time train: 1.4099984169006348\n",
      "time test: 1.589775562286377\n",
      "Training iter #930000:   Batch Loss = 0.278959, Accuracy = 0.9913333058357239\n",
      "PERFORMANCE ON TEST SET: Batch Loss = 0.7714184522628784, Accuracy = 0.8832378387451172\n",
      "time train: 1.2549598217010498\n",
      "time test: 1.6251890659332275\n",
      "Training iter #960000:   Batch Loss = 0.280138, Accuracy = 0.9826666712760925\n",
      "PERFORMANCE ON TEST SET: Batch Loss = 0.7384760975837708, Accuracy = 0.882999062538147\n",
      "time train: 1.3047385215759277\n",
      "time test: 1.6224708557128906\n",
      "Training iter #990000:   Batch Loss = 0.320889, Accuracy = 0.9679999947547913\n",
      "PERFORMANCE ON TEST SET: Batch Loss = 0.6561784744262695, Accuracy = 0.9006685614585876\n",
      "time train: 1.2600646018981934\n",
      "time test: 1.5599172115325928\n",
      "Training iter #1020000:   Batch Loss = 0.279429, Accuracy = 0.9853333234786987\n",
      "PERFORMANCE ON TEST SET: Batch Loss = 0.6245341897010803, Accuracy = 0.906876802444458\n",
      "time train: 1.2864620685577393\n",
      "time test: 1.6231663227081299\n",
      "Training iter #1050000:   Batch Loss = 0.382479, Accuracy = 0.9626666903495789\n",
      "PERFORMANCE ON TEST SET: Batch Loss = 0.4980485737323761, Accuracy = 0.9240687489509583\n",
      "time train: 1.3048555850982666\n",
      "time test: 1.715409278869629\n",
      "Training iter #1080000:   Batch Loss = 0.267371, Accuracy = 0.9913333058357239\n",
      "PERFORMANCE ON TEST SET: Batch Loss = 0.5824757218360901, Accuracy = 0.9104584455490112\n",
      "time train: 1.3002164363861084\n",
      "time test: 1.5299131870269775\n"
     ]
    },
    {
     "name": "stdout",
     "output_type": "stream",
     "text": [
      "Training iter #1110000:   Batch Loss = 0.300892, Accuracy = 0.972000002861023\n",
      "PERFORMANCE ON TEST SET: Batch Loss = 0.6671045422554016, Accuracy = 0.8980420231819153\n",
      "time train: 1.3049204349517822\n",
      "time test: 1.5449223518371582\n",
      "Training iter #1140000:   Batch Loss = 0.266203, Accuracy = 0.9919999837875366\n",
      "PERFORMANCE ON TEST SET: Batch Loss = 0.7507559061050415, Accuracy = 0.8851480484008789\n",
      "time train: 1.239975929260254\n",
      "time test: 1.5200142860412598\n",
      "Training iter #1170000:   Batch Loss = 0.256438, Accuracy = 0.9886666536331177\n",
      "PERFORMANCE ON TEST SET: Batch Loss = 0.7128365635871887, Accuracy = 0.8923113942146301\n",
      "time train: 1.2002043724060059\n",
      "time test: 1.5002236366271973\n",
      "Training iter #1200000:   Batch Loss = 0.237890, Accuracy = 0.9986666440963745\n",
      "PERFORMANCE ON TEST SET: Batch Loss = 0.76604163646698, Accuracy = 0.8782234787940979\n",
      "time train: 1.2648403644561768\n",
      "time test: 1.6298980712890625\n",
      "Training iter #1230000:   Batch Loss = 0.264144, Accuracy = 0.9793333411216736\n",
      "PERFORMANCE ON TEST SET: Batch Loss = 0.7967708110809326, Accuracy = 0.8899235725402832\n",
      "time train: 1.3352470397949219\n",
      "time test: 1.6597235202789307\n",
      "Training iter #1260000:   Batch Loss = 0.252696, Accuracy = 0.9913333058357239\n",
      "PERFORMANCE ON TEST SET: Batch Loss = 0.8886468410491943, Accuracy = 0.8803724646568298\n",
      "time train: 1.3696787357330322\n",
      "time test: 1.5250091552734375\n",
      "Training iter #1290000:   Batch Loss = 0.221227, Accuracy = 0.9973333477973938\n",
      "PERFORMANCE ON TEST SET: Batch Loss = 0.7204092741012573, Accuracy = 0.9073543548583984\n",
      "time train: 1.3151180744171143\n",
      "time test: 1.5050914287567139\n",
      "Training iter #1320000:   Batch Loss = 0.221801, Accuracy = 0.9993333220481873\n",
      "PERFORMANCE ON TEST SET: Batch Loss = 0.8161455392837524, Accuracy = 0.8980420231819153\n",
      "time train: 1.280242681503296\n",
      "time test: 1.6099836826324463\n",
      "Training iter #1350000:   Batch Loss = 0.215866, Accuracy = 0.9980000257492065\n",
      "PERFORMANCE ON TEST SET: Batch Loss = 0.9009594917297363, Accuracy = 0.8894460201263428\n",
      "time train: 1.3250501155853271\n",
      "time test: 1.6949915885925293\n",
      "Training iter #1380000:   Batch Loss = 0.339883, Accuracy = 0.9666666388511658\n",
      "PERFORMANCE ON TEST SET: Batch Loss = 0.47475525736808777, Accuracy = 0.9407832026481628\n",
      "time train: 1.3249943256378174\n",
      "time test: 1.634979248046875\n",
      "Training iter #1410000:   Batch Loss = 0.364017, Accuracy = 0.9993333220481873\n",
      "PERFORMANCE ON TEST SET: Batch Loss = 0.4868311882019043, Accuracy = 0.926217794418335\n",
      "time train: 1.280933141708374\n",
      "time test: 1.5794975757598877\n",
      "Training iter #1440000:   Batch Loss = 0.323767, Accuracy = 0.9559999704360962\n",
      "PERFORMANCE ON TEST SET: Batch Loss = 0.5220971703529358, Accuracy = 0.9140400886535645\n",
      "time train: 1.3056061267852783\n",
      "time test: 1.5194697380065918\n",
      "Training iter #1470000:   Batch Loss = 0.232383, Accuracy = 0.9946666955947876\n",
      "PERFORMANCE ON TEST SET: Batch Loss = 0.5209202766418457, Accuracy = 0.9283667802810669\n",
      "time train: 1.2746336460113525\n",
      "time test: 1.7002449035644531\n",
      "Training iter #1500000:   Batch Loss = 0.305863, Accuracy = 0.9620000123977661\n",
      "PERFORMANCE ON TEST SET: Batch Loss = 0.5591225028038025, Accuracy = 0.9083094596862793\n",
      "time train: 1.3200974464416504\n",
      "time test: 1.6498258113861084\n",
      "Training iter #1530000:   Batch Loss = 0.224763, Accuracy = 0.9933333396911621\n",
      "PERFORMANCE ON TEST SET: Batch Loss = 0.6040867567062378, Accuracy = 0.9028175473213196\n",
      "time train: 1.3201406002044678\n",
      "time test: 1.559955358505249\n",
      "Training iter #1560000:   Batch Loss = 0.228516, Accuracy = 0.9926666617393494\n",
      "PERFORMANCE ON TEST SET: Batch Loss = 0.6326000094413757, Accuracy = 0.8956542611122131\n",
      "time train: 1.2901010513305664\n",
      "time test: 1.5299413204193115\n",
      "Training iter #1590000:   Batch Loss = 0.228026, Accuracy = 0.9919999837875366\n",
      "PERFORMANCE ON TEST SET: Batch Loss = 0.6666914224624634, Accuracy = 0.88634192943573\n",
      "time train: 1.255204677581787\n",
      "time test: 1.680105447769165\n",
      "Training iter #1620000:   Batch Loss = 0.267397, Accuracy = 0.9660000205039978\n",
      "PERFORMANCE ON TEST SET: Batch Loss = 0.6688187718391418, Accuracy = 0.8894460201263428\n",
      "time train: 1.3751802444458008\n",
      "time test: 1.6884076595306396\n",
      "Training iter #1650000:   Batch Loss = 0.249370, Accuracy = 0.9800000190734863\n",
      "PERFORMANCE ON TEST SET: Batch Loss = 0.6763062477111816, Accuracy = 0.8899235725402832\n",
      "time train: 1.3201990127563477\n",
      "time test: 1.6549127101898193\n",
      "Training iter #1680000:   Batch Loss = 0.209917, Accuracy = 0.9933333396911621\n",
      "PERFORMANCE ON TEST SET: Batch Loss = 0.6165328025817871, Accuracy = 0.899952232837677\n",
      "time train: 1.2249963283538818\n",
      "time test: 1.519819974899292\n",
      "Training iter #1710000:   Batch Loss = 0.203740, Accuracy = 0.9980000257492065\n",
      "PERFORMANCE ON TEST SET: Batch Loss = 0.6587488651275635, Accuracy = 0.8911174535751343\n",
      "time train: 1.1949315071105957\n",
      "time test: 1.520113229751587\n",
      "Training iter #1740000:   Batch Loss = 0.238182, Accuracy = 0.9726666808128357\n",
      "PERFORMANCE ON TEST SET: Batch Loss = 0.7182887196540833, Accuracy = 0.8791785836219788\n",
      "time train: 1.4198131561279297\n",
      "time test: 1.7152514457702637\n",
      "Training iter #1770000:   Batch Loss = 0.228138, Accuracy = 0.9913333058357239\n",
      "PERFORMANCE ON TEST SET: Batch Loss = 0.6809674501419067, Accuracy = 0.8787010312080383\n",
      "time train: 1.394972801208496\n",
      "time test: 1.6754231452941895\n",
      "Training iter #1800000:   Batch Loss = 0.180343, Accuracy = 1.0\n",
      "PERFORMANCE ON TEST SET: Batch Loss = 0.6613460779190063, Accuracy = 0.8925501704216003\n",
      "time train: 1.2202610969543457\n",
      "time test: 1.5646717548370361\n",
      "Training iter #1830000:   Batch Loss = 0.200060, Accuracy = 0.996666669845581\n",
      "PERFORMANCE ON TEST SET: Batch Loss = 0.6360042095184326, Accuracy = 0.8951767086982727\n",
      "time train: 1.2099881172180176\n",
      "time test: 1.5600879192352295\n",
      "Training iter #1860000:   Batch Loss = 0.196863, Accuracy = 0.9886666536331177\n",
      "PERFORMANCE ON TEST SET: Batch Loss = 0.7054554224014282, Accuracy = 0.8787010312080383\n",
      "time train: 1.3653273582458496\n",
      "time test: 1.564652442932129\n",
      "Optimization Finished!\n",
      "FINAL RESULT: Batch Loss = 0.7155267000198364, Accuracy = 0.8789398074150085\n"
     ]
    }
   ],
   "source": [
    "import time\n",
    "\n",
    "# To keep track of training's performance\n",
    "test_losses = []\n",
    "test_accuracies = []\n",
    "train_losses = []\n",
    "train_accuracies = []\n",
    "train_time=[]\n",
    "test_time=[]\n",
    "\n",
    "# Launch the graph\n",
    "sess = tf.InteractiveSession(config=tf.ConfigProto(log_device_placement=True))\n",
    "init = tf.global_variables_initializer()\n",
    "sess.run(init)\n",
    "\n",
    "# Perform Training steps with \"batch_size\" amount of example data at each loop\n",
    "step = 1\n",
    "while step * batch_size <= training_iters:\n",
    "    batch_xs =         extract_batch_size(X_train, step, batch_size)\n",
    "    batch_ys = one_hot(extract_batch_size(y_train, step, batch_size))\n",
    "    start_train = time.time()\n",
    "    \n",
    "    # Fit training using batch data\n",
    "    _, loss, acc = sess.run(\n",
    "        [optimizer, cost, accuracy],\n",
    "        feed_dict={\n",
    "            x: batch_xs, \n",
    "            y: batch_ys\n",
    "        }\n",
    "    )\n",
    "    train_losses.append(loss)\n",
    "    train_accuracies.append(acc)\n",
    "    \n",
    "    # Evaluate network only at some steps for faster training: \n",
    "    if (step*batch_size % display_iter == 0) or (step == 1) or (step * batch_size > training_iters):\n",
    "        start_test = time.time()\n",
    "        # To not spam console, show training accuracy/loss in this \"if\"\n",
    "        print(\"Training iter #\" + str(step*batch_size) + \\\n",
    "              \":   Batch Loss = \" + \"{:.6f}\".format(loss) + \\\n",
    "              \", Accuracy = {}\".format(acc))\n",
    "        \n",
    "        # Evaluation on the test set (no learning made here - just evaluation for diagnosis)\n",
    "        loss, acc = sess.run(\n",
    "            [cost, accuracy], \n",
    "            feed_dict={\n",
    "                x: X_test,\n",
    "                y: one_hot(y_test)\n",
    "            }\n",
    "        )\n",
    "        test_losses.append(loss)\n",
    "        test_accuracies.append(acc)\n",
    "        print(\"PERFORMANCE ON TEST SET: \" + \\\n",
    "              \"Batch Loss = {}\".format(loss) + \\\n",
    "              \", Accuracy = {}\".format(acc))\n",
    "        end_test = time.time()\n",
    "        t_train = start_test -start_train\n",
    "        t_test = end_test -start_test\n",
    "        print(\"time train:\",t_train)\n",
    "        print(\"time test:\",t_test)\n",
    "        train_time.append(t_train)\n",
    "        test_time.append(t_test)\n",
    "    step += 1\n",
    "\n",
    "print(\"Optimization Finished!\")\n",
    "\n",
    "# Accuracy for test data\n",
    "\n",
    "one_hot_predictions, accuracy, final_loss = sess.run(\n",
    "    [pred, accuracy, cost],\n",
    "    feed_dict={\n",
    "        x: X_test,\n",
    "        y: one_hot(y_test)\n",
    "    }\n",
    ")\n",
    "\n",
    "test_losses.append(final_loss)\n",
    "test_accuracies.append(accuracy)\n",
    "\n",
    "print(\"FINAL RESULT: \" + \\\n",
    "      \"Batch Loss = {}\".format(final_loss) + \\\n",
    "      \", Accuracy = {}\".format(accuracy))\n"
   ]
  },
  {
   "cell_type": "code",
   "execution_count": 16,
   "metadata": {},
   "outputs": [
    {
     "data": {
      "text/plain": [
       "<Figure size 864x864 with 0 Axes>"
      ]
     },
     "execution_count": 16,
     "metadata": {},
     "output_type": "execute_result"
    },
    {
     "data": {
      "text/plain": [
       "[<matplotlib.lines.Line2D at 0x126875db828>]"
      ]
     },
     "execution_count": 16,
     "metadata": {},
     "output_type": "execute_result"
    },
    {
     "data": {
      "text/plain": [
       "[<matplotlib.lines.Line2D at 0x126875dbc18>]"
      ]
     },
     "execution_count": 16,
     "metadata": {},
     "output_type": "execute_result"
    },
    {
     "data": {
      "text/plain": [
       "[<matplotlib.lines.Line2D at 0x126875dba20>]"
      ]
     },
     "execution_count": 16,
     "metadata": {},
     "output_type": "execute_result"
    },
    {
     "data": {
      "text/plain": [
       "[<matplotlib.lines.Line2D at 0x126d815ab38>]"
      ]
     },
     "execution_count": 16,
     "metadata": {},
     "output_type": "execute_result"
    },
    {
     "data": {
      "text/plain": [
       "Text(0.5, 1.0, \"Training session's progress over iterations\")"
      ]
     },
     "execution_count": 16,
     "metadata": {},
     "output_type": "execute_result"
    },
    {
     "data": {
      "text/plain": [
       "<matplotlib.legend.Legend at 0x126875f7438>"
      ]
     },
     "execution_count": 16,
     "metadata": {},
     "output_type": "execute_result"
    },
    {
     "data": {
      "text/plain": [
       "Text(0, 0.5, 'Training Progress (Loss or Accuracy values)')"
      ]
     },
     "execution_count": 16,
     "metadata": {},
     "output_type": "execute_result"
    },
    {
     "data": {
      "text/plain": [
       "Text(0.5, 0, 'Training iteration')"
      ]
     },
     "execution_count": 16,
     "metadata": {},
     "output_type": "execute_result"
    },
    {
     "name": "stderr",
     "output_type": "stream",
     "text": [
      "findfont: Font family ['Bitstream Vera Sans'] not found. Falling back to DejaVu Sans.\n",
      "findfont: Font family ['Bitstream Vera Sans'] not found. Falling back to DejaVu Sans.\n",
      "findfont: Font family ['Bitstream Vera Sans'] not found. Falling back to DejaVu Sans.\n"
     ]
    },
    {
     "data": {
      "image/png": "[encoded data removed]",
      "text/plain": [
       "<Figure size 864x864 with 1 Axes>"
      ]
     },
     "metadata": {
      "needs_background": "light"
     },
     "output_type": "display_data"
    }
   ],
   "source": [
    "# (Inline plots: )\n",
    "%matplotlib inline\n",
    "\n",
    "font = {\n",
    "    'family' : 'Bitstream Vera Sans',\n",
    "    'weight' : 'bold',\n",
    "    'size'   : 18\n",
    "}\n",
    "matplotlib.rc('font', **font)\n",
    "\n",
    "width = 12\n",
    "height = 12\n",
    "plt.figure(figsize=(width, height))\n",
    "\n",
    "indep_train_axis = np.array(range(batch_size, (len(train_losses)+1)*batch_size, batch_size))\n",
    "plt.plot(indep_train_axis, np.array(train_losses),     \"b--\", label=\"Train losses\")\n",
    "plt.plot(indep_train_axis, np.array(train_accuracies), \"g--\", label=\"Train accuracies\")\n",
    "\n",
    "indep_test_axis = np.append(\n",
    "    np.array(range(batch_size, len(test_losses)*display_iter, display_iter)[:-1]),\n",
    "    [training_iters]\n",
    ")\n",
    "plt.plot(indep_test_axis, np.array(test_losses),     \"b-\", label=\"Test losses\")\n",
    "plt.plot(indep_test_axis, np.array(test_accuracies), \"g-\", label=\"Test accuracies\")\n",
    "\n",
    "plt.title(\"Training session's progress over iterations\")\n",
    "plt.legend(loc='upper right', shadow=True)\n",
    "plt.ylabel('Training Progress (Loss or Accuracy values)')\n",
    "plt.xlabel('Training iteration')\n",
    "\n",
    "plt.show()"
   ]
  },
  {
   "cell_type": "code",
   "execution_count": 17,
   "metadata": {},
   "outputs": [
    {
     "name": "stdout",
     "output_type": "stream",
     "text": [
      "Testing Accuracy: 87.89398074150085%\n",
      "\n",
      "Precision: 88.04954217089306%\n",
      "Recall: 87.89398280802291%\n",
      "f1_score: 87.84551668942284%\n",
      "\n",
      "Confusion Matrix:\n",
      "[[ 128    2    0   47]\n",
      " [   0  189    0   29]\n",
      " [   0    2 1079  221]\n",
      " [   0    3  203 2285]]\n",
      "\n",
      "Confusion matrix (normalised to % of total test data):\n",
      "[[3.0563514e+00 4.7755491e-02 0.0000000e+00 1.1222540e+00]\n",
      " [0.0000000e+00 4.5128942e+00 0.0000000e+00 6.9245464e-01]\n",
      " [0.0000000e+00 4.7755491e-02 2.5764088e+01 5.2769818e+00]\n",
      " [0.0000000e+00 7.1633242e-02 4.8471823e+00 5.4560650e+01]]\n",
      "Note: training and testing data is not equally distributed amongst classes, \n",
      "so it is normal that more than a 6th of the data is correctly classifier in the last category.\n"
     ]
    },
    {
     "data": {
      "text/plain": [
       "<Figure size 864x864 with 0 Axes>"
      ]
     },
     "execution_count": 17,
     "metadata": {},
     "output_type": "execute_result"
    },
    {
     "data": {
      "text/plain": [
       "<matplotlib.image.AxesImage at 0x12687674470>"
      ]
     },
     "execution_count": 17,
     "metadata": {},
     "output_type": "execute_result"
    },
    {
     "data": {
      "text/plain": [
       "Text(0.5, 1.0, 'Confusion matrix \\n(normalised to % of total test data)')"
      ]
     },
     "execution_count": 17,
     "metadata": {},
     "output_type": "execute_result"
    },
    {
     "data": {
      "text/plain": [
       "<matplotlib.colorbar.Colorbar at 0x126876a4ef0>"
      ]
     },
     "execution_count": 17,
     "metadata": {},
     "output_type": "execute_result"
    },
    {
     "data": {
      "text/plain": [
       "([<matplotlib.axis.XTick at 0x12687985780>,\n",
       "  <matplotlib.axis.XTick at 0x126879850b8>,\n",
       "  <matplotlib.axis.XTick at 0x12687987da0>,\n",
       "  <matplotlib.axis.XTick at 0x126876b0908>],\n",
       " <a list of 4 Text xticklabel objects>)"
      ]
     },
     "execution_count": 17,
     "metadata": {},
     "output_type": "execute_result"
    },
    {
     "data": {
      "text/plain": [
       "([<matplotlib.axis.YTick at 0x1268798b4e0>,\n",
       "  <matplotlib.axis.YTick at 0x12687985dd8>,\n",
       "  <matplotlib.axis.YTick at 0x12687987dd8>,\n",
       "  <matplotlib.axis.YTick at 0x126876c1390>],\n",
       " <a list of 4 Text yticklabel objects>)"
      ]
     },
     "execution_count": 17,
     "metadata": {},
     "output_type": "execute_result"
    },
    {
     "data": {
      "text/plain": [
       "Text(-8.734375, 0.5, 'True label')"
      ]
     },
     "execution_count": 17,
     "metadata": {},
     "output_type": "execute_result"
    },
    {
     "data": {
      "text/plain": [
       "Text(0.5, 116.54562499999997, 'Predicted label')"
      ]
     },
     "execution_count": 17,
     "metadata": {},
     "output_type": "execute_result"
    },
    {
     "data": {
      "image/png": "[encoded data removed]",
      "text/plain": [
       "<Figure size 864x864 with 2 Axes>"
      ]
     },
     "metadata": {
      "needs_background": "light"
     },
     "output_type": "display_data"
    }
   ],
   "source": [
    "# Results\n",
    "\n",
    "predictions = one_hot_predictions.argmax(1)\n",
    "\n",
    "print(\"Testing Accuracy: {}%\".format(100*accuracy))\n",
    "\n",
    "print(\"\")\n",
    "print(\"Precision: {}%\".format(100*metrics.precision_score(y_test, predictions, average=\"weighted\")))\n",
    "print(\"Recall: {}%\".format(100*metrics.recall_score(y_test, predictions, average=\"weighted\")))\n",
    "print(\"f1_score: {}%\".format(100*metrics.f1_score(y_test, predictions, average=\"weighted\")))\n",
    "\n",
    "print(\"\")\n",
    "print(\"Confusion Matrix:\")\n",
    "confusion_matrix = metrics.confusion_matrix(y_test, predictions)\n",
    "print(confusion_matrix)\n",
    "normalised_confusion_matrix = np.array(confusion_matrix, dtype=np.float32)/np.sum(confusion_matrix)*100\n",
    "\n",
    "print(\"\")\n",
    "print(\"Confusion matrix (normalised to % of total test data):\")\n",
    "print(normalised_confusion_matrix)\n",
    "print(\"Note: training and testing data is not equally distributed amongst classes, \")\n",
    "print(\"so it is normal that more than a 6th of the data is correctly classifier in the last category.\")\n",
    "\n",
    "# Plot Results: \n",
    "width = 12\n",
    "height = 12\n",
    "plt.figure(figsize=(width, height))\n",
    "plt.imshow(\n",
    "    normalised_confusion_matrix, \n",
    "    interpolation='nearest', \n",
    "    cmap=plt.cm.rainbow\n",
    ")\n",
    "plt.title(\"Confusion matrix \\n(normalised to % of total test data)\")\n",
    "plt.colorbar()\n",
    "tick_marks = np.arange(n_classes)\n",
    "plt.xticks(tick_marks, LABELS, rotation=90)\n",
    "plt.yticks(tick_marks, LABELS) \n",
    "plt.tight_layout()\n",
    "plt.ylabel('True label')\n",
    "plt.xlabel('Predicted label')\n",
    "plt.show()"
   ]
  },
  {
   "cell_type": "code",
   "execution_count": 18,
   "metadata": {},
   "outputs": [
    {
     "name": "stdout",
     "output_type": "stream",
     "text": [
      "elapsed_time:1866.115089893341[sec]\n",
      "total time train = 104.4839825630188\n",
      "mean time train = 1.658475913698711\n",
      "total time test = 105.30795574188232\n",
      "mean time test = 1.6715548530457511\n"
     ]
    }
   ],
   "source": [
    "end_time1 = time.time()\n",
    "elapsed_time1 = end_time1 - start_time1\n",
    "print (\"elapsed_time:{0}\".format(elapsed_time1) + \"[sec]\")\n",
    "print(\"total time train =\", np.sum(train_time))\n",
    "print(\"mean time train =\", np.mean(train_time))\n",
    "print(\"total time test =\", np.sum(test_time))\n",
    "print(\"mean time test =\", np.mean(test_time))"
   ]
  },
  {
   "cell_type": "code",
   "execution_count": null,
   "metadata": {},
   "outputs": [],
   "source": []
  },
  {
   "cell_type": "code",
   "execution_count": null,
   "metadata": {},
   "outputs": [],
   "source": []
  }
 ],
 "metadata": {
  "kernelspec": {
   "display_name": "Python 3.6.8 64-bit",
   "language": "python",
   "name": "python36864bita6c16f8bd0f8458dae0b3c3b36181794"
  },
  "language_info": {
   "codemirror_mode": {
    "name": "ipython",
    "version": 3
   },
   "file_extension": ".py",
   "mimetype": "text/x-python",
   "name": "python",
   "nbconvert_exporter": "python",
   "pygments_lexer": "ipython3",
   "version": "3.6.8"
  }
 },
 "nbformat": 4,
 "nbformat_minor": 2
}
